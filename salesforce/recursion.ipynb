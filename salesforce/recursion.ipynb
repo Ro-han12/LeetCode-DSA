{
 "cells": [
  {
   "cell_type": "code",
   "execution_count": 2,
   "metadata": {},
   "outputs": [
    {
     "data": {
      "text/plain": [
       "6"
      ]
     },
     "execution_count": 2,
     "metadata": {},
     "output_type": "execute_result"
    }
   ],
   "source": [
    "def factorial(n):\n",
    "    if n==0:\n",
    "        return 1\n",
    "    else:\n",
    "        return n*factorial(n-1)\n",
    "factorial(3)"
   ]
  },
  {
   "cell_type": "code",
   "execution_count": 10,
   "metadata": {},
   "outputs": [
    {
     "name": "stdout",
     "output_type": "stream",
     "text": [
      "moving from source a to destination c\n",
      "moving disk 2 from a to c\n",
      "moving from source b to destination c\n",
      "moving disk 3 from a to c\n",
      "moving from source b to destination c\n",
      "moving disk 2 from b to c\n",
      "moving from source a to destination c\n",
      "moving disk 4 from a to c\n",
      "moving from source b to destination c\n",
      "moving disk 2 from b to c\n",
      "moving from source a to destination c\n",
      "moving disk 3 from b to c\n",
      "moving from source a to destination c\n",
      "moving disk 2 from a to c\n",
      "moving from source b to destination c\n"
     ]
    }
   ],
   "source": [
    "#tower of honoi \n",
    "def towerofhonoi(n,source,aux,destination):\n",
    "    if n==1:\n",
    "        print(f\"moving from source {source} to destination {destination}\")\n",
    "        return \n",
    "    towerofhonoi(n-1,source,aux,destination)\n",
    "    print(f\"moving disk {n} from {source} to {destination}\")\n",
    "    towerofhonoi(n-1,aux,source,destination) \n",
    "n=4\n",
    "towerofhonoi(n,'a','b','c')\n",
    "\n"
   ]
  },
  {
   "cell_type": "code",
   "execution_count": null,
   "metadata": {},
   "outputs": [],
   "source": []
  }
 ],
 "metadata": {
  "kernelspec": {
   "display_name": "Python 3",
   "language": "python",
   "name": "python3"
  },
  "language_info": {
   "codemirror_mode": {
    "name": "ipython",
    "version": 3
   },
   "file_extension": ".py",
   "mimetype": "text/x-python",
   "name": "python",
   "nbconvert_exporter": "python",
   "pygments_lexer": "ipython3",
   "version": "3.9.6"
  }
 },
 "nbformat": 4,
 "nbformat_minor": 2
}
