{
 "cells": [
  {
   "cell_type": "code",
   "execution_count": 2,
   "metadata": {},
   "outputs": [
    {
     "data": {
      "text/plain": [
       "6"
      ]
     },
     "execution_count": 2,
     "metadata": {},
     "output_type": "execute_result"
    }
   ],
   "source": [
    "def factorial(n):\n",
    "    if n==0:\n",
    "        return 1\n",
    "    else:\n",
    "        return n*factorial(n-1)\n",
    "factorial(3)"
   ]
  },
  {
   "cell_type": "code",
   "execution_count": 10,
   "metadata": {},
   "outputs": [
    {
     "name": "stdout",
     "output_type": "stream",
     "text": [
      "moving from source a to destination c\n",
      "moving disk 2 from a to c\n",
      "moving from source b to destination c\n",
      "moving disk 3 from a to c\n",
      "moving from source b to destination c\n",
      "moving disk 2 from b to c\n",
      "moving from source a to destination c\n",
      "moving disk 4 from a to c\n",
      "moving from source b to destination c\n",
      "moving disk 2 from b to c\n",
      "moving from source a to destination c\n",
      "moving disk 3 from b to c\n",
      "moving from source a to destination c\n",
      "moving disk 2 from a to c\n",
      "moving from source b to destination c\n"
     ]
    }
   ],
   "source": [
    "#tower of honoi \n",
    "def towerofhonoi(n,source,aux,destination):\n",
    "    if n==1:\n",
    "        print(f\"moving from source {source} to destination {destination}\")\n",
    "        return \n",
    "    towerofhonoi(n-1,source,aux,destination)\n",
    "    print(f\"moving disk {n} from {source} to {destination}\")\n",
    "    towerofhonoi(n-1,aux,source,destination) \n",
    "n=4\n",
    "towerofhonoi(n,'a','b','c')\n",
    "\n"
   ]
  },
  {
   "cell_type": "code",
   "execution_count": null,
   "metadata": {},
   "outputs": [],
   "source": [
    "# Python program to reverse a linked list \n",
    "# Time Complexity : O(n) \n",
    "# Space Complexity : O(n) as 'next' \n",
    "#variable is getting created in each loop. \n",
    "\n",
    "# Node class \n",
    "\n",
    "\n",
    "class Node: \n",
    "\n",
    "\t# Constructor to initialize the node object \n",
    "\tdef __init__(self, data): \n",
    "\t\tself.data = data \n",
    "\t\tself.next = None\n",
    "\n",
    "\n",
    "class LinkedList: \n",
    "\n",
    "\t# Function to initialize head \n",
    "\tdef __init__(self): \n",
    "\t\tself.head = None\n",
    "\n",
    "\t# Function to reverse the linked list \n",
    "\tdef reverse(self): \n",
    "\t\tprev = None\n",
    "\t\tcurrent = self.head \n",
    "\t\twhile(current is not None): \n",
    "\t\t\tnext = current.next\n",
    "\t\t\tcurrent.next = prev \n",
    "\t\t\tprev = current \n",
    "\t\t\tcurrent = next\n",
    "\t\tself.head = prev \n",
    "\n",
    "\t# Function to insert a new node at the beginning \n",
    "\tdef push(self, new_data): \n",
    "\t\tnew_node = Node(new_data) \n",
    "\t\tnew_node.next = self.head \n",
    "\t\tself.head = new_node \n",
    "\n",
    "\t# Utility function to print the LinkedList \n",
    "\tdef printList(self): \n",
    "\t\ttemp = self.head \n",
    "\t\twhile(temp): \n",
    "\t\t\tprint (temp.data,end=\" \") \n",
    "\t\t\ttemp = temp.next\n",
    "\n",
    "\n",
    "# Driver program to test above functions \n",
    "llist = LinkedList() \n",
    "llist.push(20) \n",
    "llist.push(4) \n",
    "llist.push(15) \n",
    "llist.push(85) \n",
    "\n",
    "print (\"Given Linked List\") \n",
    "llist.printList() \n",
    "llist.reverse() \n",
    "print (\"\\nReversed Linked List\") \n",
    "llist.printList() \n",
    " \n"
   ]
  }
 ],
 "metadata": {
  "kernelspec": {
   "display_name": "Python 3",
   "language": "python",
   "name": "python3"
  },
  "language_info": {
   "codemirror_mode": {
    "name": "ipython",
    "version": 3
   },
   "file_extension": ".py",
   "mimetype": "text/x-python",
   "name": "python",
   "nbconvert_exporter": "python",
   "pygments_lexer": "ipython3",
   "version": "3.9.6"
  }
 },
 "nbformat": 4,
 "nbformat_minor": 2
}
