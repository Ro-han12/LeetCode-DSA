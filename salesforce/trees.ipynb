{
 "cells": [
  {
   "cell_type": "code",
   "execution_count": null,
   "metadata": {},
   "outputs": [],
   "source": [
    "class Node: \n",
    "\tdef __init__(self, data): \n",
    "\t\tself.data = data \n",
    "\t\tself.right_child = None\n",
    "        self.left_child = None \n",
    "        \n"
   ]
  },
  {
   "cell_type": "code",
   "execution_count": 1,
   "metadata": {},
   "outputs": [
    {
     "name": "stdout",
     "output_type": "stream",
     "text": [
      "Height of tree is 3\n"
     ]
    }
   ],
   "source": [
    "def maxDepth(node):\n",
    "\tif node is None:\n",
    "\t\treturn 0\n",
    "\n",
    "\telse:\n",
    "\n",
    "\t\t# Compute the depth of each subtree\n",
    "\t\tlDepth = maxDepth(node.left)\n",
    "\t\trDepth = maxDepth(node.right)\n",
    "\n",
    "\t\t# Use the larger one\n",
    "\t\tif (lDepth > rDepth):\n",
    "\t\t\treturn lDepth+1\n",
    "\t\telse:\n",
    "\t\t\treturn rDepth+1\n",
    "\n",
    "\n",
    "# Driver program to test above function\n",
    "root = Node(1)\n",
    "root.left = Node(2)\n",
    "root.right = Node(3)\n",
    "root.left.left = Node(4)\n",
    "root.left.right = Node(5)\n",
    "\n",
    "\n",
    "print(\"Height of tree is %d\" % (maxDepth(root)))\n",
    "\n",
    "# This code is contributed by Amit Srivastav\n"
   ]
  },
  {
   "cell_type": "markdown",
   "metadata": {},
   "source": [
    "inorder: 1,7,2,10,9,12\n",
    "post: 1,7,10,9,2,12\n",
    "pre: 12,1,2,7,9,10   "
   ]
  },
  {
   "cell_type": "code",
   "execution_count": 5,
   "metadata": {},
   "outputs": [],
   "source": [
    "def preorder(self,root_node):\n",
    "    current=root_node\n",
    "    if current is None:\n",
    "        return \n",
    "    print(current.data)\n",
    "    print(current.left_child)\n",
    "    print(current.right_child)\n",
    "    \n",
    "def postorder(self,root_node):\n",
    "    current=left_node\n",
    "    if current is None:\n",
    "        return \n",
    "    print(current.data)\n",
    "    print(current.right_child)\n",
    "    print(current.root)\n",
    "    "
   ]
  },
  {
   "cell_type": "code",
   "execution_count": 7,
   "metadata": {},
   "outputs": [
    {
     "name": "stdout",
     "output_type": "stream",
     "text": [
      "3\n"
     ]
    }
   ],
   "source": [
    "# Python program to count leaf nodes in Binary Tree\n",
    "\n",
    "# A Binary tree node\n",
    "class Node:\n",
    "\t\n",
    "\t# Constructor to create a new node\n",
    "\tdef __init__(self, data):\n",
    "\t\tself.data = data \n",
    "\t\tself.left = None\n",
    "\t\tself.right = None\n",
    "\n",
    "# Function to get the count of leaf nodes in binary tree\n",
    "def getLeafCount(node):\n",
    "\tif node is None:\n",
    "\t\treturn 0\n",
    "\tif(node.left is None and node.right is None):\n",
    "\t\treturn 1\n",
    "\telse:\n",
    "\t\treturn getLeafCount(node.left) + getLeafCount(node.right)\n",
    "\n",
    "\n",
    "# Driver program to test above function\n",
    "root = Node(1)\n",
    "root.left = Node(2)\n",
    "root.right = Node(3)\n",
    "root.left.left = Node(4)\n",
    "root.left.right = Node(5)\n",
    "print(getLeafCount(root))\n",
    "\n",
    "\n",
    "\n"
   ]
  },
  {
   "cell_type": "markdown",
   "metadata": {},
   "source": [
    "if root_node is null:\n",
    "print(\"root node is null)\n",
    "if left_node and right_node is none :\n",
    "return 1\n",
    "elif if  is not null:\n",
    "node.left + node.right"
   ]
  }
 ],
 "metadata": {
  "kernelspec": {
   "display_name": "Python 3",
   "language": "python",
   "name": "python3"
  },
  "language_info": {
   "codemirror_mode": {
    "name": "ipython",
    "version": 3
   },
   "file_extension": ".py",
   "mimetype": "text/x-python",
   "name": "python",
   "nbconvert_exporter": "python",
   "pygments_lexer": "ipython3",
   "version": "3.9.6"
  }
 },
 "nbformat": 4,
 "nbformat_minor": 2
}
