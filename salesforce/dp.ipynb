{
 "cells": [
  {
   "cell_type": "code",
   "execution_count": 17,
   "metadata": {},
   "outputs": [
    {
     "name": "stdout",
     "output_type": "stream",
     "text": [
      "timee take: 1712109012.649067\n"
     ]
    }
   ],
   "source": [
    "import time \n",
    "#fib with recursion \n",
    "def fib(n):\n",
    "    if n<=2:\n",
    "        return 1\n",
    "    else:\n",
    "        return fib(n-1)+fib(n-2)\n",
    "fib(34)\n",
    "print(\"timee take:\",time.time())"
   ]
  },
  {
   "cell_type": "code",
   "execution_count": 18,
   "metadata": {},
   "outputs": [
    {
     "name": "stdout",
     "output_type": "stream",
     "text": [
      "timee take: 1712109019.589233\n"
     ]
    }
   ],
   "source": [
    "#without recusion\n",
    "def dyfib(n,lookup):\n",
    "    if n<=2:\n",
    "        lookup[n]=1\n",
    "    if lookup[n] is None:\n",
    "        lookup[n]=dyfib(n-1,lookup) + dyfib(n-2,lookup)\n",
    "    return lookup[n]\n",
    "lookup = [None] * (35)\n",
    "start_time = time.time()\n",
    "dyfib(34,lookup)\n",
    "end_time = time.time()\n",
    "print(\"timee take:\",star)"
   ]
  },
  {
   "cell_type": "code",
   "execution_count": null,
   "metadata": {},
   "outputs": [],
   "source": []
  }
 ],
 "metadata": {
  "kernelspec": {
   "display_name": "Python 3",
   "language": "python",
   "name": "python3"
  },
  "language_info": {
   "codemirror_mode": {
    "name": "ipython",
    "version": 3
   },
   "file_extension": ".py",
   "mimetype": "text/x-python",
   "name": "python",
   "nbconvert_exporter": "python",
   "pygments_lexer": "ipython3",
   "version": "3.9.6"
  }
 },
 "nbformat": 4,
 "nbformat_minor": 2
}
