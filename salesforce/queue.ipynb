{
 "cells": [
  {
   "cell_type": "code",
   "execution_count": 20,
   "metadata": {},
   "outputs": [
    {
     "name": "stdout",
     "output_type": "stream",
     "text": [
      "[9, 11, 34, 78]\n",
      "after deque ops\n",
      "[11, 34, 78]\n"
     ]
    }
   ],
   "source": [
    "class Queue:\n",
    "    def __init__(self):\n",
    "        self.queue=[]\n",
    "    def enque(self, item):\n",
    "        self.queue.append(item)\n",
    "    def denque(self):\n",
    "        if len(self.queue)<1:\n",
    "           return None\n",
    "        return self.queue.pop(0)\n",
    "    def display(self):\n",
    "        print(self.queue)\n",
    "q=Queue()\n",
    "q.enque(9)\n",
    "q.enque(11)\n",
    "q.enque(34)\n",
    "q.enque(78)\n",
    "q.display()\n",
    "q.denque()\n",
    "print(\"after deque ops\")\n",
    "q.display()\n",
    "\n",
    "        "
   ]
  },
  {
   "cell_type": "code",
   "execution_count": null,
   "metadata": {},
   "outputs": [],
   "source": []
  }
 ],
 "metadata": {
  "kernelspec": {
   "display_name": "Python 3",
   "language": "python",
   "name": "python3"
  },
  "language_info": {
   "codemirror_mode": {
    "name": "ipython",
    "version": 3
   },
   "file_extension": ".py",
   "mimetype": "text/x-python",
   "name": "python",
   "nbconvert_exporter": "python",
   "pygments_lexer": "ipython3",
   "version": "3.9.6"
  }
 },
 "nbformat": 4,
 "nbformat_minor": 2
}
