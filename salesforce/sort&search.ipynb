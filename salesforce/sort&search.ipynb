{
 "cells": [
  {
   "cell_type": "code",
   "execution_count": 6,
   "metadata": {},
   "outputs": [
    {
     "data": {
      "text/plain": [
       "3"
      ]
     },
     "execution_count": 6,
     "metadata": {},
     "output_type": "execute_result"
    }
   ],
   "source": [
    "#linear search \n",
    "target=89\n",
    "arr=[23,45,67,89]\n",
    "def linear_search(arr,target):\n",
    "    for i,val in enumerate(l1):\n",
    "        if val == target:\n",
    "            return i\n",
    "    return -1\n",
    "linear_search(arr,target)\n",
    "#O(n)"
   ]
  },
  {
   "cell_type": "code",
   "execution_count": 9,
   "metadata": {},
   "outputs": [
    {
     "name": "stdout",
     "output_type": "stream",
     "text": [
      "element found at index 3\n"
     ]
    }
   ],
   "source": [
    "def searchsort(arr,key):\n",
    "    for i in range(len(arr)):\n",
    "        if arr[i]==key:\n",
    "            return i\n",
    "    return -1\n",
    "key=89\n",
    "arr=[23,45,67,89]\n",
    "index=searchsort(arr,key)\n",
    "if index != -1:\n",
    "    print(f\"element found at index {index}\")\n",
    "else:\n",
    "    print(\"error\")\n"
   ]
  },
  {
   "cell_type": "code",
   "execution_count": 44,
   "metadata": {},
   "outputs": [
    {
     "name": "stdout",
     "output_type": "stream",
     "text": [
      "Sorted array1 is:\n",
      "64 34 25 12 22 11 90 \n",
      "\n",
      "Sorted array2 is:\n",
      "90 65 34 22 \n",
      "\n",
      "Sorted array3 is:\n",
      "64,34,25,12,22,11,90,90,65,34,22\n",
      "\n",
      "\n"
     ]
    }
   ],
   "source": [
    "def bubbleSort(arr):\n",
    "    n=len(arr)\n",
    "    for i in range(n):\n",
    "        swap=False\n",
    "        for j in range(0,n-i-1):\n",
    "            if arr[j]>arr[j+1]:\n",
    "                swap=True\n",
    "                arr[j],arr[j+1]=arr[j+1],arr[j]\n",
    "        if not swap:\n",
    "            return \n",
    "arr1 = [64, 34, 25, 12, 22, 11, 90]\n",
    "arr2=[90,65,34,22]\n",
    "arr3=arr1+arr2\n",
    "bubbleSort(arr)\n",
    "print(\"Sorted array1 is:\")\n",
    "for i in range(len(arr1)):\n",
    "    print(arr1[i],end=' ') \n",
    "print('\\n')  \n",
    "print(\"Sorted array2 is:\")\n",
    "for i in range(len(arr2)):\n",
    "    print(arr2[i],end=' ') \n",
    "print('\\n')   \n",
    "print(\"Sorted array3 is:\")\n",
    "for i in range(len(arr3)):\n",
    "    if(i!=len(arr3)-1): \n",
    "        print(arr3[i],end=\",\") \n",
    "    else:\n",
    "        print(arr3[i])\n",
    "print('\\n') "
   ]
  },
  {
   "cell_type": "code",
   "execution_count": null,
   "metadata": {},
   "outputs": [],
   "source": []
  }
 ],
 "metadata": {
  "kernelspec": {
   "display_name": "Python 3",
   "language": "python",
   "name": "python3"
  },
  "language_info": {
   "codemirror_mode": {
    "name": "ipython",
    "version": 3
   },
   "file_extension": ".py",
   "mimetype": "text/x-python",
   "name": "python",
   "nbconvert_exporter": "python",
   "pygments_lexer": "ipython3",
   "version": "3.9.6"
  }
 },
 "nbformat": 4,
 "nbformat_minor": 2
}
