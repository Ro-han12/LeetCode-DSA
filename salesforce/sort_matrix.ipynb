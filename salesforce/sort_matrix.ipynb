{
 "cells": [
  {
   "cell_type": "code",
   "execution_count": 23,
   "metadata": {},
   "outputs": [
    {
     "data": {
      "text/plain": [
       "2"
      ]
     },
     "execution_count": 23,
     "metadata": {},
     "output_type": "execute_result"
    }
   ],
   "source": [
    "def median(arr):\n",
    "    if len(arr)%2==0:\n",
    "        i=len(arr)//2\n",
    "        z=arr[i]\n",
    "        a=arr[i-1]\n",
    "        ans=(z+a) / 2 \n",
    "        return ans \n",
    "    else:\n",
    "        z=len(arr)//2\n",
    "        ans=arr[z]\n",
    "        return ans \n",
    "    \n",
    "arr1=[1,3]\n",
    "arr2=[2]\n",
    "arr3=arr1+arr2\n",
    "arr3.sort()\n",
    "arr3\n",
    "median(arr3)"
   ]
  }
 ],
 "metadata": {
  "kernelspec": {
   "display_name": "Python 3",
   "language": "python",
   "name": "python3"
  },
  "language_info": {
   "codemirror_mode": {
    "name": "ipython",
    "version": 3
   },
   "file_extension": ".py",
   "mimetype": "text/x-python",
   "name": "python",
   "nbconvert_exporter": "python",
   "pygments_lexer": "ipython3",
   "version": "3.9.6"
  }
 },
 "nbformat": 4,
 "nbformat_minor": 2
}
