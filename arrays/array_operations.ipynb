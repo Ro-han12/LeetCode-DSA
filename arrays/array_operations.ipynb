{
 "cells": [
  {
   "cell_type": "code",
   "execution_count": 2,
   "metadata": {},
   "outputs": [
    {
     "name": "stdout",
     "output_type": "stream",
     "text": [
      "1\n",
      "2\n",
      "3\n",
      "99\n",
      "101\n"
     ]
    }
   ],
   "source": [
    "#create & traverse array\n",
    "from  array import * \n",
    "my_array=array('i',[1,2,3,99,101])\n",
    "my_array\n",
    "for i in my_array:\n",
    "    print(i)\n",
    "\n"
   ]
  },
  {
   "cell_type": "code",
   "execution_count": 3,
   "metadata": {},
   "outputs": [
    {
     "name": "stdout",
     "output_type": "stream",
     "text": [
      "array('i', [1, 2, 3, 99, 101, 999])\n",
      "array('i', [1, 2, 901, 3, 99, 101, 999])\n"
     ]
    }
   ],
   "source": [
    "#acess the elements through inndex\n",
    "my_array[0]\n",
    "#appending element\n",
    "my_array.append(999)\n",
    "print(my_array)\n",
    "#insert\n",
    "my_array.insert(2,901)\n",
    "print(my_array)"
   ]
  },
  {
   "cell_type": "code",
   "execution_count": 4,
   "metadata": {},
   "outputs": [
    {
     "data": {
      "text/plain": [
       "array('i', [1, 2, 901, 3, 99, 101, 999, 801, 802, 803])"
      ]
     },
     "execution_count": 4,
     "metadata": {},
     "output_type": "execute_result"
    }
   ],
   "source": [
    "my_array.extend([801,802,803])\n",
    "my_array"
   ]
  },
  {
   "cell_type": "code",
   "execution_count": 5,
   "metadata": {},
   "outputs": [
    {
     "name": "stdout",
     "output_type": "stream",
     "text": [
      "array('i', [1, 2, 901, 3, 99, 101, 999, 801, 802, 803, 4, 56, 67])\n"
     ]
    }
   ],
   "source": [
    "l=[4,56,67]\n",
    "my_array.fromlist(l)\n",
    "print(my_array)"
   ]
  },
  {
   "cell_type": "code",
   "execution_count": null,
   "metadata": {},
   "outputs": [],
   "source": [
    "from array import *\n",
    "\n",
    "# 1. Create an array and traverse. \n",
    "\n",
    "my_array = array('i',[1,2,3,4,5])\n",
    "\n",
    "for i in my_array:\n",
    "    print(i)\n",
    "\n",
    "\n",
    "# 2. Access individual elements through indexes\n",
    "print(\"Step 2\")\n",
    "print(my_array[3])\n",
    "\n",
    "# 3. Append any value to the array using append() method\n",
    "\n",
    "print(\"Step 3\")\n",
    "my_array.append(6)\n",
    "print(my_array)\n",
    "\n",
    "# 4. Insert value in an array using insert() method\n",
    "print(\"Step 4\")\n",
    "my_array.insert(3, 11)\n",
    "print(my_array)\n",
    "\n",
    "\n",
    "# 5. Extend python array using extend() method\n",
    "print(\"Step 5\")\n",
    "my_array1 = array('i', [10,11,12])\n",
    "my_array.extend(my_array1)\n",
    "print(my_array)\n",
    "\n",
    "# 6. Add items from list into array using fromlist() method\n",
    "print(\"Step 6\")\n",
    "tempList = [20,21,22]\n",
    "my_array.fromlist(tempList)\n",
    "print(my_array)\n",
    "\n",
    "# 7. Remove any array element using remove() method\n",
    "print(\"Step 7\")\n",
    "my_array.remove(11)\n",
    "print(my_array)\n",
    "\n",
    "# 8. Remove last array element using pop() method\n",
    "print(\"Step 8\")\n",
    "my_array.pop()\n",
    "print(my_array)\n",
    "\n",
    "# 9. Fetch any element through its index using index() method\n",
    "print(\"Step 9\")\n",
    "print(my_array.index(21))\n",
    "\n",
    "# 10. Reverse a python array using reverse() method\n",
    "print(\"Step 10\")\n",
    "my_array.reverse()\n",
    "print(my_array)\n",
    "\n",
    "# 11. Get array buffer information through buffer_info() method\n",
    "#buffer_info() returns a tuple containing two elements: the memory address of the start of the buffer and the size of the buffer in bytes.\n",
    "print(\"Step 11\")\n",
    "print(my_array.buffer_info())\n",
    "\n",
    "# 12. Check for number of occurrences of an element using count() method\n",
    "print(\"Step 12\")\n",
    "my_array.append(11)\n",
    "print(my_array.count(11))\n",
    "print(my_array)\n",
    "# 13. Convert array to string using tostring() method\n",
    "print(\"Step 13\")\n",
    "strTemp = my_array.tostring()\n",
    "print(strTemp)\n",
    "ints = array('i')\n",
    "ints.fromstring(strTemp)\n",
    "print(ints)\n",
    "\n",
    "# 14. Convert array to a python list with same elements using tolist() method\n",
    "print(\"Step 14\")\n",
    "# print(my_array.tolist())\n",
    "# 15. Append a string to char array using fromstring() method\n",
    "\n",
    "# 16. Slice Elements from an array\n",
    "print(\"Step 16\")\n",
    "print(my_array[:])\n",
    "\n",
    "\n",
    "\n",
    "\n",
    "\n"
   ]
  }
 ],
 "metadata": {
  "kernelspec": {
   "display_name": "Python 3",
   "language": "python",
   "name": "python3"
  },
  "language_info": {
   "codemirror_mode": {
    "name": "ipython",
    "version": 3
   },
   "file_extension": ".py",
   "mimetype": "text/x-python",
   "name": "python",
   "nbconvert_exporter": "python",
   "pygments_lexer": "ipython3",
   "version": "3.9.6"
  }
 },
 "nbformat": 4,
 "nbformat_minor": 2
}
