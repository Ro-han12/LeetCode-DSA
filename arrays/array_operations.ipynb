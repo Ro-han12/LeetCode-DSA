{
 "cells": [
  {
   "cell_type": "code",
   "execution_count": 4,
   "metadata": {},
   "outputs": [
    {
     "name": "stdout",
     "output_type": "stream",
     "text": [
      "1\n",
      "2\n",
      "3\n",
      "99\n",
      "101\n"
     ]
    }
   ],
   "source": [
    "#create & traverse array\n",
    "from  array import * \n",
    "my_array=array('i',[1,2,3,99,101])\n",
    "my_array\n",
    "for i in my_array:\n",
    "    print(i)\n",
    "\n"
   ]
  },
  {
   "cell_type": "code",
   "execution_count": 12,
   "metadata": {},
   "outputs": [
    {
     "name": "stdout",
     "output_type": "stream",
     "text": [
      "array('i', [1, 2, 901, 3, 99, 101, 999, 999, 999, 999])\n",
      "array('i', [1, 2, 901, 901, 3, 99, 101, 999, 999, 999, 999])\n"
     ]
    }
   ],
   "source": [
    "#acess the elements through inndex\n",
    "my_array[0]\n",
    "#appending element\n",
    "my_array.append(999)\n",
    "print(my_array)\n",
    "#insert\n",
    "my_array.insert(2,901)\n",
    "print(my_array)"
   ]
  },
  {
   "cell_type": "code",
   "execution_count": 15,
   "metadata": {},
   "outputs": [
    {
     "data": {
      "text/plain": [
       "array('i', [1, 2, 901, 901, 3, 99, 101, 999, 999, 999, 999, 801, 802, 803])"
      ]
     },
     "execution_count": 15,
     "metadata": {},
     "output_type": "execute_result"
    }
   ],
   "source": [
    "my_array.extend([801,802,803])\n",
    "my_array"
   ]
  },
  {
   "cell_type": "code",
   "execution_count": 19,
   "metadata": {},
   "outputs": [
    {
     "name": "stdout",
     "output_type": "stream",
     "text": [
      "array('i', [1, 2, 901, 901, 3, 99, 101, 999, 999, 999, 999, 801, 802, 803, 4, 56, 67, 4, 56, 67])\n"
     ]
    }
   ],
   "source": [
    "l=[4,56,67]\n",
    "my_array.fromlist(l)\n",
    "print(my_array)"
   ]
  }
 ],
 "metadata": {
  "kernelspec": {
   "display_name": "Python 3",
   "language": "python",
   "name": "python3"
  },
  "language_info": {
   "codemirror_mode": {
    "name": "ipython",
    "version": 3
   },
   "file_extension": ".py",
   "mimetype": "text/x-python",
   "name": "python",
   "nbconvert_exporter": "python",
   "pygments_lexer": "ipython3",
   "version": "3.9.6"
  }
 },
 "nbformat": 4,
 "nbformat_minor": 2
}
