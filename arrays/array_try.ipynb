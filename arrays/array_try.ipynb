{
 "cells": [
  {
   "cell_type": "code",
   "execution_count": 10,
   "metadata": {},
   "outputs": [
    {
     "data": {
      "text/plain": [
       "array('i', [2, 4, 6, 10])"
      ]
     },
     "execution_count": 10,
     "metadata": {},
     "output_type": "execute_result"
    }
   ],
   "source": [
    "import array \n",
    "arr=array.array('i',[2,4,6,10]) #O(n)\n",
    "arr"
   ]
  },
  {
   "cell_type": "code",
   "execution_count": 13,
   "metadata": {},
   "outputs": [
    {
     "name": "stdout",
     "output_type": "stream",
     "text": [
      "[ 1  2  3 10 11]\n",
      "['1' '2' '3' '10' '11']\n"
     ]
    }
   ],
   "source": [
    "import numpy as np \n",
    "arr1=np.array([1,2,3,10,11],dtype=int) #O(n)\n",
    "arr2=np.array([1,2,3,10,11],dtype=str)\n",
    "print(arr1)\n",
    "print(arr2)\n"
   ]
  },
  {
   "cell_type": "code",
   "execution_count": 49,
   "metadata": {},
   "outputs": [
    {
     "name": "stdout",
     "output_type": "stream",
     "text": [
      "[1, 2, 3, 10, 4, 5]\n"
     ]
    }
   ],
   "source": [
    "def insert_at_position(arr, element, position):\n",
    "    arr.append(None)\n",
    "    for i in range(len(arr) - 1, position, -1):\n",
    "        arr[i] = arr[i - 1]\n",
    "    arr[position] = element\n",
    "\n",
    "my_array = [1, 2, 3, 4, 5]\n",
    "insert_at_position(my_array, 10, 3)\n",
    "print(my_array)"
   ]
  },
  {
   "cell_type": "code",
   "execution_count": 54,
   "metadata": {},
   "outputs": [
    {
     "name": "stdout",
     "output_type": "stream",
     "text": [
      "1\n",
      "2\n",
      "3\n",
      "10\n",
      "4\n",
      "5\n"
     ]
    }
   ],
   "source": [
    "def traverse_arr(arr):\n",
    "    for i in arr:\n",
    "        print(i)\n",
    "traverse_arr(my_array)"
   ]
  },
  {
   "cell_type": "code",
   "execution_count": 62,
   "metadata": {},
   "outputs": [
    {
     "name": "stdout",
     "output_type": "stream",
     "text": [
      "3\n"
     ]
    }
   ],
   "source": [
    "my_array = [1, 2, 3, 4, 5]\n",
    "def access_arr(arr,pos):\n",
    "    if pos > len(arr):\n",
    "        print('IndexError')\n",
    "    else:\n",
    "        print(arr[pos])\n",
    "        \n",
    "access_arr(my_array,2)"
   ]
  },
  {
   "cell_type": "code",
   "execution_count": 68,
   "metadata": {},
   "outputs": [
    {
     "data": {
      "text/plain": [
       "2"
      ]
     },
     "execution_count": 68,
     "metadata": {},
     "output_type": "execute_result"
    }
   ],
   "source": [
    "def linear_search(arr,index):\n",
    "    if index > len(arr):\n",
    "        return 'IndexError'\n",
    "    else:\n",
    "        for i in range(len(arr)):\n",
    "            if index==arr[i]:\n",
    "                return i\n",
    "linear_search(my_array,3)"
   ]
  },
  {
   "cell_type": "code",
   "execution_count": null,
   "metadata": {},
   "outputs": [],
   "source": [
    "def delete_array(arr,index):\n",
    "    \n",
    "    "
   ]
  }
 ],
 "metadata": {
  "kernelspec": {
   "display_name": "Python 3",
   "language": "python",
   "name": "python3"
  },
  "language_info": {
   "codemirror_mode": {
    "name": "ipython",
    "version": 3
   },
   "file_extension": ".py",
   "mimetype": "text/x-python",
   "name": "python",
   "nbconvert_exporter": "python",
   "pygments_lexer": "ipython3",
   "version": "3.9.6"
  }
 },
 "nbformat": 4,
 "nbformat_minor": 2
}
