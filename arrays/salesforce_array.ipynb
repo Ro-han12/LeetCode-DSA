{
 "cells": [
  {
   "cell_type": "code",
   "execution_count": 4,
   "metadata": {},
   "outputs": [
    {
     "name": "stdout",
     "output_type": "stream",
     "text": [
      "monday\n",
      "tuesday\n",
      "wednesday\n",
      "thursday\n",
      "friday\n",
      "saturday\n",
      "sunday\n"
     ]
    }
   ],
   "source": [
    "import numpy as np  #O(n)\n",
    "arr1=np.array(['monday','tuesday','wednesday','thursday','friday','saturday','sunday'],dtype=str)\n",
    "for i in arr1:\n",
    "    print(i)\n",
    "# print(arr1)"
   ]
  },
  {
   "cell_type": "code",
   "execution_count": 20,
   "metadata": {},
   "outputs": [
    {
     "data": {
      "text/plain": [
       "11"
      ]
     },
     "execution_count": 20,
     "metadata": {},
     "output_type": "execute_result"
    }
   ],
   "source": [
    "arr1=[1,2,3,10,11]\n",
    "\n",
    "def largest(arr1):\n",
    "    max=arr1[0]\n",
    "    for i in range(1,len(arr1)):\n",
    "        if arr1[i]>max:\n",
    "            max=arr1[i]\n",
    "    return max\n",
    "largest(arr1)\n",
    "\n",
    "#largest element"
   ]
  },
  {
   "cell_type": "code",
   "execution_count": 21,
   "metadata": {},
   "outputs": [
    {
     "data": {
      "text/plain": [
       "1"
      ]
     },
     "execution_count": 21,
     "metadata": {},
     "output_type": "execute_result"
    }
   ],
   "source": [
    "arr1=[1,2,3,10,11]\n",
    "\n",
    "def largest(arr1):\n",
    "    min=arr1[0]\n",
    "    for i in range(1,len(arr1)):\n",
    "        if arr1[i]<min:\n",
    "            min=arr1[i]\n",
    "    return min\n",
    "largest(arr1)\n",
    "\n",
    "#minimum element"
   ]
  },
  {
   "cell_type": "code",
   "execution_count": null,
   "metadata": {},
   "outputs": [],
   "source": []
  }
 ],
 "metadata": {
  "kernelspec": {
   "display_name": "Python 3",
   "language": "python",
   "name": "python3"
  },
  "language_info": {
   "codemirror_mode": {
    "name": "ipython",
    "version": 3
   },
   "file_extension": ".py",
   "mimetype": "text/x-python",
   "name": "python",
   "nbconvert_exporter": "python",
   "pygments_lexer": "ipython3",
   "version": "3.9.6"
  }
 },
 "nbformat": 4,
 "nbformat_minor": 2
}
