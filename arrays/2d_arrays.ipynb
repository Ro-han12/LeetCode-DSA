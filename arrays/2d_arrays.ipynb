{
 "cells": [
  {
   "cell_type": "code",
   "execution_count": null,
   "metadata": {},
   "outputs": [],
   "source": [
    "#   Created by Elshad Karimov on 05/04/2020.\n",
    "#   Copyright © 2020 AppMillers. All rights reserved.\n",
    "\n",
    "\n",
    "import numpy as np\n",
    "\n",
    "twoDArray = np.array([[11, 15, 10, 6], [10, 14, 11, 5], [12, 17, 12, 8], [15, 18, 14, 9] ])\n",
    "print(twoDArray)\n",
    "\n",
    "# newTwoDArray = np.insert(twoDArray, 1, [[1,2,3,4]], axis=0)\n",
    "# print(newTwoDArray)\n",
    "\n",
    "print(len(twoDArray))\n",
    "\n",
    "newTwoDArray = np.append(twoDArray, [[1,2,3,4]], axis=0)\n",
    "print(newTwoDArray)\n",
    "print(len(newTwoDArray))\n",
    "print(len(newTwoDArray[0]))\n",
    "\n",
    "def accessElements(array, rowIndex, colIndex):\n",
    "    if rowIndex >= len(array) and colIndex >= len(array[0]):\n",
    "        print('Incorrect Index')\n",
    "    else:\n",
    "        print(array[rowIndex][colIndex])\n",
    "\n",
    "accessElements(newTwoDArray, 1, 2)\n",
    "\n",
    "def traverseTDArray(array):\n",
    "    for i in range(len(array)):\n",
    "        for j in range(len(array[0])):\n",
    "            print(array[i][j])\n",
    "\n",
    "\n",
    "traverseTDArray(twoDArray)\n",
    "\n",
    "\n",
    "def searchTDArray(array, value):\n",
    "    for i in range(len(array)):\n",
    "        for j in range(len(array[0])):\n",
    "            if array[i][j] == value:\n",
    "                return 'The value is located index '+str(i)+\" \"+str(j)\n",
    "    return 'The element no found'\n",
    "\n",
    "\n",
    "print(searchTDArray(twoDArray, 444))\n",
    "\n",
    "newTDArray = np.delete(twoDArray, 1, axis=1)\n",
    "print(newTDArray)"
   ]
  }
 ],
 "metadata": {
  "language_info": {
   "name": "python"
  }
 },
 "nbformat": 4,
 "nbformat_minor": 2
}
