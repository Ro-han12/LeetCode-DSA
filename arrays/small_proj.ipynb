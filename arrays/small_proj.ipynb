{
 "cells": [
  {
   "cell_type": "code",
   "execution_count": 5,
   "metadata": {},
   "outputs": [
    {
     "name": "stdout",
     "output_type": "stream",
     "text": [
      "The average temperature for 3 days is :33.666666666666664\n",
      "Days Above Average Temperaturure: 0\n"
     ]
    }
   ],
   "source": [
    "# Find the Days Above Average Temperatur\n",
    "# calculate avg of all days temperature \n",
    "days=int(input(\"how many days of tempearture is required\"))\n",
    "total_temp=0\n",
    "ls=[]\n",
    "for i in range(days):\n",
    "    temp=float(input(f\"Enter the {i}th day's temperature: \"))\n",
    "    ls.append(i)\n",
    "    if i==1:\n",
    "        total_temp = temp\n",
    "    else:\n",
    "        total_temp += temp\n",
    "avg_temp=total_temp/days\n",
    "print(f\"The average temperature for {days} days is :{avg_temp}\")\n",
    "above=0\n",
    "for j in ls:\n",
    "    if j>avg_temp:\n",
    "        above+=1\n",
    "print(\"Days Above Average Temperaturure:\",above)\n",
    "        "
   ]
  },
  {
   "cell_type": "code",
   "execution_count": 21,
   "metadata": {},
   "outputs": [
    {
     "name": "stdout",
     "output_type": "stream",
     "text": [
      "5\n"
     ]
    }
   ],
   "source": [
    "#print out miising number in the array\n",
    "def missiing(arr,n):\n",
    "    total=n*(n+1)//2\n",
    "    sum_arr=sum(arr)\n",
    "    missing=total-sum_arr\n",
    "    return missing  \n",
    "print(missiing([1, 2, 3, 4, 6],6)) "
   ]
  },
  {
   "cell_type": "code",
   "execution_count": null,
   "metadata": {},
   "outputs": [],
   "source": []
  }
 ],
 "metadata": {
  "kernelspec": {
   "display_name": "Python 3",
   "language": "python",
   "name": "python3"
  },
  "language_info": {
   "codemirror_mode": {
    "name": "ipython",
    "version": 3
   },
   "file_extension": ".py",
   "mimetype": "text/x-python",
   "name": "python",
   "nbconvert_exporter": "python",
   "pygments_lexer": "ipython3",
   "version": "3.9.6"
  }
 },
 "nbformat": 4,
 "nbformat_minor": 2
}
