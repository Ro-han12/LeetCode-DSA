{
 "cells": [
  {
   "cell_type": "code",
   "execution_count": null,
   "metadata": {},
   "outputs": [],
   "source": [
    "# leetcode 20\n",
    "class Solution:\n",
    "    def isValid(self, s: str) -> bool:\n",
    "        stack=[]\n",
    "        letsmap={')':'(', ']' : '[' , '}': '{'}\n",
    "        for i in s:\n",
    "            if i in letsmap:\n",
    "                if stack and stack[-1] == letsmap[i]:\n",
    "                    stack.pop()\n",
    "                else:\n",
    "                    return False\n",
    "            else:\n",
    "                stack.append(i)\n",
    "        return True if not stack else False\n",
    "    "
   ]
  },
  {
   "cell_type": "code",
   "execution_count": null,
   "metadata": {},
   "outputs": [],
   "source": [
    "# leetcode 71\n",
    "class Solution:\n",
    "    def simplifyPath(self, path: str) -> str:\n",
    "        stack=[]\n",
    "        curr='' \n",
    "        for c in path + '/':\n",
    "            if c == '/':\n",
    "                if curr == '..':\n",
    "                    if stack :\n",
    "                        stack.pop()\n",
    "                elif curr != '' and curr != '.':\n",
    "                    stack.append(curr)\n",
    "                curr=''\n",
    "            else:\n",
    "                curr+=c\n",
    "        return '/'+'/'.join(stack)\n",
    "\n",
    "\n",
    "        "
   ]
  },
  {
   "cell_type": "code",
   "execution_count": null,
   "metadata": {},
   "outputs": [],
   "source": [
    "# leetcode 225 stacks using queues\n",
    "class MyStack:\n",
    "    \n",
    "    def __init__(self):\n",
    "        self.q=deque()\n",
    "\n",
    "    def push(self, x: int) -> None:\n",
    "        self.q.append(x)\n",
    "        \n",
    "\n",
    "    def pop(self) -> int:\n",
    "        for i in range(len(self.q)-1):\n",
    "            self.push(self.q.popleft())\n",
    "        return self.q.popleft()\n",
    "        \n",
    "\n",
    "    def top(self) -> int:\n",
    "        return self.q[-1]"
   ]
  }
 ],
 "metadata": {
  "kernelspec": {
   "display_name": "Python 3",
   "language": "python",
   "name": "python3"
  },
  "language_info": {
   "codemirror_mode": {
    "name": "ipython",
    "version": 3
   },
   "file_extension": ".py",
   "mimetype": "text/x-python",
   "name": "python",
   "nbconvert_exporter": "python",
   "pygments_lexer": "ipython3",
   "version": "3.10.13"
  }
 },
 "nbformat": 4,
 "nbformat_minor": 2
}
