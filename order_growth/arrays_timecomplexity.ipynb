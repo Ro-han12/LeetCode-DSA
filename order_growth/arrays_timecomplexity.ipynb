{
 "cells": [
  {
   "cell_type": "code",
   "execution_count": 7,
   "metadata": {},
   "outputs": [
    {
     "name": "stdout",
     "output_type": "stream",
     "text": [
      "sum: 15, product: 120\n"
     ]
    }
   ],
   "source": [
    "array=[1,2,3,4,5]\n",
    "def foo(array):\n",
    "    sum=0\n",
    "    product=1\n",
    "    \n",
    "    for i in array:\n",
    "        sum+=i \n",
    "    for i in array:\n",
    "        product*=i\n",
    "    print(\"sum: \"+str(sum)+ \", product: \" +str(product))\n",
    "foo(array)\n",
    "#time: O(N)\n",
    "#SPACE : O(1)"
   ]
  },
  {
   "cell_type": "code",
   "execution_count": 10,
   "metadata": {},
   "outputs": [
    {
     "name": "stdout",
     "output_type": "stream",
     "text": [
      "1, 1 1, 2 1, 3 1, 4 1, 5 2, 1 2, 2 2, 3 2, 4 2, 5 3, 1 3, 2 3, 3 3, 4 3, 5 4, 1 4, 2 4, 3 4, 4 4, 5 5, 1 5, 2 5, 3 5, 4 5, 5 "
     ]
    }
   ],
   "source": [
    "def pairs(array):\n",
    "    for i in array:\n",
    "        for j in array:\n",
    "            print(str(i)+\", \"+str(j), end=\" \")\n",
    "pairs(array)\n",
    "# O(N^2)"
   ]
  },
  {
   "cell_type": "code",
   "execution_count": 20,
   "metadata": {},
   "outputs": [
    {
     "name": "stdout",
     "output_type": "stream",
     "text": [
      "1 2\n",
      "1 3\n",
      "1 4\n",
      "1 5\n",
      "2 3\n",
      "2 4\n",
      "2 5\n",
      "3 4\n",
      "3 5\n",
      "4 5\n"
     ]
    }
   ],
   "source": [
    "def printUnorderedPairs(array):\n",
    "    for i in range(0,len(array)):\n",
    "        for j in range(i+1,len(array)):\n",
    "            print(array[i],array[j])\n",
    "printUnorderedPairs(array)\n",
    "#O(n^2)"
   ]
  },
  {
   "cell_type": "code",
   "execution_count": null,
   "metadata": {},
   "outputs": [],
   "source": []
  }
 ],
 "metadata": {
  "kernelspec": {
   "display_name": "Python 3",
   "language": "python",
   "name": "python3"
  },
  "language_info": {
   "codemirror_mode": {
    "name": "ipython",
    "version": 3
   },
   "file_extension": ".py",
   "mimetype": "text/x-python",
   "name": "python",
   "nbconvert_exporter": "python",
   "pygments_lexer": "ipython3",
   "version": "3.9.6"
  }
 },
 "nbformat": 4,
 "nbformat_minor": 2
}
