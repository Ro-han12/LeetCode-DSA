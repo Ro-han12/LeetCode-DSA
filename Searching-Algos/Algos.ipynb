{
 "cells": [
  {
   "cell_type": "code",
   "execution_count": 7,
   "metadata": {},
   "outputs": [
    {
     "data": {
      "text/plain": [
       "'Element present at index 6'"
      ]
     },
     "execution_count": 7,
     "metadata": {},
     "output_type": "execute_result"
    }
   ],
   "source": [
    "# linear search is a sequential search technique.\n",
    "def linear_searcch(arr,num):\n",
    "    for i in range(len(arr)):\n",
    "        if arr[i] == num:\n",
    "            return f'Element present at index {i}'\n",
    "        i+=1\n",
    "    return 'Not found'\n",
    "arr=[5,9,3,1,2,8,7,9]\n",
    "linear_searcch(arr,7)\n"
   ]
  },
  {
   "cell_type": "code",
   "execution_count": null,
   "metadata": {},
   "outputs": [],
   "source": [
    "# "
   ]
  }
 ],
 "metadata": {
  "kernelspec": {
   "display_name": "Python 3",
   "language": "python",
   "name": "python3"
  },
  "language_info": {
   "codemirror_mode": {
    "name": "ipython",
    "version": 3
   },
   "file_extension": ".py",
   "mimetype": "text/x-python",
   "name": "python",
   "nbconvert_exporter": "python",
   "pygments_lexer": "ipython3",
   "version": "3.10.13"
  }
 },
 "nbformat": 4,
 "nbformat_minor": 2
}
