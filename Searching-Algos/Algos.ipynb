{
 "cells": [
  {
   "cell_type": "code",
   "execution_count": 7,
   "metadata": {},
   "outputs": [
    {
     "data": {
      "text/plain": [
       "'Element present at index 6'"
      ]
     },
     "execution_count": 7,
     "metadata": {},
     "output_type": "execute_result"
    }
   ],
   "source": [
    "# linear search is a sequential search technique.\n",
    "def linear_searcch(arr,num):\n",
    "    for i in range(len(arr)):\n",
    "        if arr[i] == num:\n",
    "            return f'Element present at index {i}'\n",
    "        i+=1\n",
    "    return 'Not found'\n",
    "arr=[5,9,3,1,2,8,7,9]\n",
    "linear_searcch(arr,7)\n"
   ]
  },
  {
   "cell_type": "code",
   "execution_count": 16,
   "metadata": {},
   "outputs": [
    {
     "name": "stdout",
     "output_type": "stream",
     "text": [
      "Element found at index: 4\n"
     ]
    }
   ],
   "source": [
    "def binary_search(arr, num):\n",
    "    arr.sort()  \n",
    "    begin = 0\n",
    "    end = len(arr) - 1\n",
    "    \n",
    "    while begin <= end:\n",
    "        midpoint = begin + (end - begin) // 2\n",
    "        midpoint_val = arr[midpoint]\n",
    "        \n",
    "        if midpoint_val == num:\n",
    "            return midpoint\n",
    "        elif num < midpoint_val:\n",
    "            end = midpoint - 1\n",
    "        else:  \n",
    "            begin = midpoint + 1\n",
    "            \n",
    "    return None\n",
    "\n",
    "arr = [5, 9, 3, 1, 2, 8, 7, 9]\n",
    "result = binary_search(arr, 7)\n",
    "print(f'Element found at index: {result}' if result is not None else 'Element not found')\n",
    "# Time Complexity: nlogn "
   ]
  },
  {
   "cell_type": "code",
   "execution_count": null,
   "metadata": {},
   "outputs": [],
   "source": []
  }
 ],
 "metadata": {
  "kernelspec": {
   "display_name": "Python 3",
   "language": "python",
   "name": "python3"
  },
  "language_info": {
   "codemirror_mode": {
    "name": "ipython",
    "version": 3
   },
   "file_extension": ".py",
   "mimetype": "text/x-python",
   "name": "python",
   "nbconvert_exporter": "python",
   "pygments_lexer": "ipython3",
   "version": "3.10.13"
  }
 },
 "nbformat": 4,
 "nbformat_minor": 2
}
