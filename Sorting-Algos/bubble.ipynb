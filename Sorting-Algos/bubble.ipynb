{
 "cells": [
  {
   "cell_type": "code",
   "execution_count": 1,
   "metadata": {},
   "outputs": [
    {
     "name": "stdout",
     "output_type": "stream",
     "text": [
      "[1, 2, 3, 4, 5, 6, 7, 8, 9]\n"
     ]
    }
   ],
   "source": [
    "# Bubble Sort or sinking sort Repeatedly compare each pair of adjacent items and swap them if they are in wrong order.\n",
    "# time: O(N^2), Space: O(1)\n",
    "def bubblesort(CustomList):\n",
    "    for i in range(len(CustomList)-1):\n",
    "        for j in range(len(CustomList)-i-1):\n",
    "            if CustomList[j] > CustomList[j+1]:\n",
    "                CustomList[j],CustomList[j+1]=CustomList[j+1],CustomList[j]\n",
    "    print(CustomList)\n",
    "clist=[2,1,7,6,5,3,4,9,8]\n",
    "bubblesort(clist)\n",
    "                "
   ]
  },
  {
   "cell_type": "code",
   "execution_count": 2,
   "metadata": {},
   "outputs": [
    {
     "name": "stdout",
     "output_type": "stream",
     "text": [
      "[1, 2, 3, 4, 5, 6, 7, 8, 9]\n"
     ]
    }
   ],
   "source": [
    "# Selection sort : we repeatedly find the minimum element and move it to the sorted part of array to make unsorted part sorted.\n",
    "# time: O(N^2), Space: O(1)\n",
    "def selectionsort(CustomList):\n",
    "    for i in range(len(CustomList)):\n",
    "        min_index=i \n",
    "        for j in range(i+1,len(CustomList)):\n",
    "            if CustomList[min_index] > CustomList[j]:\n",
    "                min_index=j\n",
    "        CustomList[i],CustomList[min_index]=CustomList[min_index],CustomList[i]\n",
    "    print(CustomList)\n",
    "clist=[2,1,7,6,5,3,4,9,8]\n",
    "selectionsort(clist)"
   ]
  },
  {
   "cell_type": "code",
   "execution_count": 3,
   "metadata": {},
   "outputs": [
    {
     "name": "stdout",
     "output_type": "stream",
     "text": [
      "[1, 2, 3, 4, 5, 6, 7, 8, 9]\n"
     ]
    }
   ],
   "source": [
    "\n",
    "def insertionsort(CustomList):\n",
    "    for i in range(1,len(CustomList)):\n",
    "        key = CustomList[i]\n",
    "        j=i-1\n",
    "        while j>=0 and key < CustomList[j]:\n",
    "            CustomList[j+1]=CustomList[j]\n",
    "            j-=1\n",
    "        CustomList[j+1]=key\n",
    "    print(CustomList)\n",
    "clist=[2,1,7,6,5,3,4,9,8]\n",
    "insertionsort(clist)\n",
    "            \n",
    "                "
   ]
  },
  {
   "cell_type": "code",
   "execution_count": 4,
   "metadata": {},
   "outputs": [
    {
     "data": {
      "text/plain": [
       "[1, 2, 2, 3, 4, 5, 6, 7, 8, 9]"
      ]
     },
     "execution_count": 4,
     "metadata": {},
     "output_type": "execute_result"
    }
   ],
   "source": [
    "# bucket sort creates buckets & distribute elemets of array into buckets , sorts the bucket individually & merges after sorting.\n",
    "# number of buckets: round(sqrt(number of elements)) \n",
    "# appropiate bucket: ceil(value*number of bukctes/max_val) \n",
    "import math \n",
    "def insertionsort(CustomList):\n",
    "    for i in range(1,len(CustomList)):\n",
    "        key=CustomList[i]\n",
    "        j=i-1\n",
    "        while j >=0 and key < CustomList[j]:\n",
    "            CustomList[j+1]=CustomList[j]\n",
    "            j-=1\n",
    "        CustomList[j+1]=key \n",
    "    return CustomList\n",
    "def bucketsort(CustomList):\n",
    "    numberofbuckets=round(math.sqrt(len(CustomList)))\n",
    "    max_val=max(CustomList)\n",
    "    arr=[] \n",
    "    for i in range(numberofbuckets):\n",
    "        arr.append([])\n",
    "    for j in CustomList:\n",
    "        index=math.ceil(j*numberofbuckets/max_val)\n",
    "        arr[index-1].append(j)\n",
    "    for i in range(numberofbuckets):\n",
    "        arr[i]=insertionsort(arr[i])\n",
    "    k=0\n",
    "    for i in range(numberofbuckets):\n",
    "        for j in range(len(arr[i])):\n",
    "            CustomList[k]=arr[i][j]\n",
    "            k+=1\n",
    "    return CustomList \n",
    "\n",
    "clist=[2,1,7,6,5,3,4,9,8,2]\n",
    "bucketsort(clist)"
   ]
  },
  {
   "cell_type": "code",
   "execution_count": 5,
   "metadata": {},
   "outputs": [],
   "source": [
    "#bucket sort with negative numbers \n",
    "def bucketSort(customList):\n",
    "    numberofBuckets = round(math.sqrt(len(customList)))\n",
    "    minValue = min(customList)\n",
    "    maxValue = max(customList)\n",
    "    rangeVal = (maxValue - minValue) / numberofBuckets\n",
    " \n",
    "    buckets = [[] for _ in range(numberofBuckets)]\n",
    " \n",
    "    for j in customList:\n",
    "        if j == maxValue:\n",
    "            buckets[-1].append(j)\n",
    "        else:\n",
    "            index_b = math.floor((j - minValue) / rangeVal)\n",
    "            buckets[index_b].append(j)\n",
    "    \n",
    "    sorted_array = []\n",
    "    for i in range(numberofBuckets):\n",
    "        buckets[i] = insertionSort(buckets[i])\n",
    "        sorted_array.extend(buckets[i])\n",
    "    \n",
    "    return sorted_array"
   ]
  },
  {
   "cell_type": "code",
   "execution_count": 9,
   "metadata": {},
   "outputs": [
    {
     "name": "stdout",
     "output_type": "stream",
     "text": [
      "[0, 1, 2, 3, 4, 5, 6, 7, 8, 9]\n"
     ]
    }
   ],
   "source": [
    "# merge sort: divide & conquer algorithm.\n",
    "def mergesort(arr):\n",
    "    if len(arr) > 1:\n",
    "        left_arr=arr[:len(arr)//2]\n",
    "        right_arr=arr[len(arr)//2:]\n",
    "        \n",
    "        mergesort(left_arr)\n",
    "        mergesort(right_arr)\n",
    "        \n",
    "        i=0\n",
    "        j=0\n",
    "        k=0\n",
    "        while i < len(left_arr) and j < len(right_arr):\n",
    "            if left_arr[i] < right_arr[j]:\n",
    "                arr[k]=left_arr[i]\n",
    "                i+=1\n",
    "            else:\n",
    "                arr[k]=right_arr[j]\n",
    "                j+=1\n",
    "            k+=1\n",
    "            \n",
    "        while i < len(left_arr):\n",
    "            arr[k]=left_arr[i]\n",
    "            i+=1\n",
    "            k+=1\n",
    "        \n",
    "        while j < len(right_arr):\n",
    "            arr[k]=right_arr[j]\n",
    "            j+=1\n",
    "            k+=1\n",
    "clist=[2,1,7,6,5,3,4,9,8,0]\n",
    "mergesort(clist)           \n",
    "print(clist)\n",
    "                \n",
    "    "
   ]
  },
  {
   "cell_type": "code",
   "execution_count": null,
   "metadata": {},
   "outputs": [],
   "source": []
  }
 ],
 "metadata": {
  "kernelspec": {
   "display_name": "Python 3",
   "language": "python",
   "name": "python3"
  },
  "language_info": {
   "codemirror_mode": {
    "name": "ipython",
    "version": 3
   },
   "file_extension": ".py",
   "mimetype": "text/x-python",
   "name": "python",
   "nbconvert_exporter": "python",
   "pygments_lexer": "ipython3",
   "version": "3.10.13"
  }
 },
 "nbformat": 4,
 "nbformat_minor": 2
}
