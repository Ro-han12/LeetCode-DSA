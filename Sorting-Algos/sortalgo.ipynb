{
 "cells": [
  {
   "cell_type": "code",
   "execution_count": 1,
   "metadata": {},
   "outputs": [
    {
     "name": "stdout",
     "output_type": "stream",
     "text": [
      "[1, 2, 3, 4, 5, 6, 7, 8, 9]\n"
     ]
    }
   ],
   "source": [
    "# Bubble Sort or sinking sort Repeatedly compare each pair of adjacent items and swap them if they are in wrong order.\n",
    "# time: O(N^2), Space: O(1)\n",
    "def bubblesort(CustomList):\n",
    "    for i in range(len(CustomList)-1):\n",
    "        for j in range(len(CustomList)-i-1):\n",
    "            if CustomList[j] > CustomList[j+1]:\n",
    "                CustomList[j],CustomList[j+1]=CustomList[j+1],CustomList[j]\n",
    "    print(CustomList)\n",
    "clist=[2,1,7,6,5,3,4,9,8]\n",
    "bubblesort(clist)\n",
    "                "
   ]
  },
  {
   "cell_type": "code",
   "execution_count": 2,
   "metadata": {},
   "outputs": [
    {
     "name": "stdout",
     "output_type": "stream",
     "text": [
      "[1, 2, 3, 4, 5, 6, 7, 8, 9]\n"
     ]
    }
   ],
   "source": [
    "# Selection sort : we repeatedly find the minimum element and move it to the sorted part of array to make unsorted part sorted.\n",
    "# time: O(N^2), Space: O(1)\n",
    "def selectionsort(CustomList):\n",
    "    for i in range(len(CustomList)):\n",
    "        min_index=i \n",
    "        for j in range(i+1,len(CustomList)):\n",
    "            if CustomList[min_index] > CustomList[j]:\n",
    "                min_index=j\n",
    "        CustomList[i],CustomList[min_index]=CustomList[min_index],CustomList[i]\n",
    "    print(CustomList)\n",
    "clist=[2,1,7,6,5,3,4,9,8]\n",
    "selectionsort(clist)"
   ]
  },
  {
   "cell_type": "code",
   "execution_count": 3,
   "metadata": {},
   "outputs": [
    {
     "name": "stdout",
     "output_type": "stream",
     "text": [
      "[1, 2, 3, 4, 5, 6, 7, 8, 9]\n"
     ]
    }
   ],
   "source": [
    "\n",
    "def insertionsort(CustomList):\n",
    "    for i in range(1,len(CustomList)):\n",
    "        key = CustomList[i]\n",
    "        j=i-1\n",
    "        while j>=0 and key < CustomList[j]:\n",
    "            CustomList[j+1]=CustomList[j]\n",
    "            j-=1\n",
    "        CustomList[j+1]=key\n",
    "    print(CustomList)\n",
    "clist=[2,1,7,6,5,3,4,9,8]\n",
    "insertionsort(clist)\n",
    "            \n",
    "                "
   ]
  },
  {
   "cell_type": "code",
   "execution_count": 4,
   "metadata": {},
   "outputs": [
    {
     "data": {
      "text/plain": [
       "[1, 2, 2, 3, 4, 5, 6, 7, 8, 9]"
      ]
     },
     "execution_count": 4,
     "metadata": {},
     "output_type": "execute_result"
    }
   ],
   "source": [
    "# bucket sort creates buckets & distribute elemets of array into buckets , sorts the bucket individually & merges after sorting.\n",
    "# number of buckets: round(sqrt(number of elements)) \n",
    "# appropiate bucket: ceil(value*number of bukctes/max_val) \n",
    "import math \n",
    "def insertionsort(CustomList):\n",
    "    for i in range(1,len(CustomList)):\n",
    "        key=CustomList[i]\n",
    "        j=i-1\n",
    "        while j >=0 and key < CustomList[j]:\n",
    "            CustomList[j+1]=CustomList[j]\n",
    "            j-=1\n",
    "        CustomList[j+1]=key \n",
    "    return CustomList\n",
    "def bucketsort(CustomList):\n",
    "    numberofbuckets=round(math.sqrt(len(CustomList)))\n",
    "    max_val=max(CustomList)\n",
    "    arr=[] \n",
    "    for i in range(numberofbuckets):\n",
    "        arr.append([])\n",
    "    for j in CustomList:\n",
    "        index=math.ceil(j*numberofbuckets/max_val)\n",
    "        arr[index-1].append(j)\n",
    "    for i in range(numberofbuckets):\n",
    "        arr[i]=insertionsort(arr[i])\n",
    "    k=0\n",
    "    for i in range(numberofbuckets):\n",
    "        for j in range(len(arr[i])):\n",
    "            CustomList[k]=arr[i][j]\n",
    "            k+=1\n",
    "    return CustomList \n",
    "\n",
    "clist=[2,1,7,6,5,3,4,9,8,2]\n",
    "bucketsort(clist)"
   ]
  },
  {
   "cell_type": "code",
   "execution_count": 5,
   "metadata": {},
   "outputs": [],
   "source": [
    "#bucket sort with negative numbers \n",
    "def bucketSort(customList):\n",
    "    numberofBuckets = round(math.sqrt(len(customList)))\n",
    "    minValue = min(customList)\n",
    "    maxValue = max(customList)\n",
    "    rangeVal = (maxValue - minValue) / numberofBuckets\n",
    " \n",
    "    buckets = [[] for _ in range(numberofBuckets)]\n",
    " \n",
    "    for j in customList:\n",
    "        if j == maxValue:\n",
    "            buckets[-1].append(j)\n",
    "        else:\n",
    "            index_b = math.floor((j - minValue) / rangeVal)\n",
    "            buckets[index_b].append(j)\n",
    "    \n",
    "    sorted_array = []\n",
    "    for i in range(numberofBuckets):\n",
    "        buckets[i] = insertionSort(buckets[i])\n",
    "        sorted_array.extend(buckets[i])\n",
    "    \n",
    "    return sorted_array"
   ]
  },
  {
   "cell_type": "code",
   "execution_count": 6,
   "metadata": {},
   "outputs": [
    {
     "name": "stdout",
     "output_type": "stream",
     "text": [
      "[0, 1, 2, 3, 4, 5, 6, 7, 8, 9]\n"
     ]
    }
   ],
   "source": [
    "# merge sort: divide & conquer algorithm. O(NLOGN)\n",
    "def mergesort(arr):\n",
    "    if len(arr) > 1:\n",
    "        left_arr=arr[:len(arr)//2]\n",
    "        right_arr=arr[len(arr)//2:]\n",
    "        \n",
    "        mergesort(left_arr)\n",
    "        mergesort(right_arr)\n",
    "        \n",
    "        i=0\n",
    "        j=0\n",
    "        k=0\n",
    "        while i < len(left_arr) and j < len(right_arr):\n",
    "            if left_arr[i] < right_arr[j]:\n",
    "                arr[k]=left_arr[i]\n",
    "                i+=1\n",
    "            else:\n",
    "                arr[k]=right_arr[j]\n",
    "                j+=1\n",
    "            k+=1\n",
    "            \n",
    "        while i < len(left_arr):\n",
    "            arr[k]=left_arr[i]\n",
    "            i+=1\n",
    "            k+=1\n",
    "        \n",
    "        while j < len(right_arr):\n",
    "            arr[k]=right_arr[j]\n",
    "            j+=1\n",
    "            k+=1\n",
    "clist=[2,1,7,6,5,3,4,9,8,0]\n",
    "mergesort(clist)           \n",
    "print(clist)\n",
    "                \n",
    "    "
   ]
  },
  {
   "cell_type": "code",
   "execution_count": 7,
   "metadata": {},
   "outputs": [
    {
     "name": "stdout",
     "output_type": "stream",
     "text": [
      "[0, 1, 2, 3, 4, 5, 6, 7, 8, 9]\n"
     ]
    }
   ],
   "source": [
    "def Quicksort(arr,left,right):\n",
    "    if left < right:\n",
    "        partition_pos=partition(arr,left,right)\n",
    "        Quicksort(arr,left,partition_pos-1)\n",
    "        Quicksort(arr,partition_pos+1,right)\n",
    "def partition(arr,left,right):\n",
    "    i=left\n",
    "    j=right-1\n",
    "    pivot=arr[right]\n",
    "    while i < j:\n",
    "        while i < right and arr[i] < pivot:\n",
    "            i+=1\n",
    "        while j > left and arr[j] >= pivot:\n",
    "            j-=1\n",
    "        if i < j:\n",
    "            arr[i],arr[j]=arr[j],arr[i]\n",
    "    if arr[i] > pivot:\n",
    "        arr[i],arr[right]=arr[right],arr[i]\n",
    "    return i \n",
    "clist=[2,1,7,6,5,3,4,9,8,0]\n",
    "Quicksort(clist,0,len(clist)-1)           \n",
    "print(clist)\n",
    "            \n",
    "        \n",
    "    "
   ]
  },
  {
   "cell_type": "code",
   "execution_count": 8,
   "metadata": {},
   "outputs": [
    {
     "data": {
      "text/plain": [
       "[-4, 0, 1, 3, 2, 5, 10, 8, 12, 9]"
      ]
     },
     "execution_count": 8,
     "metadata": {},
     "output_type": "execute_result"
    }
   ],
   "source": [
    "# Heaps & Priority Queues\n",
    "# Min heap: parent will be smaller than chidlren , Maxheap: parent will be bigger than children \n",
    "# Build Min Heap (Heapify)\n",
    "# Time: O(n), Space: O(1)\n",
    "\n",
    "A = [-4, 3, 1, 0, 2, 5, 10, 8, 12, 9]\n",
    "\n",
    "import heapq\n",
    "heapq.heapify(A)\n",
    "A\n"
   ]
  },
  {
   "cell_type": "code",
   "execution_count": 10,
   "metadata": {},
   "outputs": [
    {
     "data": {
      "text/plain": [
       "[-4, 0, 1, 3, 2, 4, 10, 8, 12, 9, 4, 5]"
      ]
     },
     "execution_count": 10,
     "metadata": {},
     "output_type": "execute_result"
    }
   ],
   "source": [
    "# Heap Push (Insert element)\n",
    "# Time: O(log n)\n",
    "\n",
    "heapq.heappush(A, 4)\n",
    "A"
   ]
  },
  {
   "cell_type": "code",
   "execution_count": 11,
   "metadata": {},
   "outputs": [
    {
     "data": {
      "text/plain": [
       "([0, 2, 1, 3, 4, 4, 10, 8, 12, 9, 5], -4)"
      ]
     },
     "execution_count": 11,
     "metadata": {},
     "output_type": "execute_result"
    }
   ],
   "source": [
    "# Heap Pop (Extract min)\n",
    "# Time: O(log n)\n",
    "\n",
    "minn = heapq.heappop(A)\n",
    "\n",
    "A, minn"
   ]
  },
  {
   "cell_type": "code",
   "execution_count": 12,
   "metadata": {},
   "outputs": [
    {
     "data": {
      "text/plain": [
       "[0, 1, 2, 3, 4, 5, 6, 7, 8, 9]"
      ]
     },
     "execution_count": 12,
     "metadata": {},
     "output_type": "execute_result"
    }
   ],
   "source": [
    "# Heap Sort\n",
    "# Time: O(n log n), Space: O(n)\n",
    "# NOTE: O(1) Space is possible via swapping, but this is complex\n",
    "\n",
    "def heapsort(arr):\n",
    "  heapq.heapify(arr)\n",
    "  n = len(arr)\n",
    "  new_list = [0] * n\n",
    "\n",
    "  for i in range(n):\n",
    "    minn = heapq.heappop(arr)\n",
    "    new_list[i] = minn\n",
    "\n",
    "  return new_list\n",
    "\n",
    "heapsort([1, 3, 5, 7, 9, 2, 4, 6, 8, 0])"
   ]
  },
  {
   "cell_type": "code",
   "execution_count": 13,
   "metadata": {},
   "outputs": [
    {
     "data": {
      "text/plain": [
       "[1, 2, 4, 3, 4, 99, 10, 8, 12, 9, 5]"
      ]
     },
     "execution_count": 13,
     "metadata": {},
     "output_type": "execute_result"
    }
   ],
   "source": [
    "# Heap Push Pop: Time: O(log n)\n",
    "\n",
    "heapq.heappushpop(A, 99)\n",
    "A"
   ]
  },
  {
   "cell_type": "code",
   "execution_count": 14,
   "metadata": {},
   "outputs": [
    {
     "data": {
      "text/plain": [
       "1"
      ]
     },
     "execution_count": 14,
     "metadata": {},
     "output_type": "execute_result"
    }
   ],
   "source": [
    "# Peak at Min: Time O(1)\n",
    "A[0]"
   ]
  },
  {
   "cell_type": "code",
   "execution_count": 15,
   "metadata": {},
   "outputs": [
    {
     "name": "stdout",
     "output_type": "stream",
     "text": [
      "[-5] 1\n",
      "[-5, 4] 2\n",
      "[-5, 4, 2] 3\n",
      "[-5, 1, 2, 4] 4\n",
      "[-5, 1, 2, 4, 7] 5\n",
      "[-5, 1, 0, 4, 7, 2] 6\n",
      "[-5, 1, 0, 4, 7, 2, 3] 7\n"
     ]
    }
   ],
   "source": [
    "# Build heap from scratch - Time: O(n log n)\n",
    "\n",
    "C = [-5, 4, 2, 1, 7, 0, 3]\n",
    "\n",
    "heap = []\n",
    "\n",
    "for x in C:\n",
    "  heapq.heappush(heap, x)\n",
    "  print(heap, len(heap)) # Check size of heap"
   ]
  },
  {
   "cell_type": "code",
   "execution_count": null,
   "metadata": {},
   "outputs": [],
   "source": []
  }
 ],
 "metadata": {
  "kernelspec": {
   "display_name": "Python 3",
   "language": "python",
   "name": "python3"
  },
  "language_info": {
   "codemirror_mode": {
    "name": "ipython",
    "version": 3
   },
   "file_extension": ".py",
   "mimetype": "text/x-python",
   "name": "python",
   "nbconvert_exporter": "python",
   "pygments_lexer": "ipython3",
   "version": "3.10.13"
  }
 },
 "nbformat": 4,
 "nbformat_minor": 2
}
