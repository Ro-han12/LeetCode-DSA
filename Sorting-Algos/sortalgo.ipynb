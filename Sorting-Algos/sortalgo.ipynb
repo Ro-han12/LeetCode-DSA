{
 "cells": [
  {
   "cell_type": "code",
   "execution_count": 1,
   "metadata": {},
   "outputs": [
    {
     "name": "stdout",
     "output_type": "stream",
     "text": [
      "[1, 2, 3, 4, 5, 6, 7, 8, 9]\n"
     ]
    }
   ],
   "source": [
    "# Bubble Sort or sinking sort Repeatedly compare each pair of adjacent items and swap them if they are in wrong order.\n",
    "# time: O(N^2), Space: O(1)\n",
    "def bubblesort(CustomList):\n",
    "    for i in range(len(CustomList)-1):\n",
    "        for j in range(len(CustomList)-i-1):\n",
    "            if CustomList[j] > CustomList[j+1]:\n",
    "                CustomList[j],CustomList[j+1]=CustomList[j+1],CustomList[j]\n",
    "    print(CustomList)\n",
    "clist=[2,1,7,6,5,3,4,9,8]\n",
    "bubblesort(clist)\n",
    "\n",
    "                "
   ]
  },
  {
   "cell_type": "code",
   "execution_count": 5,
   "metadata": {},
   "outputs": [
    {
     "name": "stdout",
     "output_type": "stream",
     "text": [
      "[1, 2, 3, 4, 5, 6, 7, 8, 9]\n"
     ]
    }
   ],
   "source": [
    "# Selection sort : we repeatedly find the minimum element and move it to the sorted part of array to make unsorted part sorted.\n",
    "# time: O(N^2), Space: O(1)\n",
    "def selectionsort(CustomList):\n",
    "    for i in range(len(CustomList)):\n",
    "        min_index=i \n",
    "        for j in range(i+1,len(CustomList)):\n",
    "            if CustomList[min_index] > CustomList[j]:\n",
    "                min_index=j\n",
    "        CustomList[i],CustomList[min_index]=CustomList[min_index],CustomList[i]\n",
    "    print(CustomList)\n",
    "clist=[2,1,7,6,5,3,4,9,8]\n",
    "selectionsort(clist)"
   ]
  },
  {
   "cell_type": "code",
   "execution_count": null,
   "metadata": {},
   "outputs": [],
   "source": []
  },
  {
   "cell_type": "code",
   "execution_count": null,
   "metadata": {},
   "outputs": [],
   "source": []
  }
 ],
 "metadata": {
  "kernelspec": {
   "display_name": "Python 3",
   "language": "python",
   "name": "python3"
  },
  "language_info": {
   "codemirror_mode": {
    "name": "ipython",
    "version": 3
   },
   "file_extension": ".py",
   "mimetype": "text/x-python",
   "name": "python",
   "nbconvert_exporter": "python",
   "pygments_lexer": "ipython3",
   "version": "3.10.13"
  }
 },
 "nbformat": 4,
 "nbformat_minor": 2
}
