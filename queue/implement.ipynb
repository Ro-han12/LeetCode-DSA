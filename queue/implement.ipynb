{
 "cells": [
  {
   "cell_type": "code",
   "execution_count": 23,
   "metadata": {},
   "outputs": [
    {
     "name": "stdout",
     "output_type": "stream",
     "text": [
      "applying enqueue\n",
      "9 100 101 102\n",
      "applying dequeue\n",
      "100 101 102\n",
      "applying dequeue\n"
     ]
    },
    {
     "data": {
      "text/plain": [
       "100"
      ]
     },
     "execution_count": 23,
     "metadata": {},
     "output_type": "execute_result"
    }
   ],
   "source": [
    "# FIFO\n",
    "#creation of queue with lists with no size limit\n",
    "class Queue:\n",
    "    def __init__(self):\n",
    "        self.items=[]\n",
    "    def __str__(self):\n",
    "        values=[str(x) for x in self.items]\n",
    "        return ' '.join(values)\n",
    "    def isEmpty(self):\n",
    "        if self.items == []:\n",
    "            return True\n",
    "        else:\n",
    "            return False\n",
    "    def enqueue(self,value):\n",
    "        self.items.append(value)\n",
    "        return 'element is inserted'\n",
    "    def dequeue(self):\n",
    "        if self.isEmpty():\n",
    "            return 'no elements only'\n",
    "        else:\n",
    "            self.items.pop(0)\n",
    "    def peek(self):\n",
    "        if self.isEmpty():\n",
    "            return 'no elements only'\n",
    "        else:\n",
    "            return self.items[0]\n",
    "    def delete(self):\n",
    "        self.items=None\n",
    "        \n",
    "q=Queue()\n",
    "q.isEmpty()\n",
    "q.enqueue(9)\n",
    "q.enqueue(100)\n",
    "q.enqueue(101)\n",
    "q.enqueue(102)\n",
    "print(\"applying enqueue\")\n",
    "print(q)\n",
    "q.dequeue()\n",
    "print(\"applying dequeue\")\n",
    "print(q)\n",
    "print(\"applying dequeue\")\n",
    "q.peek()"
   ]
  },
  {
   "cell_type": "code",
   "execution_count": 24,
   "metadata": {},
   "outputs": [
    {
     "data": {
      "text/plain": [
       "False"
      ]
     },
     "execution_count": 24,
     "metadata": {},
     "output_type": "execute_result"
    }
   ],
   "source": [
    "# circular queue\n",
    "class Queue:\n",
    "    def __init__(self,maxSize):\n",
    "        self.items=maxSize * [None]\n",
    "        self.start=-1\n",
    "        self.top=-1\n",
    "    def __str__(self):\n",
    "        values=[str(x) for x in self.items]\n",
    "        return ' '.join(values)\n",
    "    def isFull(self):\n",
    "        if self.top + 1 == self.start:\n",
    "            return True\n",
    "        elif self.start == 0 and self.top + 1 ==self.maxSize:\n",
    "            return True\n",
    "        else:\n",
    "            return False\n",
    "    def isEmpty(self):\n",
    "        if self.top == -1:\n",
    "            return True\n",
    "        else:\n",
    "            return False\n",
    "        \n",
    "q=Queue(3)\n",
    "q.isFull()\n",
    "        "
   ]
  },
  {
   "cell_type": "code",
   "execution_count": 32,
   "metadata": {},
   "outputs": [
    {
     "name": "stdout",
     "output_type": "stream",
     "text": [
      "enqueue method\n",
      "2 6 98\n",
      "dequeue method\n",
      "6 98\n",
      "peek method\n",
      "6\n"
     ]
    }
   ],
   "source": [
    "class Node:\n",
    "    def __init__(self, value=None):\n",
    "        self.value = value\n",
    "        self.next = None\n",
    "    \n",
    "    def __str__(self):\n",
    "        return str(self.value)\n",
    "\n",
    "class LinkedList:\n",
    "    def __init__(self):\n",
    "        self.head = None\n",
    "        self.tail = None  # Add this line to keep track of the tail of the list\n",
    "        \n",
    "    def __iter__(self):\n",
    "        curr = self.head\n",
    "        while curr:\n",
    "            yield curr\n",
    "            curr = curr.next\n",
    "\n",
    "class Queue:\n",
    "    def __init__(self):\n",
    "        self.linkedlist = LinkedList()\n",
    "    \n",
    "    def __str__(self):\n",
    "        values = [str(x) for x in self.linkedlist]\n",
    "        return ' '.join(values)\n",
    "    \n",
    "    def enqueue(self, value):\n",
    "        new_node = Node(value)\n",
    "        if self.linkedlist.head is None:\n",
    "            self.linkedlist.head = new_node\n",
    "            self.linkedlist.tail = new_node\n",
    "        else:\n",
    "            self.linkedlist.tail.next = new_node\n",
    "            self.linkedlist.tail = new_node\n",
    "            \n",
    "    def isEmpty(self):\n",
    "        if self.linkedlist.head is None:\n",
    "            return True\n",
    "        else:\n",
    "            return False\n",
    "    def dequeue(self):\n",
    "        if self.isEmpty():\n",
    "            return 'empty queue'\n",
    "        else:\n",
    "            temp=self.linkedlist.head\n",
    "            if self.linkedlist.head == self.linkedlist.tail:\n",
    "                self.linkedlist.head=None\n",
    "                self.linkedlist.tail=None\n",
    "            else:\n",
    "                self.linkedlist.head=self.linkedlist.head.next\n",
    "            return temp\n",
    "    def peek(self):\n",
    "        if self.isEmpty():\n",
    "            return 'empty queue'\n",
    "        else:\n",
    "            return self.linkedlist.head\n",
    "                  \n",
    "\n",
    "# Correct instantiation of Queue\n",
    "q = Queue()\n",
    "q.enqueue(2)\n",
    "q.enqueue(6)\n",
    "q.enqueue(98)\n",
    "print(\"enqueue method\")\n",
    "print(q)\n",
    "q.dequeue()\n",
    "print(\"dequeue method\")\n",
    "print(q)\n",
    "print(\"peek method\")\n",
    "print(q.peek())\n"
   ]
  },
  {
   "cell_type": "code",
   "execution_count": null,
   "metadata": {},
   "outputs": [],
   "source": []
  }
 ],
 "metadata": {
  "kernelspec": {
   "display_name": "Python 3",
   "language": "python",
   "name": "python3"
  },
  "language_info": {
   "codemirror_mode": {
    "name": "ipython",
    "version": 3
   },
   "file_extension": ".py",
   "mimetype": "text/x-python",
   "name": "python",
   "nbconvert_exporter": "python",
   "pygments_lexer": "ipython3",
   "version": "3.10.13"
  }
 },
 "nbformat": 4,
 "nbformat_minor": 2
}
