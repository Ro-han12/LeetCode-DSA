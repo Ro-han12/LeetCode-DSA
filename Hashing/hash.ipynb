{
 "cells": [
  {
   "cell_type": "markdown",
   "metadata": {},
   "source": [
    "# hashing is a method of sorting & indexing data. The idea behind hashing is to allow large amounts of data to be indexed using keys commonly created by formulas.\n",
    "# time efficient in search operation\n",
    "# Terminolgy: hash function,key,value,hash table,collision\n",
    "# collision: 2 different keys to a hash function produce same output\n",
    "# hash function: mod,ascii\n",
    "# properties of hash functions: 1. it distributes hash values uniformaly across hash tables, 2. it uses all input data(No collision)\n",
    "\n",
    "# COLLISION RESOLUTION TECHNIQUES:\n",
    "1.DIRECT CHAINING: IMPLEMENETS THE BUCKETS AS LINKED LIST. COLLIDING ELEMENTS ARE STORED AS LISTS.\n",
    "2.OPEN ADDRESSING: COLLDIING ELEMENTS ARE STORED IN OTHER VACANT BUCKETS.\n",
    "# LINEAR PROBING: IT PLACES NEW KEY INTO CLOSEST FOLLWING EMPTY CELL,\n",
    "# QUADRATIC PROBING: ADDING QUADRATIC FUNCTION UNITL EMPTY CELL IS FOUND.\n",
    "# DOUBLE HASHING: INTEVEL BTW PROBES IS COMPUTED BU ANOTHER HASH FUNCTION.\n",
    "\n",
    "# WHAT IS HASH TABLE IS FULL\n",
    "- WITH DIRECT CHANIGING NEVER POSSIBLE.\n",
    "\n",
    "\n",
    "\n",
    "\n"
   ]
  }
 ],
 "metadata": {
  "language_info": {
   "name": "python"
  }
 },
 "nbformat": 4,
 "nbformat_minor": 2
}
