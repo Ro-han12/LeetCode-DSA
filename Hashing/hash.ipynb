{
 "cells": [
  {
   "cell_type": "code",
   "execution_count": null,
   "metadata": {},
   "outputs": [],
   "source": [
    "# hashing is a method of sorting & indexing data. The idea behind hashing is to allow large amounts of data to be indexed using keys commonly created by formulas.\n",
    "# time efficient in search operation\n",
    "# Terminolgy: hash function,key,value,hash table,collision\n",
    "# collision: 2 different keys to a hash function produce same output"
   ]
  }
 ],
 "metadata": {
  "language_info": {
   "name": "python"
  }
 },
 "nbformat": 4,
 "nbformat_minor": 2
}
