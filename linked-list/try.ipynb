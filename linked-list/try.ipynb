{
 "cells": [
  {
   "cell_type": "markdown",
   "metadata": {},
   "source": [
    "chess board : singly linked list;\n",
    "spotify : doubly  linked list;\n",
    "looping application: circular linked list"
   ]
  },
  {
   "cell_type": "code",
   "execution_count": 8,
   "metadata": {},
   "outputs": [],
   "source": [
    "#singly linked list\n",
    "# CREATION:\n",
    "class Node:\n",
    "    def __init__(self,value=None):\n",
    "        self.value=value\n",
    "        self.next=None\n",
    "class singlylinkedlist:\n",
    "    def __init__(self):\n",
    "        self.head=None\n",
    "        self.tail=None\n",
    "    def __iter__(self):\n",
    "        node=self.head\n",
    "        while node:\n",
    "            yield node\n",
    "            node=node.next\n",
    "            \n",
    "sll=singlylinkedlist()\n",
    "node1=Node(1)\n",
    "node2=Node(2)\n",
    "sll.head=node1\n",
    "sll.head.next=node2\n",
    "sll.tail=node2"
   ]
  },
  {
   "cell_type": "code",
   "execution_count": null,
   "metadata": {},
   "outputs": [],
   "source": []
  },
  {
   "cell_type": "code",
   "execution_count": 24,
   "metadata": {},
   "outputs": [
    {
     "name": "stdout",
     "output_type": "stream",
     "text": [
      "20\n",
      "10\n",
      "3\n"
     ]
    },
    {
     "ename": "TypeError",
     "evalue": "__str__ returned non-string (type NoneType)",
     "output_type": "error",
     "traceback": [
      "\u001b[0;31m---------------------------------------------------------------------------\u001b[0m",
      "\u001b[0;31mTypeError\u001b[0m                                 Traceback (most recent call last)",
      "\u001b[1;32m/Users/rohansridhar/Desktop/dsa-Python/linked-list/try.ipynb Cell 4\u001b[0m line \u001b[0;36m4\n\u001b[1;32m     <a href='vscode-notebook-cell:/Users/rohansridhar/Desktop/dsa-Python/linked-list/try.ipynb#W3sZmlsZQ%3D%3D?line=37'>38</a>\u001b[0m \u001b[39mprint\u001b[39m(sll\u001b[39m.\u001b[39mhead\u001b[39m.\u001b[39mvalue)\n\u001b[1;32m     <a href='vscode-notebook-cell:/Users/rohansridhar/Desktop/dsa-Python/linked-list/try.ipynb#W3sZmlsZQ%3D%3D?line=38'>39</a>\u001b[0m \u001b[39mprint\u001b[39m(sll\u001b[39m.\u001b[39mlength)\n\u001b[0;32m---> <a href='vscode-notebook-cell:/Users/rohansridhar/Desktop/dsa-Python/linked-list/try.ipynb#W3sZmlsZQ%3D%3D?line=39'>40</a>\u001b[0m \u001b[39mprint\u001b[39;49m(sll)     \n",
      "\u001b[0;31mTypeError\u001b[0m: __str__ returned non-string (type NoneType)"
     ]
    }
   ],
   "source": [
    "class Node:\n",
    "    def __init__(self,value):\n",
    "        self.value=value\n",
    "        self.next=None\n",
    "# new_node=Node(10)\n",
    "# print(new_node)\n",
    "class singlylinkedlist:\n",
    "    def __init__(self):\n",
    "        self.head=None\n",
    "        self.tail=None\n",
    "        self.length=1\n",
    "# new_node1=Node(10)\n",
    "# new_node2=Node(20)\n",
    "# sll=singlylinkedlist()\n",
    "# sll.head=new_node1\n",
    "# new_node1.next=new_node2\n",
    "# sll.tail=new_node2\n",
    "# new_node3=Node(30)\n",
    "# new_node2.next=new_node3\n",
    "# sll.tail=new_node3\n",
    "# print(sll.tail.value)\n",
    "    def append(self,value):\n",
    "        new_node=Node(value)\n",
    "        if self.head is None:\n",
    "            self.head=new_node\n",
    "            self.tail=new_node\n",
    "        else:\n",
    "            self.tail.next=new_node\n",
    "            self.tail=new_node\n",
    "        self.length+=1\n",
    "    \n",
    "    def __str__(self):\n",
    "        pass\n",
    "sll=singlylinkedlist()\n",
    "sll.append(10)\n",
    "sll.append(20)\n",
    "print(sll.tail.value)\n",
    "print(sll.head.value)\n",
    "print(sll.length)\n",
    "     \n",
    "        \n",
    "    \n",
    "    \n",
    "        "
   ]
  },
  {
   "cell_type": "code",
   "execution_count": null,
   "metadata": {},
   "outputs": [],
   "source": []
  }
 ],
 "metadata": {
  "kernelspec": {
   "display_name": "Python 3",
   "language": "python",
   "name": "python3"
  },
  "language_info": {
   "codemirror_mode": {
    "name": "ipython",
    "version": 3
   },
   "file_extension": ".py",
   "mimetype": "text/x-python",
   "name": "python",
   "nbconvert_exporter": "python",
   "pygments_lexer": "ipython3",
   "version": "3.9.6"
  }
 },
 "nbformat": 4,
 "nbformat_minor": 2
}
