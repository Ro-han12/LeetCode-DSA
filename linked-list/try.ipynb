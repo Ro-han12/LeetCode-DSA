{
 "cells": [
  {
   "cell_type": "markdown",
   "metadata": {},
   "source": [
    "chess board : singly linked list;\n",
    "spotify : doubly  linked list;\n",
    "looping application: circular linked list"
   ]
  },
  {
   "cell_type": "code",
   "execution_count": 1,
   "metadata": {},
   "outputs": [],
   "source": [
    "#singly linked list\n",
    "# CREATION:\n",
    "class Node:\n",
    "    def __init__(self,value=None):\n",
    "        self.value=value\n",
    "        self.next=None\n",
    "class singlylinkedlist:\n",
    "    def __init__(self):\n",
    "        self.head=None\n",
    "        self.tail=None\n",
    "    def __iter__(self):\n",
    "        node=self.head\n",
    "        while node:\n",
    "            yield node\n",
    "            node=node.next\n",
    "            \n",
    "sll=singlylinkedlist()\n",
    "node1=Node(1)\n",
    "node2=Node(2)\n",
    "sll.head=node1\n",
    "sll.head.next=node2\n",
    "sll.tail=node2"
   ]
  },
  {
   "cell_type": "code",
   "execution_count": null,
   "metadata": {},
   "outputs": [],
   "source": []
  },
  {
   "cell_type": "code",
   "execution_count": 3,
   "metadata": {},
   "outputs": [
    {
     "name": "stdout",
     "output_type": "stream",
     "text": [
      "20\n",
      "10\n",
      "3\n",
      "10->20\n"
     ]
    }
   ],
   "source": [
    "class Node:\n",
    "    def __init__(self,value):\n",
    "        self.value=value\n",
    "        self.next=None\n",
    "# new_node=Node(10)\n",
    "# print(new_node)\n",
    "class singlylinkedlist:\n",
    "    def __init__(self):\n",
    "        self.head=None\n",
    "        self.tail=None\n",
    "        self.length=1\n",
    "# new_node1=Node(10)\n",
    "# new_node2=Node(20)\n",
    "# sll=singlylinkedlist()\n",
    "# sll.head=new_node1\n",
    "# new_node1.next=new_node2\n",
    "# sll.tail=new_node2\n",
    "# new_node3=Node(30)\n",
    "# new_node2.next=new_node3\n",
    "# sll.tail=new_node3\n",
    "# print(sll.tail.value)\n",
    "    def append(self,value):\n",
    "        new_node=Node(value)\n",
    "        if self.head is None:\n",
    "            self.head=new_node\n",
    "            self.tail=new_node\n",
    "        else:\n",
    "            self.tail.next=new_node\n",
    "            self.tail=new_node\n",
    "        self.length+=1\n",
    "    \n",
    "    def __str__(self):\n",
    "        temp_node=self.head\n",
    "        res=''\n",
    "        while temp_node is not None:\n",
    "            res+=str(temp_node.value)\n",
    "            if temp_node.next is not None:\n",
    "                res+='->'\n",
    "            temp_node=temp_node.next\n",
    "        return res\n",
    "                \n",
    "sll=singlylinkedlist()\n",
    "sll.append(10)\n",
    "sll.append(20)\n",
    "print(sll.tail.value)\n",
    "print(sll.head.value)\n",
    "print(sll.length)\n",
    "print(sll)\n",
    "     \n",
    "        \n",
    "    \n",
    "    \n",
    "        "
   ]
  },
  {
   "cell_type": "code",
   "execution_count": 19,
   "metadata": {},
   "outputs": [
    {
     "name": "stdout",
     "output_type": "stream",
     "text": [
      "101\n",
      "101->89->67\n"
     ]
    }
   ],
   "source": [
    "# insert in the beginning \n",
    "class Node:\n",
    "    def __init__(self,value):\n",
    "        self.value=value\n",
    "        self.next=None\n",
    "class singlylinkedlist:\n",
    "    def __init__(self):\n",
    "        self.head=None\n",
    "        self.tail=None\n",
    "        self.length=0\n",
    "    def prepend(self,value):\n",
    "        new_node=Node(value)\n",
    "        if self.head is None:\n",
    "            self.head=new_node\n",
    "            self.tail=new_node\n",
    "        else:\n",
    "            new_node.next=self.head\n",
    "            self.head=new_node\n",
    "        self.length+=1\n",
    "    def __str__(self):\n",
    "        temp_node=self.head\n",
    "        res=''\n",
    "        while temp_node is not None:\n",
    "            res+=str(temp_node.value)\n",
    "            if temp_node.next is not  None:\n",
    "                res+='->'\n",
    "            temp_node=temp_node.next \n",
    "        return res    \n",
    "    \n",
    "node1=Node(200)\n",
    "node2=Node(300)\n",
    "sll=singlylinkedlist()\n",
    "sll.prepend(67)\n",
    "sll.prepend(89)\n",
    "sll.prepend(101)\n",
    "print(sll.head.value)\n",
    "print(sll)\n",
    "\n",
    "        "
   ]
  },
  {
   "cell_type": "code",
   "execution_count": 34,
   "metadata": {},
   "outputs": [
    {
     "name": "stdout",
     "output_type": "stream",
     "text": [
      "88->76->93->500->43->101\n"
     ]
    }
   ],
   "source": [
    "#insert at specific location\n",
    "class Node:\n",
    "    def __init__(self,value):\n",
    "        self.value=value\n",
    "        self.next=None\n",
    "class singlylinkedlist:\n",
    "    def __init__(self):\n",
    "        self.head=None\n",
    "        self.tail=None\n",
    "        self.length=0\n",
    "        \n",
    "    def prepend(self,value):\n",
    "        new_node=Node(value)\n",
    "        if self.head is None:\n",
    "            self.head=new_node\n",
    "            self.tail=new_node\n",
    "        else:\n",
    "            new_node.next=self.head\n",
    "            self.head=new_node\n",
    "        self.length+=1\n",
    "        \n",
    "    def insert(self,pos,value):\n",
    "        newNode = Node(value)\n",
    "        temp_node=self.head\n",
    "        for _ in range(pos-1):\n",
    "            temp_node=temp_node.next\n",
    "        newNode.next=temp_node.next\n",
    "        temp_node.next=newNode\n",
    "        self.length+=1\n",
    "    \n",
    "    \n",
    "    \n",
    "    def __str__(self):\n",
    "        temp_node=self.head\n",
    "        res=''\n",
    "        while temp_node is not None:\n",
    "            res+=str(temp_node.value)\n",
    "            if temp_node.next is not None:\n",
    "                res+='->'\n",
    "            temp_node=temp_node.next\n",
    "        return res\n",
    "\n",
    "node1=Node(200)\n",
    "node2=Node(300)\n",
    "sll=singlylinkedlist()\n",
    "sll.prepend(101)\n",
    "sll.prepend(43)\n",
    "sll.prepend(93)\n",
    "sll.prepend(76)\n",
    "sll.prepend(88)\n",
    "sll.insert(3,500)\n",
    "print(sll)"
   ]
  },
  {
   "cell_type": "code",
   "execution_count": null,
   "metadata": {},
   "outputs": [],
   "source": []
  }
 ],
 "metadata": {
  "kernelspec": {
   "display_name": "Python 3",
   "language": "python",
   "name": "python3"
  },
  "language_info": {
   "codemirror_mode": {
    "name": "ipython",
    "version": 3
   },
   "file_extension": ".py",
   "mimetype": "text/x-python",
   "name": "python",
   "nbconvert_exporter": "python",
   "pygments_lexer": "ipython3",
   "version": "3.9.6"
  }
 },
 "nbformat": 4,
 "nbformat_minor": 2
}
