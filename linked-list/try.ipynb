{
 "cells": [
  {
   "cell_type": "markdown",
   "metadata": {},
   "source": [
    "chess board : singly linked list\n",
    "spotify : doubly  linked list\n",
    "looping application: circular linked list"
   ]
  }
 ],
 "metadata": {
  "kernelspec": {
   "display_name": "Python 3",
   "language": "python",
   "name": "python3"
  },
  "language_info": {
   "name": "python",
   "version": "3.9.6"
  }
 },
 "nbformat": 4,
 "nbformat_minor": 2
}
