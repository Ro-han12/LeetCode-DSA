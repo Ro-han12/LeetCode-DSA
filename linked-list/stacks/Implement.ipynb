{
 "cells": [
  {
   "cell_type": "code",
   "execution_count": 9,
   "metadata": {},
   "outputs": [
    {
     "name": "stdout",
     "output_type": "stream",
     "text": [
      "applying push method\n",
      "10\n",
      "8\n",
      "6\n",
      "4\n",
      "2\n",
      "applying pop method\n",
      "8\n",
      "6\n",
      "4\n",
      "2\n",
      "applying peek method\n"
     ]
    },
    {
     "data": {
      "text/plain": [
       "8"
      ]
     },
     "execution_count": 9,
     "metadata": {},
     "output_type": "execute_result"
    }
   ],
   "source": [
    "#last in first out\n",
    "# stack creation using lists without size limit\n",
    "class Stack:\n",
    "    def __init__(self):\n",
    "        self.list=[]\n",
    "    def __str__(self):\n",
    "        values=[str(x) for x in reversed(self.list)]\n",
    "        return '\\n'.join(values)\n",
    "    \n",
    "    def isEmpty(self):\n",
    "        if self.list == []:\n",
    "            return True\n",
    "        else:\n",
    "            return False\n",
    "    def push(self,value):\n",
    "        self.list.append(value)\n",
    "        return \"The element is added to stack\"\n",
    "    def pop(self):\n",
    "        if self.isEmpty():\n",
    "            return \"there are no elements\"\n",
    "        else:\n",
    "            return self.list.pop()\n",
    "    def peek(self):\n",
    "        if self.isEmpty():\n",
    "            return \"there are no elements\"\n",
    "        else:\n",
    "            return self.list[len(self.list)-1]\n",
    "    def delete(self):\n",
    "        self.list=None  \n",
    "        \n",
    "        \n",
    "stack=Stack()\n",
    "stack.isEmpty()\n",
    "stack.push(2)\n",
    "stack.push(4)\n",
    "stack.push(6)\n",
    "stack.push(8)\n",
    "stack.push(10)\n",
    "print(\"applying push method\")\n",
    "print(stack)\n",
    "print(\"applying pop method\")\n",
    "stack.pop()\n",
    "print(stack)\n",
    "print(\"applying peek method\")\n",
    "stack.peek()\n",
    "\n"
   ]
  },
  {
   "cell_type": "code",
   "execution_count": null,
   "metadata": {},
   "outputs": [],
   "source": [
    "# stack creation using lists with size limit\n",
    "class Stack:\n",
    "    def __init__(self,maxSize):\n",
    "        self.maxSize=maxSize\n",
    "        self.list=[]\n",
    "    def __str__(self):\n",
    "        values=[str(x) for x in reversed(self.list)]\n",
    "        return '\\n'.join(values)\n",
    "    \n",
    "    def isEmpty(self):\n",
    "        if self.list == []:\n",
    "            return True\n",
    "        else:\n",
    "            return False\n",
    "    \n",
    "    def isFull(self):\n",
    "        if len(self.list) == self.maxSize:\n",
    "            return True\n",
    "        else:\n",
    "            return False\n",
    "        \n",
    "    def push(self,value):\n",
    "        if self.isFull():\n",
    "            return 'cant push'\n",
    "        else:\n",
    "            self.list.append(value)\n",
    "            return 'element ad ded'\n",
    "        \n",
    "    def pop(self):\n",
    "        if self.isEmpty:\n",
    "            return 'no elements'\n",
    "        else:\n",
    "            self.list.pop()\n",
    "    \n",
    "    def peek(self):\n",
    "        pop(self):\n",
    "        if self.isEmpty:\n",
    "            return 'no elements'\n",
    "        else:\n",
    "            return self.list[len(self.list)-1]\n",
    "    def delete(self):\n",
    "        self.list=None\n",
    "       "
   ]
  }
 ],
 "metadata": {
  "kernelspec": {
   "display_name": "Python 3",
   "language": "python",
   "name": "python3"
  },
  "language_info": {
   "codemirror_mode": {
    "name": "ipython",
    "version": 3
   },
   "file_extension": ".py",
   "mimetype": "text/x-python",
   "name": "python",
   "nbconvert_exporter": "python",
   "pygments_lexer": "ipython3",
   "version": "3.10.13"
  }
 },
 "nbformat": 4,
 "nbformat_minor": 2
}
