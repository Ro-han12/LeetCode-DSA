{
 "cells": [
  {
   "cell_type": "code",
   "execution_count": 27,
   "metadata": {},
   "outputs": [
    {
     "name": "stdout",
     "output_type": "stream",
     "text": [
      "8->6->4->2\n",
      "4\n"
     ]
    }
   ],
   "source": [
    "class Node:\n",
    "    def __init__(self, value):\n",
    "        self.data = value\n",
    "        self.next = None\n",
    "\n",
    "class SinglyLL:\n",
    "    def __init__(self):\n",
    "        self.head = None\n",
    "        self.tail = None\n",
    "        self.n = 0\n",
    "\n",
    "    def __len__(self):\n",
    "        return self.n\n",
    "\n",
    "    def insert_head(self, value):\n",
    "        new_node = Node(value)\n",
    "        new_node.next = self.head\n",
    "        self.head = new_node\n",
    "        if self.tail is None:\n",
    "            self.tail = new_node\n",
    "        self.n += 1\n",
    "    def __str__(self):\n",
    "        curr = self.head\n",
    "        res = ''\n",
    "        while curr is not None:\n",
    "            res += str(curr.data) + '->'\n",
    "            curr = curr.next\n",
    "        return res[:-2]\n",
    "    def add(self,Node):\n",
    "        curr=self.head\n",
    "        total=0\n",
    "        while curr.next != None:\n",
    "            total+=curr.data\n",
    "            curr=curr.next\n",
    "        return total\n",
    "        \n",
    "        \n",
    "    \n",
    "ll=SinglyLL()\n",
    "ll.insert_head(2)\n",
    "ll.insert_head(4)\n",
    "ll.insert_head(6)\n",
    "ll.insert_head(8)\n",
    "print(ll)\n",
    "ll.add()\n",
    "\n",
    "print(len(ll))\n"
   ]
  },
  {
   "cell_type": "code",
   "execution_count": null,
   "metadata": {},
   "outputs": [],
   "source": []
  }
 ],
 "metadata": {
  "kernelspec": {
   "display_name": "google",
   "language": "python",
   "name": "python3"
  },
  "language_info": {
   "codemirror_mode": {
    "name": "ipython",
    "version": 3
   },
   "file_extension": ".py",
   "mimetype": "text/x-python",
   "name": "python",
   "nbconvert_exporter": "python",
   "pygments_lexer": "ipython3",
   "version": "3.10.13"
  }
 },
 "nbformat": 4,
 "nbformat_minor": 2
}
