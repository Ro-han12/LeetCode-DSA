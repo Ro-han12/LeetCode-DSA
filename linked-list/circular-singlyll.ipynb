{
 "cells": [
  {
   "cell_type": "code",
   "execution_count": 8,
   "metadata": {},
   "outputs": [
    {
     "name": "stdout",
     "output_type": "stream",
     "text": [
      "99->10->20->30->40\n",
      "99->10->101->\n"
     ]
    }
   ],
   "source": [
    "class Node:\n",
    "    def __init__(self, data):\n",
    "        self.data=data\n",
    "        self.next=None\n",
    "class CSLL:\n",
    "    def __init__(self,data):\n",
    "        new_node=Node(data)\n",
    "        new_node.next=new_node\n",
    "        self.head=new_node\n",
    "        self.tail=new_node\n",
    "        self.length=1\n",
    "        \n",
    "    def append(self,data):\n",
    "        new_node=Node(data)\n",
    "        if self.length is None:\n",
    "            self.head=new_node\n",
    "            self.tail=new_node\n",
    "            new_node.next=new_node\n",
    "        else:\n",
    "            self.tail.next=new_node\n",
    "            new_node.next=self.head\n",
    "            self.tail=new_node\n",
    "        self.length+=1\n",
    "    \n",
    "    def __str__(self):\n",
    "        temp_node=self.head\n",
    "        res=''\n",
    "        while temp_node is not None:\n",
    "            res+=str(temp_node.data)\n",
    "            temp_node=temp_node.next\n",
    "            if temp_node==self.head:\n",
    "                break\n",
    "            res+='->'\n",
    "        return res\n",
    "    \n",
    "    def prepend(self,data):\n",
    "        new_node=Node(data)\n",
    "        if self.length is None:\n",
    "            self.head=new_node\n",
    "            self.tail=new_node\n",
    "            new_node.next=new_node\n",
    "        else:\n",
    "            curr=new_node\n",
    "            curr.next=self.head\n",
    "            self.head=new_node\n",
    "            self.tail.next=curr\n",
    "        self.length+=1\n",
    "        \n",
    "    def insert(self,index,data):\n",
    "        new_node=Node(data)\n",
    "        curr=self.head\n",
    "        for _ in range(index-1):\n",
    "            curr=curr.next\n",
    "        curr.next.next=curr.next\n",
    "        curr.next=new_node\n",
    "        self.length+=1\n",
    "                \n",
    "                \n",
    "            \n",
    "           \n",
    "            \n",
    "            \n",
    "    \n",
    "csll=CSLL(10)\n",
    "csll.append(20)\n",
    "csll.append(30)\n",
    "csll.append(40)\n",
    "csll.prepend(99)\n",
    "# csll.insert(2,101)\n",
    "print(csll)\n",
    "csll.insert(2,101)\n",
    "print(csll)"
   ]
  },
  {
   "cell_type": "code",
   "execution_count": null,
   "metadata": {},
   "outputs": [],
   "source": []
  }
 ],
 "metadata": {
  "kernelspec": {
   "display_name": "Python 3",
   "language": "python",
   "name": "python3"
  },
  "language_info": {
   "codemirror_mode": {
    "name": "ipython",
    "version": 3
   },
   "file_extension": ".py",
   "mimetype": "text/x-python",
   "name": "python",
   "nbconvert_exporter": "python",
   "pygments_lexer": "ipython3",
   "version": "3.10.13"
  }
 },
 "nbformat": 4,
 "nbformat_minor": 2
}
