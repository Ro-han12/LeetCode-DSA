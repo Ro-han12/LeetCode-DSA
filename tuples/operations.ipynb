{
 "cells": [
  {
   "cell_type": "code",
   "execution_count": 1,
   "metadata": {},
   "outputs": [
    {
     "name": "stdout",
     "output_type": "stream",
     "text": [
      "('a', 'b', 'c', 'd')\n"
     ]
    },
    {
     "data": {
      "text/plain": [
       "('a', ('a', 'b', 'c', 'd'))"
      ]
     },
     "execution_count": 1,
     "metadata": {},
     "output_type": "execute_result"
    }
   ],
   "source": [
    "tup=('a','b','c','d')\n",
    "tup1=('a',tup)\n",
    "print(tup)\n",
    "tup1"
   ]
  },
  {
   "cell_type": "code",
   "execution_count": 2,
   "metadata": {},
   "outputs": [
    {
     "name": "stdout",
     "output_type": "stream",
     "text": [
      "True\n"
     ]
    }
   ],
   "source": [
    "print('a' in tup)"
   ]
  },
  {
   "cell_type": "code",
   "execution_count": 3,
   "metadata": {},
   "outputs": [
    {
     "data": {
      "text/plain": [
       "'c found at 2 index'"
      ]
     },
     "execution_count": 3,
     "metadata": {},
     "output_type": "execute_result"
    }
   ],
   "source": [
    "tup=('a','b','c','d')\n",
    "def search(p_tuple,element):\n",
    "    for i in range(0,len(p_tuple)):\n",
    "        if p_tuple[i]==element:\n",
    "            return f\"{element} found at {i} index\"\n",
    "    return 'not found'\n",
    "search(tup,'c')"
   ]
  },
  {
   "cell_type": "code",
   "execution_count": 4,
   "metadata": {},
   "outputs": [
    {
     "name": "stdout",
     "output_type": "stream",
     "text": [
      "6\n"
     ]
    }
   ],
   "source": [
    "init_tuple = [(0, 1), (1, 2), (2, 3)]\n",
    " \n",
    "result = sum(n for _, n in init_tuple)\n",
    " \n",
    "print(result)"
   ]
  },
  {
   "cell_type": "code",
   "execution_count": 8,
   "metadata": {},
   "outputs": [
    {
     "name": "stdout",
     "output_type": "stream",
     "text": [
      "(10, 24)\n"
     ]
    }
   ],
   "source": [
    "input_tuple = (1, 2, 3, 4)\n",
    "def sum_product(input_tuple):\n",
    "    sum=0\n",
    "    product=1\n",
    "    for i in input_tuple:\n",
    "        sum+=i \n",
    "        product*=i\n",
    "    return sum,product\n",
    "print(sum_product(input_tuple))"
   ]
  },
  {
   "cell_type": "code",
   "execution_count": 21,
   "metadata": {},
   "outputs": [
    {
     "data": {
      "text/plain": [
       "(5, 7, 9)"
      ]
     },
     "execution_count": 21,
     "metadata": {},
     "output_type": "execute_result"
    }
   ],
   "source": [
    "tuple1 = (1, 2, 3)\n",
    "tuple2 = (4, 5, 6)\n",
    "def tuple_elementwise_sum(tuple1, tuple2):\n",
    "    if len(tuple1) != len(tuple2):\n",
    "        raise ValueError(\"Input tuples must have the same length.\")\n",
    "    res=tuple(a+b for a,b in  zip(tuple1, tuple2))\n",
    "    return res\n",
    "tuple_elementwise_sum(tuple1, tuple2)\n"
   ]
  },
  {
   "cell_type": "code",
   "execution_count": null,
   "metadata": {},
   "outputs": [],
   "source": []
  }
 ],
 "metadata": {
  "kernelspec": {
   "display_name": "Python 3",
   "language": "python",
   "name": "python3"
  },
  "language_info": {
   "codemirror_mode": {
    "name": "ipython",
    "version": 3
   },
   "file_extension": ".py",
   "mimetype": "text/x-python",
   "name": "python",
   "nbconvert_exporter": "python",
   "pygments_lexer": "ipython3",
   "version": "3.9.6"
  }
 },
 "nbformat": 4,
 "nbformat_minor": 2
}
