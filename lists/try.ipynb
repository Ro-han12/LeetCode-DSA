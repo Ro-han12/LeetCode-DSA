{
 "cells": [
  {
   "cell_type": "code",
   "execution_count": 2,
   "metadata": {},
   "outputs": [
    {
     "name": "stdout",
     "output_type": "stream",
     "text": [
      "['milk', 'buuter']\n"
     ]
    }
   ],
   "source": [
    "shopping_list=['milk','cheese','buuter']\n",
    "l=[]\n",
    "for i in shopping_list:\n",
    "    if i!='cheese':\n",
    "        l.append(i)\n",
    "shopping_list=l\n",
    "print(shopping_list)\n"
   ]
  },
  {
   "cell_type": "code",
   "execution_count": 12,
   "metadata": {},
   "outputs": [
    {
     "data": {
      "text/plain": [
       "-1"
      ]
     },
     "execution_count": 12,
     "metadata": {},
     "output_type": "execute_result"
    }
   ],
   "source": [
    "#linear search \n",
    "target=100\n",
    "l1=[23,45,67,89]\n",
    "def linear_search(l1,target):\n",
    "    for i,val in enumerate(l1):\n",
    "        if val == target:\n",
    "            return i\n",
    "    return -1\n",
    "linear_search(l1,target)\n",
    "#time complexity: O(n)\n",
    "#space: o(1)"
   ]
  },
  {
   "cell_type": "code",
   "execution_count": 22,
   "metadata": {},
   "outputs": [
    {
     "name": "stdout",
     "output_type": "stream",
     "text": [
      "average: 3.0\n"
     ]
    }
   ],
   "source": [
    "total=0\n",
    "count=0\n",
    "while True:\n",
    "    value=input(\"enter a number\")\n",
    "    if value == 'done':\n",
    "        break\n",
    "    value=float(value)\n",
    "    total+=value\n",
    "    count=count+1\n",
    "    avg=total/count\n",
    "print(\"average:\",avg)"
   ]
  },
  {
   "cell_type": "code",
   "execution_count": 36,
   "metadata": {},
   "outputs": [
    {
     "name": "stdout",
     "output_type": "stream",
     "text": [
      "<class 'tuple'>\n"
     ]
    },
    {
     "data": {
      "text/plain": [
       "1"
      ]
     },
     "execution_count": 36,
     "metadata": {},
     "output_type": "execute_result"
    }
   ],
   "source": [
    "s=('12','23','12')\n",
    "b=list(s)\n",
    "b\n",
    "print(type(s))\n"
   ]
  },
  {
   "cell_type": "code",
   "execution_count": 51,
   "metadata": {},
   "outputs": [
    {
     "data": {
      "text/plain": [
       "[2]"
      ]
     },
     "execution_count": 51,
     "metadata": {},
     "output_type": "execute_result"
    }
   ],
   "source": [
    "pre_list=[2,4,6,7]\n",
    "# pre_list[::2]=[23,11]\n",
    "pre_list[:1]\n",
    "# print(pre_list)\n",
    "# new=[i*2 for i in pre_list]\n",
    "# print(new)"
   ]
  },
  {
   "cell_type": "code",
   "execution_count": 12,
   "metadata": {},
   "outputs": [
    {
     "name": "stdout",
     "output_type": "stream",
     "text": [
      "[20, 21]\n"
     ]
    },
    {
     "data": {
      "text/plain": [
       "[0, 0, 0, 20, 21]"
      ]
     },
     "execution_count": 12,
     "metadata": {},
     "output_type": "execute_result"
    }
   ],
   "source": [
    "prev_list=[-1,9.-18,-9,20,21]\n",
    "new=[i for i in prev_list if i>0]\n",
    "print(new)#positive integers\n",
    "ls=[i if  i>0 else 0 for i in prev_list]\n",
    "ls\n",
    "#replace -ve with 0\n"
   ]
  },
  {
   "cell_type": "code",
   "execution_count": 8,
   "metadata": {},
   "outputs": [
    {
     "name": "stdout",
     "output_type": "stream",
     "text": [
      "['m', 'r', 'h', 'n']\n"
     ]
    }
   ],
   "source": [
    "senetence='i am rohan'\n",
    "def is_consonents(letter):\n",
    "    vowels='aeiou'\n",
    "    return letter.isalpha() and letter.lower() not in vowels\n",
    "constonents=[i for i in senetence if is_consonents(i)]\n",
    "print(constonents)\n",
    "# print consonents"
   ]
  },
  {
   "cell_type": "code",
   "execution_count": 19,
   "metadata": {},
   "outputs": [
    {
     "name": "stdout",
     "output_type": "stream",
     "text": [
      "22\n"
     ]
    }
   ],
   "source": [
    "fruit_list1 = ['Apple', 'Berry', 'Cherry', 'Papaya']\n",
    "fruit_list2 = fruit_list1\n",
    "fruit_list3 = fruit_list1[:]\n",
    " \n",
    "fruit_list2[0] = 'Guava'\n",
    "fruit_list3[1] = 'Kiwi'\n",
    " \n",
    "sum = 0\n",
    "for ls in (fruit_list1, fruit_list2, fruit_list3):\n",
    "    if ls[0] == 'Guava':\n",
    "        sum += 1\n",
    "    if ls[1] == 'Kiwi':\n",
    "        sum += 20\n",
    " \n",
    "print(sum)"
   ]
  },
  {
   "cell_type": "code",
   "execution_count": 20,
   "metadata": {},
   "outputs": [
    {
     "name": "stdout",
     "output_type": "stream",
     "text": [
      "[1, 3, 5, 7, 9]\n"
     ]
    }
   ],
   "source": [
    "a=[1,2,3,4,5,6,7,8,9]\n",
    "print(a[::2])"
   ]
  },
  {
   "cell_type": "code",
   "execution_count": 21,
   "metadata": {},
   "outputs": [
    {
     "ename": "ValueError",
     "evalue": "attempt to assign sequence of size 6 to extended slice of size 5",
     "output_type": "error",
     "traceback": [
      "\u001b[0;31m---------------------------------------------------------------------------\u001b[0m",
      "\u001b[0;31mValueError\u001b[0m                                Traceback (most recent call last)",
      "\u001b[1;32m/Users/rohansridhar/Desktop/dsa-Python/lists/try.ipynb Cell 10\u001b[0m line \u001b[0;36m2\n\u001b[1;32m      <a href='vscode-notebook-cell:/Users/rohansridhar/Desktop/dsa-Python/lists/try.ipynb#X12sZmlsZQ%3D%3D?line=0'>1</a>\u001b[0m a\u001b[39m=\u001b[39m[\u001b[39m1\u001b[39m,\u001b[39m2\u001b[39m,\u001b[39m3\u001b[39m,\u001b[39m4\u001b[39m,\u001b[39m5\u001b[39m,\u001b[39m6\u001b[39m,\u001b[39m7\u001b[39m,\u001b[39m8\u001b[39m,\u001b[39m9\u001b[39m]\n\u001b[0;32m----> <a href='vscode-notebook-cell:/Users/rohansridhar/Desktop/dsa-Python/lists/try.ipynb#X12sZmlsZQ%3D%3D?line=1'>2</a>\u001b[0m a[::\u001b[39m2\u001b[39;49m]\u001b[39m=\u001b[39m\u001b[39m10\u001b[39m,\u001b[39m20\u001b[39m,\u001b[39m30\u001b[39m,\u001b[39m40\u001b[39m,\u001b[39m50\u001b[39m,\u001b[39m60\u001b[39m\n\u001b[1;32m      <a href='vscode-notebook-cell:/Users/rohansridhar/Desktop/dsa-Python/lists/try.ipynb#X12sZmlsZQ%3D%3D?line=2'>3</a>\u001b[0m \u001b[39mprint\u001b[39m(a)\n",
      "\u001b[0;31mValueError\u001b[0m: attempt to assign sequence of size 6 to extended slice of size 5"
     ]
    }
   ],
   "source": [
    "a=[1,2,3,4,5,6,7,8,9]\n",
    "a[::2]=10,20,30,40,50,60\n",
    "print(a)"
   ]
  },
  {
   "cell_type": "code",
   "execution_count": 22,
   "metadata": {},
   "outputs": [
    {
     "name": "stdout",
     "output_type": "stream",
     "text": [
      "4\n",
      "7\n",
      "11\n",
      "15\n"
     ]
    }
   ],
   "source": [
    "arr = [[1, 2, 3, 4],\n",
    "       [4, 5, 6, 7],\n",
    "       [8, 9, 10, 11],\n",
    "       [12, 13, 14, 15]]\n",
    "for i in range(0, 4):\n",
    "    print(arr[i].pop())"
   ]
  },
  {
   "cell_type": "code",
   "execution_count": 23,
   "metadata": {},
   "outputs": [
    {
     "name": "stdout",
     "output_type": "stream",
     "text": [
      "4\n"
     ]
    }
   ],
   "source": [
    "data = [[[1, 2], [3, 4]], [[5, 6], [7, 8]]]\n",
    "def fun(m):\n",
    "    v = m[0][0]\n",
    " \n",
    "    for row in m:\n",
    "        for element in row:\n",
    "            if v < element: v = element\n",
    " \n",
    "    return v\n",
    "print(fun(data[0]))"
   ]
  },
  {
   "cell_type": "code",
   "execution_count": null,
   "metadata": {},
   "outputs": [],
   "source": []
  }
 ],
 "metadata": {
  "kernelspec": {
   "display_name": "Python 3",
   "language": "python",
   "name": "python3"
  },
  "language_info": {
   "codemirror_mode": {
    "name": "ipython",
    "version": 3
   },
   "file_extension": ".py",
   "mimetype": "text/x-python",
   "name": "python",
   "nbconvert_exporter": "python",
   "pygments_lexer": "ipython3",
   "version": "3.9.6"
  }
 },
 "nbformat": 4,
 "nbformat_minor": 2
}
