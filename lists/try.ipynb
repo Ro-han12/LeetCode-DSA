{
 "cells": [
  {
   "cell_type": "code",
   "execution_count": 2,
   "metadata": {},
   "outputs": [
    {
     "name": "stdout",
     "output_type": "stream",
     "text": [
      "['milk', 'buuter']\n"
     ]
    }
   ],
   "source": [
    "shopping_list=['milk','cheese','buuter']\n",
    "l=[]\n",
    "for i in shopping_list:\n",
    "    if i!='cheese':\n",
    "        l.append(i)\n",
    "shopping_list=l\n",
    "print(shopping_list)\n"
   ]
  },
  {
   "cell_type": "code",
   "execution_count": 12,
   "metadata": {},
   "outputs": [
    {
     "data": {
      "text/plain": [
       "-1"
      ]
     },
     "execution_count": 12,
     "metadata": {},
     "output_type": "execute_result"
    }
   ],
   "source": [
    "#linear search \n",
    "target=100\n",
    "l1=[23,45,67,89]\n",
    "def linear_search(l1,target):\n",
    "    for i,val in enumerate(l1):\n",
    "        if val == target:\n",
    "            return i\n",
    "    return -1\n",
    "linear_search(l1,target)\n",
    "#time complexity: O(n)\n",
    "#space: o(1)"
   ]
  },
  {
   "cell_type": "code",
   "execution_count": 22,
   "metadata": {},
   "outputs": [
    {
     "name": "stdout",
     "output_type": "stream",
     "text": [
      "average: 3.0\n"
     ]
    }
   ],
   "source": [
    "total=0\n",
    "count=0\n",
    "while True:\n",
    "    value=input(\"enter a number\")\n",
    "    if value == 'done':\n",
    "        break\n",
    "    value=float(value)\n",
    "    total+=value\n",
    "    count=count+1\n",
    "    avg=total/count\n",
    "print(\"average:\",avg)"
   ]
  },
  {
   "cell_type": "code",
   "execution_count": 36,
   "metadata": {},
   "outputs": [
    {
     "name": "stdout",
     "output_type": "stream",
     "text": [
      "<class 'tuple'>\n"
     ]
    },
    {
     "data": {
      "text/plain": [
       "1"
      ]
     },
     "execution_count": 36,
     "metadata": {},
     "output_type": "execute_result"
    }
   ],
   "source": [
    "s=('12','23','12')\n",
    "b=list(s)\n",
    "b\n",
    "print(type(s))\n"
   ]
  },
  {
   "cell_type": "code",
   "execution_count": 51,
   "metadata": {},
   "outputs": [
    {
     "data": {
      "text/plain": [
       "[2]"
      ]
     },
     "execution_count": 51,
     "metadata": {},
     "output_type": "execute_result"
    }
   ],
   "source": [
    "pre_list=[2,4,6,7]\n",
    "# pre_list[::2]=[23,11]\n",
    "pre_list[:1]\n",
    "# print(pre_list)\n",
    "# new=[i*2 for i in pre_list]\n",
    "# print(new)"
   ]
  },
  {
   "cell_type": "code",
   "execution_count": null,
   "metadata": {},
   "outputs": [],
   "source": []
  }
 ],
 "metadata": {
  "kernelspec": {
   "display_name": "Python 3",
   "language": "python",
   "name": "python3"
  },
  "language_info": {
   "codemirror_mode": {
    "name": "ipython",
    "version": 3
   },
   "file_extension": ".py",
   "mimetype": "text/x-python",
   "name": "python",
   "nbconvert_exporter": "python",
   "pygments_lexer": "ipython3",
   "version": "3.9.6"
  }
 },
 "nbformat": 4,
 "nbformat_minor": 2
}
