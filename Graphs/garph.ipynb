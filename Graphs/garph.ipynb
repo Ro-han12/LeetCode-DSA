{
 "cells": [
  {
   "cell_type": "code",
   "execution_count": 3,
   "metadata": {},
   "outputs": [
    {
     "name": "stdout",
     "output_type": "stream",
     "text": [
      "['d', 'f', 'r']\n"
     ]
    }
   ],
   "source": [
    "class Graph:\n",
    "    def __init__(self,gdict=None):\n",
    "        if gdict is None:\n",
    "            gdict={}\n",
    "        self.gdict=gdict\n",
    "    def addEgde(self,vertex,edge):\n",
    "        self.gdict[vertex].append(edge)\n",
    "customdict={\n",
    "    \"a\" : [\"b\", \"c\"],\n",
    "    \"b\" : [\"a\", \"d\",\"e\"],\n",
    "    \"c\" : [\"a\", \"e\"],\n",
    "    \"d\" : [\"b\", \"e\",\"f\"],\n",
    "    \"e\" : [\"d\", \"f\"],\n",
    "    \"f\" : [\"d\", \"e\"]\n",
    "}\n",
    "graph=Graph(customdict)\n",
    "graph.addEgde('e','r')\n",
    "print(graph.gdict['e'])\n",
    "    "
   ]
  },
  {
   "cell_type": "code",
   "execution_count": 20,
   "metadata": {},
   "outputs": [
    {
     "name": "stdout",
     "output_type": "stream",
     "text": [
      "A : ['B']\n",
      "B : ['A', 'C']\n",
      "C : ['B']\n"
     ]
    }
   ],
   "source": [
    "# using adjacency list\n",
    "class Graph:\n",
    "    def __init__(self):\n",
    "        self.adjacency_list={}\n",
    "    def add_vertex(self,vertex):\n",
    "        if vertex not in self.adjacency_list.keys():\n",
    "            self.adjacency_list[vertex]=[]\n",
    "            return True\n",
    "        return False\n",
    "    def print_graph(self):\n",
    "        for vertex in self.adjacency_list:\n",
    "            print(vertex,\":\",self.adjacency_list[vertex])\n",
    "    def add_edge(self,vertex1,vertex2):\n",
    "        if vertex1 in self.adjacency_list.keys() and vertex2 in self.adjacency_list.keys() :\n",
    "            self.adjacency_list[vertex1].append(vertex2)\n",
    "            self.adjacency_list[vertex2].append(vertex1)\n",
    "            return True\n",
    "        return False\n",
    "    def remove_edge(self,vertex1,vertex2):\n",
    "        if vertex1 in self.adjacency_list.keys() and vertex2 in self.adjacency_list.keys():\n",
    "            self.adjacency_list[vertex1].remove(vertex2)\n",
    "            self.adjacency_list[vertex2].remove(vertex1)\n",
    "            return True\n",
    "        return False\n",
    "custom_graph=Graph()\n",
    "custom_graph.add_vertex('A')\n",
    "custom_graph.add_vertex('B')\n",
    "custom_graph.add_vertex('C')\n",
    "custom_graph.add_edge('A','B')\n",
    "custom_graph.add_edge('A','C')\n",
    "custom_graph.add_edge('B','C')\n",
    "custom_graph.remove_edge('A','C')\n",
    "custom_graph.print_graph()"
   ]
  },
  {
   "cell_type": "code",
   "execution_count": null,
   "metadata": {},
   "outputs": [],
   "source": []
  }
 ],
 "metadata": {
  "kernelspec": {
   "display_name": "Python 3",
   "language": "python",
   "name": "python3"
  },
  "language_info": {
   "codemirror_mode": {
    "name": "ipython",
    "version": 3
   },
   "file_extension": ".py",
   "mimetype": "text/x-python",
   "name": "python",
   "nbconvert_exporter": "python",
   "pygments_lexer": "ipython3",
   "version": "3.10.13"
  }
 },
 "nbformat": 4,
 "nbformat_minor": 2
}
