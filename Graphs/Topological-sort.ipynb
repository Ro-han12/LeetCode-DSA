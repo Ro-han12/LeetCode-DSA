{
 "cells": [
  {
   "cell_type": "code",
   "execution_count": 9,
   "metadata": {},
   "outputs": [
    {
     "name": "stdout",
     "output_type": "stream",
     "text": [
      "['A', 'c', 'e', 'f', 'g', 'h']\n"
     ]
    }
   ],
   "source": [
    "from collections import defaultdict\n",
    "class Graph:\n",
    "    def __init__(self,numberofvertices):\n",
    "        self.graph=defaultdict(list)\n",
    "        self.numberofvertices=numberofvertices\n",
    "    def add_edge(self,vertex,edge):\n",
    "        self.graph[vertex].append(edge)   \n",
    "        \n",
    "    def try_sort(self,v,visited,stack):\n",
    "        visited.append(v)\n",
    "        for i in self.graph[v]:\n",
    "            if i not in visited:\n",
    "                self.try_sort(i,visited,stack)\n",
    "        stack.insert(0,v)\n",
    "    def topologicalsort(self):\n",
    "        visited=[]\n",
    "        stack=[]\n",
    "        for k in list(self.graph):\n",
    "            if k not in visited:\n",
    "                self.try_sort(k,visited,stack)\n",
    "        print(stack)\n",
    "custom_graph=Graph(8)\n",
    "custom_graph.add_edge('A','c')\n",
    "custom_graph.add_edge('c','e')\n",
    "custom_graph.add_edge('e','h')\n",
    "custom_graph.add_edge('e','f')\n",
    "custom_graph.add_edge('f','g')\n",
    "custom_graph.topologicalsort()\n"
   ]
  },
  {
   "cell_type": "code",
   "execution_count": null,
   "metadata": {},
   "outputs": [],
   "source": []
  }
 ],
 "metadata": {
  "kernelspec": {
   "display_name": "Python 3",
   "language": "python",
   "name": "python3"
  },
  "language_info": {
   "codemirror_mode": {
    "name": "ipython",
    "version": 3
   },
   "file_extension": ".py",
   "mimetype": "text/x-python",
   "name": "python",
   "nbconvert_exporter": "python",
   "pygments_lexer": "ipython3",
   "version": "3.10.13"
  }
 },
 "nbformat": 4,
 "nbformat_minor": 2
}
