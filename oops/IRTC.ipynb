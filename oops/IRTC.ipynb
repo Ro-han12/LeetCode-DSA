{
 "cells": [
  {
   "cell_type": "code",
   "execution_count": null,
   "metadata": {},
   "outputs": [],
   "source": [
    "import requests\n",
    "class IRTC:\n",
    "    def __init__(self):\n",
    "        user_input=input(\"\"\"how would you like to start?\n",
    "                         1.train status\n",
    "                         2.chk pnr\n",
    "                         3.train schedule\"\"\")\n",
    "        if user_input==1:\n",
    "            print(\"live train status\")\n",
    "        elif user_input==2:\n",
    "            print(\"PNR\")\n",
    "        else:\n",
    "            self.train_schedule()\n",
    "    def  train_schedule(self):\n",
    "        train_no=input(\"enter train number\")\n",
    "        self.fetch_data(train_no)\n",
    "    \n",
    "    def fetch_data(self,train_no):\n",
    "        data=requests.get(\"https://indianrailapi.com/api/v2/TrainSchedule/apikey/30c382602bfa67c80e6cfw2becb/TrainNumber/{}\".format(train_no))\n",
    "        data=data.json()\n",
    "        print(data)\n",
    "        \n",
    "obj=IRTC()"
   ]
  },
  {
   "cell_type": "code",
   "execution_count": null,
   "metadata": {},
   "outputs": [],
   "source": []
  }
 ],
 "metadata": {
  "kernelspec": {
   "display_name": "Python 3",
   "language": "python",
   "name": "python3"
  },
  "language_info": {
   "codemirror_mode": {
    "name": "ipython",
    "version": 3
   },
   "file_extension": ".py",
   "mimetype": "text/x-python",
   "name": "python",
   "nbconvert_exporter": "python",
   "pygments_lexer": "ipython3",
   "version": "3.9.6"
  }
 },
 "nbformat": 4,
 "nbformat_minor": 2
}
