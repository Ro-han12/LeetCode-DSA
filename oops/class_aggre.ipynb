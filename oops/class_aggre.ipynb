{
 "cells": [
  {
   "cell_type": "code",
   "execution_count": 18,
   "metadata": {},
   "outputs": [
    {
     "name": "stdout",
     "output_type": "stream",
     "text": [
      "Delhi\n",
      "bangalore\n"
     ]
    }
   ],
   "source": [
    "class Customer:\n",
    "    def __init__(self,name,gender,address):\n",
    "        self.name=name\n",
    "        self.gender = gender\n",
    "        self.address=address\n",
    "    \n",
    "    def edit_profile(self,new_name,new_city,new_pincode,new_state):\n",
    "        self.name = new_name\n",
    "        self.address.change_address(new_city,new_pincode,new_state)\n",
    "    \n",
    "        \n",
    "class Address:\n",
    "    def __init__(self,city,state,pincode):\n",
    "        self.city= city\n",
    "        self.state= state\n",
    "        self.pincode= pincode\n",
    "        \n",
    "    def change_address(self,new_city,new_pincode,new_state):\n",
    "        self.city= new_city\n",
    "        self.state= new_state\n",
    "        self.pincode= new_pincode\n",
    "        \n",
    "    \n",
    "add=Address(\"Delhi\",\"DL\",110047)\n",
    "cust=Customer(\"JohnDoe\",\"male\",add)\n",
    "print(cust.address.city)\n",
    "\n",
    "cust.edit_profile('mini','bangalore',560032,'karnataka')\n",
    "print(cust.address.city)      \n",
    "        "
   ]
  },
  {
   "cell_type": "code",
   "execution_count": 21,
   "metadata": {},
   "outputs": [
    {
     "name": "stdout",
     "output_type": "stream",
     "text": [
      "login\n"
     ]
    }
   ],
   "source": [
    "class User:\n",
    "    def login(self):\n",
    "        print(\"login\")\n",
    "    def regsiter(self):\n",
    "        print(\"resgister\")\n",
    "class Student(User):\n",
    "    def enroll(self):\n",
    "        print(\"enrol\")\n",
    "    def review(self):\n",
    "        print(\"review\")\n",
    "\n",
    "stu1=Student()\n",
    "stu1.login()"
   ]
  },
  {
   "cell_type": "code",
   "execution_count": 25,
   "metadata": {},
   "outputs": [
    {
     "name": "stdout",
     "output_type": "stream",
     "text": [
      "buying a smartphone\n"
     ]
    }
   ],
   "source": [
    "class Phone:\n",
    "    def __init__(self,price,brand,camera):\n",
    "        self.price=price\n",
    "        self.brand=brand\n",
    "        self.camera=camera\n",
    "        \n",
    "    def buy(self):\n",
    "        print(\"buying a  phone\")\n",
    "\n",
    "class Smartphone(Phone):\n",
    "    def buy(self):\n",
    "        print(\"buying a smartphone\")\n",
    "#method overloading       \n",
    "s=Smartphone(12000,'samsung','6')\n",
    "s.buy()\n"
   ]
  },
  {
   "cell_type": "code",
   "execution_count": null,
   "metadata": {},
   "outputs": [],
   "source": [
    "class Parent:\n",
    "    def __init__(self,num):\n",
    "        self.__num=num \n",
    "    def get_num(self):\n",
    "        return self.__num \n",
    "class Child(Parent):\n",
    "    def __init__(self,val,num):\n",
    "        self.__val=val \n",
    "    def get_val(self):\n",
    "        return self.__val\n",
    "son=Child(100,10)\n",
    "print(\"parent num\",son.get_num())\n",
    "print(\"child val\",son.get_val())"
   ]
  },
  {
   "cell_type": "code",
   "execution_count": 28,
   "metadata": {},
   "outputs": [
    {
     "name": "stdout",
     "output_type": "stream",
     "text": [
      "smartphone constructor\n",
      "ios\n",
      "iphone\n"
     ]
    }
   ],
   "source": [
    "class Phone:\n",
    "    def __init__(self,price,brand,camera):\n",
    "        self.price=price\n",
    "        self.brand=brand\n",
    "        self.camera=camera\n",
    "\n",
    "class Smartphone(Phone):\n",
    "    def __init__(self,price,brand,camera,os,ram):\n",
    "        super().__init__(price,brand,camera)\n",
    "        self.os=os\n",
    "        self.ram=ram\n",
    "        print(\"smartphone constructor\")\n",
    "#method overloading       \n",
    "s=Smartphone(12000,'iphone',12,'ios',4)\n",
    "print(s.os)\n",
    "print(s.brand)\n"
   ]
  },
  {
   "cell_type": "code",
   "execution_count": 29,
   "metadata": {},
   "outputs": [
    {
     "name": "stdout",
     "output_type": "stream",
     "text": [
      "70\n"
     ]
    }
   ],
   "source": [
    "class A:\n",
    "    def m1(self):\n",
    "        return 20\n",
    "class B(A):\n",
    "    def m1(self):\n",
    "        return 30 \n",
    "    def m2(self):\n",
    "        return 40\n",
    "class C(B):\n",
    "    def m2(self):\n",
    "        return 20\n",
    "obj1=A()\n",
    "obj2=B()\n",
    "obj3=C()\n",
    "print(obj1.m1()+obj3.m1()+obj3.m2())"
   ]
  },
  {
   "cell_type": "code",
   "execution_count": null,
   "metadata": {},
   "outputs": [],
   "source": []
  }
 ],
 "metadata": {
  "kernelspec": {
   "display_name": "Python 3",
   "language": "python",
   "name": "python3"
  },
  "language_info": {
   "codemirror_mode": {
    "name": "ipython",
    "version": 3
   },
   "file_extension": ".py",
   "mimetype": "text/x-python",
   "name": "python",
   "nbconvert_exporter": "python",
   "pygments_lexer": "ipython3",
   "version": "3.9.6"
  }
 },
 "nbformat": 4,
 "nbformat_minor": 2
}
