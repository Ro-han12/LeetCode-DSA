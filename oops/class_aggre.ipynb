{
 "cells": [
  {
   "cell_type": "code",
   "execution_count": 18,
   "metadata": {},
   "outputs": [
    {
     "name": "stdout",
     "output_type": "stream",
     "text": [
      "Delhi\n",
      "bangalore\n"
     ]
    }
   ],
   "source": [
    "class Customer:\n",
    "    def __init__(self,name,gender,address):\n",
    "        self.name=name\n",
    "        self.gender = gender\n",
    "        self.address=address\n",
    "    \n",
    "    def edit_profile(self,new_name,new_city,new_pincode,new_state):\n",
    "        self.name = new_name\n",
    "        self.address.change_address(new_city,new_pincode,new_state)\n",
    "    \n",
    "        \n",
    "class Address:\n",
    "    def __init__(self,city,state,pincode):\n",
    "        self.city= city\n",
    "        self.state= state\n",
    "        self.pincode= pincode\n",
    "        \n",
    "    def change_address(self,new_city,new_pincode,new_state):\n",
    "        self.city= new_city\n",
    "        self.state= new_state\n",
    "        self.pincode= new_pincode\n",
    "        \n",
    "    \n",
    "add=Address(\"Delhi\",\"DL\",110047)\n",
    "cust=Customer(\"JohnDoe\",\"male\",add)\n",
    "print(cust.address.city)\n",
    "\n",
    "cust.edit_profile('mini','bangalore',560032,'karnataka')\n",
    "print(cust.address.city)      \n",
    "        "
   ]
  },
  {
   "cell_type": "code",
   "execution_count": 21,
   "metadata": {},
   "outputs": [
    {
     "name": "stdout",
     "output_type": "stream",
     "text": [
      "login\n"
     ]
    }
   ],
   "source": [
    "class User:\n",
    "    def login(self):\n",
    "        print(\"login\")\n",
    "    def regsiter(self):\n",
    "        print(\"resgister\")\n",
    "class Student(User):\n",
    "    def enroll(self):\n",
    "        print(\"enrol\")\n",
    "    def review(self):\n",
    "        print(\"review\")\n",
    "\n",
    "stu1=Student()\n",
    "stu1.login()"
   ]
  },
  {
   "cell_type": "code",
   "execution_count": null,
   "metadata": {},
   "outputs": [],
   "source": []
  }
 ],
 "metadata": {
  "kernelspec": {
   "display_name": "Python 3",
   "language": "python",
   "name": "python3"
  },
  "language_info": {
   "codemirror_mode": {
    "name": "ipython",
    "version": 3
   },
   "file_extension": ".py",
   "mimetype": "text/x-python",
   "name": "python",
   "nbconvert_exporter": "python",
   "pygments_lexer": "ipython3",
   "version": "3.9.6"
  }
 },
 "nbformat": 4,
 "nbformat_minor": 2
}
