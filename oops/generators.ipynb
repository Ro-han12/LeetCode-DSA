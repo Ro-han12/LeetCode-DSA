{
 "cells": [
  {
   "cell_type": "code",
   "execution_count": 12,
   "metadata": {},
   "outputs": [
    {
     "data": {
      "text/plain": [
       "25"
      ]
     },
     "execution_count": 12,
     "metadata": {},
     "output_type": "execute_result"
    }
   ],
   "source": [
    "def oddgen(n,m):\n",
    "    while n<m:\n",
    "        yield n\n",
    "        n+=2   \n",
    "sum(oddgen(1,10))"
   ]
  },
  {
   "cell_type": "code",
   "execution_count": 16,
   "metadata": {},
   "outputs": [
    {
     "name": "stdout",
     "output_type": "stream",
     "text": [
      "Time to sum an iterator: 0.035404\n",
      "Time to build and sum a list: 0.047901\n"
     ]
    }
   ],
   "source": [
    "import time\n",
    "def oddGen(n, m):\n",
    "    while n < m:\n",
    "        yield n\n",
    "        n += 2\n",
    "       #builds a list of odd numbers between n and m\n",
    "def oddLst(n,m):\n",
    "    lst=[]\n",
    "    while n<m:\n",
    "        lst.append(n)\n",
    "        n +=2\n",
    "    return lst\n",
    "#the time it takes to perform sum on an iterator\n",
    "t1=time.time()\n",
    "sum(oddGen(1,1000000))\n",
    "print(\"Time to sum an iterator: %f\" % (time.time() - t1))\n",
    "#the time it takes to build and sum a list\n",
    "t1=time.time()\n",
    "sum(oddLst(1,1000000))\n",
    "print(\"Time to build and sum a list: %f\" % (time.time() - t1))"
   ]
  },
  {
   "cell_type": "code",
   "execution_count": null,
   "metadata": {},
   "outputs": [],
   "source": []
  }
 ],
 "metadata": {
  "kernelspec": {
   "display_name": "Python 3",
   "language": "python",
   "name": "python3"
  },
  "language_info": {
   "codemirror_mode": {
    "name": "ipython",
    "version": 3
   },
   "file_extension": ".py",
   "mimetype": "text/x-python",
   "name": "python",
   "nbconvert_exporter": "python",
   "pygments_lexer": "ipython3",
   "version": "3.9.6"
  }
 },
 "nbformat": 4,
 "nbformat_minor": 2
}
