{
 "cells": [
  {
   "cell_type": "code",
   "execution_count": 13,
   "metadata": {},
   "outputs": [
    {
     "name": "stdout",
     "output_type": "stream",
     "text": [
      "created pin\n",
      "deposit done\n"
     ]
    },
    {
     "data": {
      "text/plain": [
       "5000"
      ]
     },
     "execution_count": 13,
     "metadata": {},
     "output_type": "execute_result"
    }
   ],
   "source": [
    "class Atm:\n",
    "    def  __init__(self):\n",
    "        self.pin=\"\"\n",
    "        self.balance=0\n",
    "    def create_pin(self):\n",
    "        self.pin=int(input(\"enter a 6 digit pin\"))\n",
    "        if len(str(self.pin))<=6:\n",
    "            print(\"created pin\")\n",
    "            return self.pin\n",
    "        else:\n",
    "            print(\"6 digit pin only\")\n",
    "            \n",
    "    def deposit(self):\n",
    "        temp=int(input(\"enter a 6 digit pin\"))\n",
    "        if temp == self.pin:\n",
    "            cash=int(input(\"enter amout to deposit\"))\n",
    "            self.balance=self.balance+cash\n",
    "            print(\"deposit done\")\n",
    "            return self.balance\n",
    "        else:\n",
    "            print(\"invalid pin\")\n",
    "atm=Atm()\n",
    "atm.create_pin()\n",
    "atm.deposit()\n",
    "\n",
    "    "
   ]
  },
  {
   "cell_type": "code",
   "execution_count": null,
   "metadata": {},
   "outputs": [],
   "source": []
  }
 ],
 "metadata": {
  "kernelspec": {
   "display_name": "Python 3",
   "language": "python",
   "name": "python3"
  },
  "language_info": {
   "codemirror_mode": {
    "name": "ipython",
    "version": 3
   },
   "file_extension": ".py",
   "mimetype": "text/x-python",
   "name": "python",
   "nbconvert_exporter": "python",
   "pygments_lexer": "ipython3",
   "version": "3.9.6"
  }
 },
 "nbformat": 4,
 "nbformat_minor": 2
}
