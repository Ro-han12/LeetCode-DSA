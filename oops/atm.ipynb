{
 "cells": [
  {
   "cell_type": "code",
   "execution_count": 22,
   "metadata": {},
   "outputs": [
    {
     "name": "stdout",
     "output_type": "stream",
     "text": [
      "invalid pin\n"
     ]
    }
   ],
   "source": [
    "class Atm:\n",
    "    def  __init__(self):\n",
    "        self.pin=\"\"\n",
    "        self.balance=0\n",
    "    \n",
    "    def create_pin(self):\n",
    "        self.pin=int(input(\"enter a 6 digit pin\"))\n",
    "        if len(str(self.pin))<=6:\n",
    "            print(\"created pin\")\n",
    "            return self.pin\n",
    "        else:\n",
    "            print(\"6 digit pin only\")\n",
    "            \n",
    "    def deposit(self):\n",
    "        temp=int(input(\"enter a 6 digit pin\"))\n",
    "        if temp == self.pin:\n",
    "            cash=int(input(\"enter amout to deposit\"))\n",
    "            self.balance=self.balance+cash\n",
    "            print(\"deposit done\")\n",
    "            return self.balance\n",
    "        else:\n",
    "            print(\"invalid pin\")\n",
    "    \n",
    "    def withdraw(self):\n",
    "        need_cash=float(input(\"enter amt to withdraw\"))\n",
    "        if need_cash<=self.balance:\n",
    "            draw_cash=self.balance-need_cash\n",
    "            self.balance=draw_cash\n",
    "            print(f\"cash {need_cash} withdrawn & avaailable balance is {draw_cash}\")\n",
    "        else:\n",
    "            print(\"insuffient balance\")\n",
    "            \n",
    "    \n",
    "atm=Atm()\n",
    "user_input=int(input(\"enter choice 1. craete pin, 2.deposit, 3.withdraw\"))\n",
    "if user_input==1:\n",
    "    atm.create_pin()\n",
    "elif user_input==2:\n",
    "    atm.deposit()\n",
    "elif user_input==3:\n",
    "    atm.withdraw()\n",
    "else:\n",
    "    print(\"invalid choice\")\n",
    "\n",
    "\n",
    "    "
   ]
  },
  {
   "cell_type": "code",
   "execution_count": null,
   "metadata": {},
   "outputs": [],
   "source": []
  }
 ],
 "metadata": {
  "kernelspec": {
   "display_name": "Python 3",
   "language": "python",
   "name": "python3"
  },
  "language_info": {
   "codemirror_mode": {
    "name": "ipython",
    "version": 3
   },
   "file_extension": ".py",
   "mimetype": "text/x-python",
   "name": "python",
   "nbconvert_exporter": "python",
   "pygments_lexer": "ipython3",
   "version": "3.9.6"
  }
 },
 "nbformat": 4,
 "nbformat_minor": 2
}
