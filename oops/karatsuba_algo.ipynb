{
 "cells": [
  {
   "cell_type": "code",
   "execution_count": 2,
   "metadata": {},
   "outputs": [],
   "source": [
    "from math import log10\n",
    "def karatsuba(x,y):\n",
    "    # The base case for recursion\n",
    "    if x < 10 or y < 10:\n",
    "        return x*y\n",
    "    #sets n, the number of digits in the highest input number\n",
    "    n = max(int(log10(x)+1), int(log10(y)+1))\n",
    "    # rounds up n/2\n",
    "    n_2 = int(math.ceil(n / 2.0))\n",
    "    #adds 1 if n is uneven\n",
    "    n = n if n % 2 == 0 else n + 1\n",
    "    #splits the input numbers\n",
    "    a, b = divmod(x, 10**n_2)\n",
    "    c, d = divmod(y, 10**n_2)\n",
    "    #applies the three recursive steps\n",
    "    ac = karatsuba(a,c)\n",
    "    bd = karatsuba(b,d)\n",
    "    ad_bc = karatsuba((a+b),(c+d)) - ac - bd\n",
    "    #performs the multiplication\n",
    "    return (((10**n)*ac) + bd + ((10**n_2)*(ad_bc)))"
   ]
  },
  {
   "cell_type": "code",
   "execution_count": null,
   "metadata": {},
   "outputs": [],
   "source": []
  }
 ],
 "metadata": {
  "kernelspec": {
   "display_name": "Python 3",
   "language": "python",
   "name": "python3"
  },
  "language_info": {
   "codemirror_mode": {
    "name": "ipython",
    "version": 3
   },
   "file_extension": ".py",
   "mimetype": "text/x-python",
   "name": "python",
   "nbconvert_exporter": "python",
   "pygments_lexer": "ipython3",
   "version": "3.9.6"
  }
 },
 "nbformat": 4,
 "nbformat_minor": 2
}
