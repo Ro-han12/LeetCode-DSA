{
 "cells": [
  {
   "cell_type": "code",
   "execution_count": 94,
   "metadata": {},
   "outputs": [
    {
     "data": {
      "text/plain": [
       "{'one': 'rohan',\n",
       " 'tow': 'mini',\n",
       " 'three': 'julie',\n",
       " 'four': 'gym',\n",
       " 'five': 'python'}"
      ]
     },
     "execution_count": 94,
     "metadata": {},
     "output_type": "execute_result"
    }
   ],
   "source": [
    "my_dict=dict(one='rohan',tow='mini',three='julie',four='gym',five=\"python\")\n",
    "my_dict"
   ]
  },
  {
   "cell_type": "code",
   "execution_count": 95,
   "metadata": {},
   "outputs": [
    {
     "data": {
      "text/plain": [
       "{'one': 'rohan', 'tow': 'mini'}"
      ]
     },
     "execution_count": 95,
     "metadata": {},
     "output_type": "execute_result"
    }
   ],
   "source": [
    "my_dict_tuple=[('one','rohan'),('tow','mini')]\n",
    "tup_dic=dict(my_dict_tuple)\n",
    "tup_dic"
   ]
  },
  {
   "cell_type": "code",
   "execution_count": 96,
   "metadata": {},
   "outputs": [
    {
     "name": "stdout",
     "output_type": "stream",
     "text": [
      "before: {'name': 'mini', 'age': 5}\n",
      "after: {'name': 'mini', 'age': 23}\n",
      "after: {'name': 'mini', 'age': 23, 'address': 'home'}\n"
     ]
    }
   ],
   "source": [
    "my_dict={'name': 'mini','age': 5}\n",
    "print(\"before:\",my_dict)\n",
    "my_dict['age']=23\n",
    "print(\"after:\",my_dict)\n",
    "my_dict['address']='home'\n",
    "print(\"after:\",my_dict)"
   ]
  },
  {
   "cell_type": "code",
   "execution_count": 97,
   "metadata": {},
   "outputs": [
    {
     "name": "stdout",
     "output_type": "stream",
     "text": [
      "name : mini\n",
      "age : 23\n",
      "address : home\n"
     ]
    }
   ],
   "source": [
    "def traverse(dict):\n",
    "    for key in dict:\n",
    "        print(key,':', dict[key])\n",
    "traverse(my_dict)\n",
    "    "
   ]
  },
  {
   "cell_type": "code",
   "execution_count": 98,
   "metadata": {},
   "outputs": [
    {
     "data": {
      "text/plain": [
       "'Not Found'"
      ]
     },
     "execution_count": 98,
     "metadata": {},
     "output_type": "execute_result"
    }
   ],
   "source": [
    "def search(dict,value):\n",
    "    for key in dict:\n",
    "        if dict[key]==value:\n",
    "            print(\"value found\")\n",
    "            return key,value\n",
    "    return 'Not Found'\n",
    "search(my_dict,30)\n"
   ]
  },
  {
   "cell_type": "code",
   "execution_count": 99,
   "metadata": {},
   "outputs": [
    {
     "data": {
      "text/plain": [
       "{'name': 'mini', 'address': 'home'}"
      ]
     },
     "execution_count": 99,
     "metadata": {},
     "output_type": "execute_result"
    }
   ],
   "source": [
    "# del my_dict['age']\n",
    "# my_dict\n",
    "my_dict.pop('age')\n",
    "my_dict"
   ]
  },
  {
   "cell_type": "code",
   "execution_count": 100,
   "metadata": {},
   "outputs": [
    {
     "data": {
      "text/plain": [
       "{1: ('a', 'b', 'c'), 2: ('a', 'b', 'c'), 3: ('a', 'b', 'c')}"
      ]
     },
     "execution_count": 100,
     "metadata": {},
     "output_type": "execute_result"
    }
   ],
   "source": [
    "new_dict={}.fromkeys([1,2,3],('a','b','c'))\n",
    "new_dict"
   ]
  },
  {
   "cell_type": "code",
   "execution_count": 101,
   "metadata": {},
   "outputs": [
    {
     "data": {
      "text/plain": [
       "dict_items([('name', 'mini'), ('address', 'home')])"
      ]
     },
     "execution_count": 101,
     "metadata": {},
     "output_type": "execute_result"
    }
   ],
   "source": [
    "my_dict.items()"
   ]
  },
  {
   "cell_type": "code",
   "execution_count": 102,
   "metadata": {},
   "outputs": [
    {
     "data": {
      "text/plain": [
       "dict_keys(['name', 'address'])"
      ]
     },
     "execution_count": 102,
     "metadata": {},
     "output_type": "execute_result"
    }
   ],
   "source": [
    "my_dict.keys()"
   ]
  },
  {
   "cell_type": "code",
   "execution_count": 103,
   "metadata": {},
   "outputs": [
    {
     "data": {
      "text/plain": [
       "{'name': 'mini', 'address': 'home', 'name1': None}"
      ]
     },
     "execution_count": 103,
     "metadata": {},
     "output_type": "execute_result"
    }
   ],
   "source": [
    "my_dict.setdefault('name1')\n",
    "my_dict"
   ]
  },
  {
   "cell_type": "code",
   "execution_count": 104,
   "metadata": {},
   "outputs": [
    {
     "data": {
      "text/plain": [
       "{'one': 1, 'two': 2, 'three': 3}"
      ]
     },
     "execution_count": 104,
     "metadata": {},
     "output_type": "execute_result"
    }
   ],
   "source": [
    "initial_dictionary = {\n",
    "        \"one\": 1,    \n",
    "        \"two\": 2,\n",
    "       }\n",
    "initial_dictionary[\"three\"]=3\n",
    "final=initial_dictionary\n",
    "final"
   ]
  },
  {
   "cell_type": "code",
   "execution_count": 105,
   "metadata": {},
   "outputs": [
    {
     "data": {
      "text/plain": [
       "{'apple': 3, 'orange': 2, 'banana': 1}"
      ]
     },
     "execution_count": 105,
     "metadata": {},
     "output_type": "execute_result"
    }
   ],
   "source": [
    "words = ['apple', 'orange', 'banana', 'apple', 'orange', 'apple']\n",
    "def count_word_frequency(words):\n",
    "    count={}\n",
    "    for word in words:\n",
    "        if word in count:\n",
    "            count[word]+=1\n",
    "        else:\n",
    "            count[word]=1\n",
    "            \n",
    "    return count\n",
    "count_word_frequency(words)\n",
    "# time:O(N)\n",
    "# SPACE: O(N)\n",
    "        "
   ]
  },
  {
   "cell_type": "code",
   "execution_count": 114,
   "metadata": {},
   "outputs": [
    {
     "data": {
      "text/plain": [
       "{'a': 1, 'b': 5, 'c': 7, 'd': 5}"
      ]
     },
     "execution_count": 114,
     "metadata": {},
     "output_type": "execute_result"
    }
   ],
   "source": [
    "dict1 = {'a': 1, 'b': 2, 'c': 3}\n",
    "dict2 = {'b': 3, 'c': 4, 'd': 5}\n",
    "\n",
    "def merge_dicts(dict1, dict2):\n",
    "    dict3=dict1.copy()\n",
    "    for key,val in dict2.items():\n",
    "        if key in dict3:\n",
    "            dict3[key]+=val\n",
    "        else:\n",
    "            dict3[key]=val\n",
    "    return dict3\n",
    "merge_dicts(dict1, dict2)\n",
    "            \n",
    "            \n",
    "    "
   ]
  },
  {
   "cell_type": "code",
   "execution_count": 120,
   "metadata": {},
   "outputs": [
    {
     "data": {
      "text/plain": [
       "'b'"
      ]
     },
     "execution_count": 120,
     "metadata": {},
     "output_type": "execute_result"
    }
   ],
   "source": [
    "my_dict = {'a': 5, 'b': 9, 'c': 2}\n",
    "def max_value_key(my_dict):\n",
    "    return max(my_dict,key=my_dict.get)\n",
    "max_value_key(my_dict)"
   ]
  },
  {
   "cell_type": "code",
   "execution_count": 129,
   "metadata": {},
   "outputs": [
    {
     "data": {
      "text/plain": [
       "{1: 'a', 2: 'b', 3: 'c'}"
      ]
     },
     "execution_count": 129,
     "metadata": {},
     "output_type": "execute_result"
    }
   ],
   "source": [
    "my_dict = {'a': 1, 'b': 2, 'c': 3}\n",
    "def reverse_dict(my_dict):\n",
    "    rev={}\n",
    "    for key,val in my_dict.items():\n",
    "        rev[val]=key\n",
    "    return rev\n",
    "reverse_dict(my_dict)"
   ]
  },
  {
   "cell_type": "code",
   "execution_count": 133,
   "metadata": {},
   "outputs": [
    {
     "data": {
      "text/plain": [
       "{'b': 2, 'd': 4}"
      ]
     },
     "execution_count": 133,
     "metadata": {},
     "output_type": "execute_result"
    }
   ],
   "source": [
    "my_dict = {'a': 1, 'b': 2, 'c': 3, 'd': 4} \n",
    "def condition(my_dict):\n",
    "    filtered_dict={k:v for k, v in my_dict.items() if v % 2 == 0}\n",
    "    return filtered_dict\n",
    "condition(my_dict)"
   ]
  },
  {
   "cell_type": "code",
   "execution_count": 139,
   "metadata": {},
   "outputs": [
    {
     "data": {
      "text/plain": [
       "False"
      ]
     },
     "execution_count": 139,
     "metadata": {},
     "output_type": "execute_result"
    }
   ],
   "source": [
    "list1 = [1, 2, 3, 2, 1]\n",
    "list2 = [3, 1, 2, 1, 3]\n",
    "def check_same_frequency(list1,list2):\n",
    "    def  count_occurrences(lst):\n",
    "        freq_dict={}\n",
    "        for i in lst:\n",
    "            if i in freq_dict:\n",
    "                freq_dict[i]+=1\n",
    "            else:\n",
    "                freq_dict[i]=1\n",
    "        return freq_dict\n",
    "    freq1 = count_occurrences(list1)\n",
    "    freq2 = count_occurrences(list2)\n",
    "    if freq1 == freq2:\n",
    "        return True\n",
    "    else:\n",
    "        return False\n",
    "    \n",
    "check_same_frequency(list1, list2)\n",
    "            \n",
    "            "
   ]
  },
  {
   "cell_type": "code",
   "execution_count": null,
   "metadata": {},
   "outputs": [],
   "source": []
  }
 ],
 "metadata": {
  "kernelspec": {
   "display_name": "Python 3",
   "language": "python",
   "name": "python3"
  },
  "language_info": {
   "codemirror_mode": {
    "name": "ipython",
    "version": 3
   },
   "file_extension": ".py",
   "mimetype": "text/x-python",
   "name": "python",
   "nbconvert_exporter": "python",
   "pygments_lexer": "ipython3",
   "version": "3.9.6"
  }
 },
 "nbformat": 4,
 "nbformat_minor": 2
}
