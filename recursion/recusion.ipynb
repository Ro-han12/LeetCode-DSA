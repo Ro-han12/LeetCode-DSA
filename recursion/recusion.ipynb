{
 "cells": [
  {
   "cell_type": "code",
   "execution_count": 7,
   "metadata": {},
   "outputs": [
    {
     "name": "stdout",
     "output_type": "stream",
     "text": [
      "9\n",
      "8\n",
      "7\n",
      "6\n",
      "5\n",
      "4\n",
      "3\n",
      "2\n"
     ]
    },
    {
     "data": {
      "text/plain": [
       "362880"
      ]
     },
     "execution_count": 7,
     "metadata": {},
     "output_type": "execute_result"
    }
   ],
   "source": [
    "def factorial(n):\n",
    "    if n==0 or  n==1:\n",
    "        return 1\n",
    "    elif n<0:\n",
    "        return 'ENTER POSITIVE NUMBERS ONLY'\n",
    "    else:\n",
    "        print(n)\n",
    "        return n*factorial(n-1)\n",
    "factorial(9)"
   ]
  },
  {
   "cell_type": "code",
   "execution_count": 12,
   "metadata": {},
   "outputs": [
    {
     "data": {
      "text/plain": [
       "8"
      ]
     },
     "execution_count": 12,
     "metadata": {},
     "output_type": "execute_result"
    }
   ],
   "source": [
    "def fib(n):\n",
    "    if n==0:\n",
    "        return 0\n",
    "    elif n==1:\n",
    "        return 1\n",
    "    else:\n",
    "        return fib(n-1)+fib(n-2)\n",
    "fib(6)"
   ]
  },
  {
   "cell_type": "code",
   "execution_count": 2,
   "metadata": {},
   "outputs": [
    {
     "data": {
      "text/plain": [
       "4"
      ]
     },
     "execution_count": 2,
     "metadata": {},
     "output_type": "execute_result"
    }
   ],
   "source": [
    "# sum of positive integer numbers\n",
    "def helper(x,n):\n",
    "    if x == 0:\n",
    "        return 0\n",
    "    if n == 0:\n",
    "        return 1\n",
    "    res=helper(x,n//2)\n",
    "    res=res*res \n",
    "    return x * res if n % 2 else res\n",
    "    \n",
    "res=helper(x,abs(n))\n",
    "return res if n >=0 else 1/res\n",
    "        "
   ]
  },
  {
   "cell_type": "code",
   "execution_count": 1,
   "metadata": {},
   "outputs": [
    {
     "ename": "NameError",
     "evalue": "name 'x' is not defined",
     "output_type": "error",
     "traceback": [
      "\u001b[0;31m---------------------------------------------------------------------------\u001b[0m",
      "\u001b[0;31mNameError\u001b[0m                                 Traceback (most recent call last)",
      "\u001b[1;32m/Users/rohansridhar/Desktop/dsa/LeetCode-DSA/recursion/recusion.ipynb Cell 4\u001b[0m line \u001b[0;36m9\n\u001b[1;32m      <a href='vscode-notebook-cell:/Users/rohansridhar/Desktop/dsa/LeetCode-DSA/recursion/recusion.ipynb#W3sZmlsZQ%3D%3D?line=6'>7</a>\u001b[0m     res\u001b[39m=\u001b[39mres\u001b[39m*\u001b[39mres \n\u001b[1;32m      <a href='vscode-notebook-cell:/Users/rohansridhar/Desktop/dsa/LeetCode-DSA/recursion/recusion.ipynb#W3sZmlsZQ%3D%3D?line=7'>8</a>\u001b[0m     \u001b[39mreturn\u001b[39;00m x\u001b[39m*\u001b[39mres \u001b[39mif\u001b[39;00m x\u001b[39m%\u001b[39m\u001b[39m2\u001b[39m\u001b[39m==\u001b[39m\u001b[39m0\u001b[39m \u001b[39melse\u001b[39;00m \u001b[39mreversed\u001b[39m\n\u001b[0;32m----> <a href='vscode-notebook-cell:/Users/rohansridhar/Desktop/dsa/LeetCode-DSA/recursion/recusion.ipynb#W3sZmlsZQ%3D%3D?line=8'>9</a>\u001b[0m res\u001b[39m=\u001b[39mhelper(x,\u001b[39mabs\u001b[39m(n))\n\u001b[1;32m     <a href='vscode-notebook-cell:/Users/rohansridhar/Desktop/dsa/LeetCode-DSA/recursion/recusion.ipynb#W3sZmlsZQ%3D%3D?line=9'>10</a>\u001b[0m \u001b[39mreturn\u001b[39;00m res \u001b[39mif\u001b[39;00m x\u001b[39m>\u001b[39m\u001b[39m0\u001b[39m \u001b[39melse\u001b[39;00m \u001b[39m1\u001b[39m\u001b[39m/\u001b[39mres\n",
      "\u001b[0;31mNameError\u001b[0m: name 'x' is not defined"
     ]
    }
   ],
   "source": [
    "def helper(x,n):\n",
    "    if x == 0:\n",
    "        return 0\n",
    "    if n == 0:\n",
    "        return 1\n",
    "    res=helper(x,n//2)\n",
    "    res=res*res \n",
    "    return x*res if x%2==0 else reversed\n",
    "res=helper(x,abs(n))\n",
    "return res if x>0 else 1/res"
   ]
  },
  {
   "cell_type": "code",
   "execution_count": null,
   "metadata": {},
   "outputs": [],
   "source": []
  }
 ],
 "metadata": {
  "kernelspec": {
   "display_name": "Python 3",
   "language": "python",
   "name": "python3"
  },
  "language_info": {
   "codemirror_mode": {
    "name": "ipython",
    "version": 3
   },
   "file_extension": ".py",
   "mimetype": "text/x-python",
   "name": "python",
   "nbconvert_exporter": "python",
   "pygments_lexer": "ipython3",
   "version": "3.10.13"
  }
 },
 "nbformat": 4,
 "nbformat_minor": 2
}
