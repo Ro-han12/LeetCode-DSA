{
 "cells": [
  {
   "cell_type": "code",
   "execution_count": 12,
   "metadata": {},
   "outputs": [
    {
     "name": "stdout",
     "output_type": "stream",
     "text": [
      "number 100 is at index 7\n"
     ]
    }
   ],
   "source": [
    "import numpy as np \n",
    "arr=np.array([1,2,4,5,6,7,89,100,101])\n",
    "number=100\n",
    "def linear_search(arr,number):\n",
    "    for i in range(len(arr)):\n",
    "        if arr[i] == number:\n",
    "            print(f\"number {number} is at index {i}\")\n",
    "            break\n",
    "        else:\n",
    "            i+=1\n",
    "linear_search(arr,number)"
   ]
  },
  {
   "cell_type": "code",
   "execution_count": 30,
   "metadata": {},
   "outputs": [
    {
     "data": {
      "text/plain": [
       "(21, 19)"
      ]
     },
     "execution_count": 30,
     "metadata": {},
     "output_type": "execute_result"
    }
   ],
   "source": [
    "# Max Product of Two Integer\n",
    "myarr=[1,2,3,13,16,17,19,21]\n",
    "def max_product(arr):\n",
    "    max1,max2=0,0\n",
    "    for num in arr:\n",
    "        if num>max1:\n",
    "            max2=max1\n",
    "            max1=num\n",
    "        elif num>max2:\n",
    "            max2=num \n",
    "    return max1*max2\n",
    "max_product(arr)"
   ]
  },
  {
   "cell_type": "code",
   "execution_count": 20,
   "metadata": {},
   "outputs": [
    {
     "name": "stdout",
     "output_type": "stream",
     "text": [
      "[2, 3]\n"
     ]
    }
   ],
   "source": [
    "# Write a function called middle that takes a list and returns a new list that contains all but the first and last elements\n",
    "myList = [1, 2, 3, 4]\n",
    "def middle(lst):\n",
    "    return lst[1:-1]\n",
    "print(middle(myList)) "
   ]
  },
  {
   "cell_type": "code",
   "execution_count": 26,
   "metadata": {},
   "outputs": [
    {
     "name": "stdout",
     "output_type": "stream",
     "text": [
      "Sum of elements on the diagonal:  15\n"
     ]
    }
   ],
   "source": [
    "myList2D= [[1,2,3],[4,5,6],[7,8,9]] \n",
    "def diagnol(arr):\n",
    "    sum=0\n",
    "    for i in range(len(arr)):\n",
    "            sum=sum+(arr[i][i])\n",
    "    return sum\n",
    "print(\"Sum of elements on the diagonal: \",diagnol(myList2D))\n",
    "            "
   ]
  },
  {
   "cell_type": "code",
   "execution_count": 32,
   "metadata": {},
   "outputs": [
    {
     "data": {
      "text/plain": [
       "(90, 87)"
      ]
     },
     "execution_count": 32,
     "metadata": {},
     "output_type": "execute_result"
    }
   ],
   "source": [
    "myList = [84,85,86,87,85,90,85,83,23,45,84,1,2,0]\n",
    "def first_second(my_list):\n",
    "    max1,max2=0,0\n",
    "    for i in myList:\n",
    "        if i>max1:\n",
    "            max2=max1\n",
    "            max1=i\n",
    "        elif i>max2:\n",
    "            max2=i \n",
    "    return max1,max2 \n",
    "first_second(myList)\n",
    "\n",
    "        "
   ]
  },
  {
   "cell_type": "code",
   "execution_count": 50,
   "metadata": {},
   "outputs": [
    {
     "data": {
      "text/plain": [
       "[1, 2, 3, 4, 5]"
      ]
     },
     "execution_count": 50,
     "metadata": {},
     "output_type": "execute_result"
    }
   ],
   "source": [
    "arr=[1, 1, 2, 2, 3, 4, 5]\n",
    "def remove_duplicates(arr):\n",
    "    i=0\n",
    "    while i<len(arr)-1:\n",
    "        if arr[i] == arr[i+1]:\n",
    "            arr.remove(arr[i])\n",
    "        else:\n",
    "            i+=1\n",
    "    return arr\n",
    "remove_duplicates(arr)"
   ]
  },
  {
   "cell_type": "code",
   "execution_count": 61,
   "metadata": {},
   "outputs": [
    {
     "name": "stdout",
     "output_type": "stream",
     "text": [
      "['2+5', '4+3', '3+4', '-2+9']\n"
     ]
    }
   ],
   "source": [
    "# pairSum\n",
    "arr=[2, 4, 3, 5, 6, -2, 4, 7, 8, 9]\n",
    "sum=7\n",
    "def pair_sum(myList, sum):\n",
    "    res=[]\n",
    "    for i in range(len(myList)):\n",
    "        for j in range(i+1, len(myList)):\n",
    "            if  myList[i]+myList[j]==sum:\n",
    "                res.append(f\"{arr[i]}+{arr[j]}\")\n",
    "    return res\n",
    "print(pair_sum(arr, sum))\n",
    "    \n",
    "    "
   ]
  },
  {
   "cell_type": "code",
   "execution_count": null,
   "metadata": {},
   "outputs": [],
   "source": []
  }
 ],
 "metadata": {
  "kernelspec": {
   "display_name": "Python 3",
   "language": "python",
   "name": "python3"
  },
  "language_info": {
   "codemirror_mode": {
    "name": "ipython",
    "version": 3
   },
   "file_extension": ".py",
   "mimetype": "text/x-python",
   "name": "python",
   "nbconvert_exporter": "python",
   "pygments_lexer": "ipython3",
   "version": "3.9.6"
  }
 },
 "nbformat": 4,
 "nbformat_minor": 2
}
