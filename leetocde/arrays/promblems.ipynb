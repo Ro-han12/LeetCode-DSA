{
 "cells": [
  {
   "cell_type": "code",
   "execution_count": 12,
   "metadata": {},
   "outputs": [
    {
     "name": "stdout",
     "output_type": "stream",
     "text": [
      "number 100 is at index 7\n"
     ]
    }
   ],
   "source": [
    "import numpy as np \n",
    "arr=np.array([1,2,4,5,6,7,89,100,101])\n",
    "number=100\n",
    "def linear_search(arr,number):\n",
    "    for i in range(len(arr)):\n",
    "        if arr[i] == number:\n",
    "            print(f\"number {number} is at index {i}\")\n",
    "            break\n",
    "        else:\n",
    "            i+=1\n",
    "linear_search(arr,number)"
   ]
  },
  {
   "cell_type": "code",
   "execution_count": 32,
   "metadata": {},
   "outputs": [
    {
     "data": {
      "text/plain": [
       "63"
      ]
     },
     "execution_count": 32,
     "metadata": {},
     "output_type": "execute_result"
    }
   ],
   "source": [
    "# Max Product of Two Integer\n",
    "myarr=[1,2,3,13,16,17,19,21]\n",
    "def max_product(arr):\n",
    "    max1,max2=0,0\n",
    "    for num in arr:\n",
    "        if num>max1:\n",
    "            max2=max1\n",
    "            max1=num\n",
    "        elif num>max2:\n",
    "            max2=num \n",
    "    return max1*max2\n",
    "max_product(arr)"
   ]
  }
 ],
 "metadata": {
  "kernelspec": {
   "display_name": "Python 3",
   "language": "python",
   "name": "python3"
  },
  "language_info": {
   "codemirror_mode": {
    "name": "ipython",
    "version": 3
   },
   "file_extension": ".py",
   "mimetype": "text/x-python",
   "name": "python",
   "nbconvert_exporter": "python",
   "pygments_lexer": "ipython3",
   "version": "3.9.6"
  }
 },
 "nbformat": 4,
 "nbformat_minor": 2
}
