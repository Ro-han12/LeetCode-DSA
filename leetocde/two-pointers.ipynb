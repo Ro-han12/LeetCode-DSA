{
 "cells": [
  {
   "cell_type": "code",
   "execution_count": 13,
   "metadata": {},
   "outputs": [
    {
     "data": {
      "text/plain": [
       "5"
      ]
     },
     "execution_count": 13,
     "metadata": {},
     "output_type": "execute_result"
    }
   ],
   "source": [
    "def two_pointers(prices):\n",
    "    maxp=0\n",
    "    l,r=0,1\n",
    "    while r < len(prices):\n",
    "        if prices[l]<prices[r]:\n",
    "            profit=prices[r]-prices[l]\n",
    "            maxp=max(profit,maxp)\n",
    "        else:\n",
    "            l=r\n",
    "        r+=1\n",
    "    return maxp\n",
    "prices=[7,1,5,3,6,4]\n",
    "two_pointers(prices)\n",
    "#space complexity O(N)\n",
    "#TIME COMLEXITY 0(N)"
   ]
  },
  {
   "cell_type": "code",
   "execution_count": null,
   "metadata": {},
   "outputs": [],
   "source": []
  }
 ],
 "metadata": {
  "kernelspec": {
   "display_name": "Python 3",
   "language": "python",
   "name": "python3"
  },
  "language_info": {
   "codemirror_mode": {
    "name": "ipython",
    "version": 3
   },
   "file_extension": ".py",
   "mimetype": "text/x-python",
   "name": "python",
   "nbconvert_exporter": "python",
   "pygments_lexer": "ipython3",
   "version": "3.9.6"
  }
 },
 "nbformat": 4,
 "nbformat_minor": 2
}
