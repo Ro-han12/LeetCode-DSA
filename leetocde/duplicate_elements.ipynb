{
 "cells": [
  {
   "cell_type": "code",
   "execution_count": 13,
   "metadata": {},
   "outputs": [
    {
     "name": "stdout",
     "output_type": "stream",
     "text": [
      "True\n"
     ]
    }
   ],
   "source": [
    "#Brute force approach\n",
    "l=[1,2,3,1]\n",
    "for i in l:\n",
    "    if l.count(i)>1:\n",
    "        print(True) \n",
    "        break\n",
    "    else:\n",
    "        print('False')\n",
    "#TIME complexity: O(N^2)\n",
    "#SPACE complexity: O(N)\n"
   ]
  },
  {
   "cell_type": "code",
   "execution_count": 16,
   "metadata": {},
   "outputs": [
    {
     "name": "stdout",
     "output_type": "stream",
     "text": [
      "True\n"
     ]
    }
   ],
   "source": [
    "#using sorting \n",
    "l.sort()\n",
    "for i in l:\n",
    "    if l.count(i)>1:\n",
    "        print(\"True\")\n",
    "        break \n",
    "    else:\n",
    "        print(\"false\")\n",
    "    \n",
    "#TIME complexity: O(n log n)\n",
    "#SPACE complexity: O(N)\n"
   ]
  },
  {
   "cell_type": "code",
   "execution_count": 19,
   "metadata": {},
   "outputs": [
    {
     "data": {
      "text/plain": [
       "True"
      ]
     },
     "execution_count": 19,
     "metadata": {},
     "output_type": "execute_result"
    }
   ],
   "source": [
    "#using hashset \n",
    "def hashset(l):\n",
    "    hashset=set()\n",
    "    for n in l:\n",
    "        if n in hashset:\n",
    "            return True \n",
    "        hashset.add(n)\n",
    "    return False\n",
    "    \n",
    "hashset(l)\n",
    "#TIME complexity: O(n)\n",
    "#SPACE complexity: O(N)"
   ]
  },
  {
   "cell_type": "code",
   "execution_count": null,
   "metadata": {},
   "outputs": [],
   "source": []
  }
 ],
 "metadata": {
  "kernelspec": {
   "display_name": "Python 3",
   "language": "python",
   "name": "python3"
  },
  "language_info": {
   "codemirror_mode": {
    "name": "ipython",
    "version": 3
   },
   "file_extension": ".py",
   "mimetype": "text/x-python",
   "name": "python",
   "nbconvert_exporter": "python",
   "pygments_lexer": "ipython3",
   "version": "3.9.6"
  }
 },
 "nbformat": 4,
 "nbformat_minor": 2
}
