{
 "cells": [
  {
   "cell_type": "code",
   "execution_count": 11,
   "metadata": {},
   "outputs": [
    {
     "name": "stdout",
     "output_type": "stream",
     "text": [
      "inserted\n",
      "inserted\n"
     ]
    },
    {
     "data": {
      "text/plain": [
       "False"
      ]
     },
     "execution_count": 11,
     "metadata": {},
     "output_type": "execute_result"
    }
   ],
   "source": [
    "# stores each character at each node\n",
    "# used for auto completion & spelling checker\n",
    "\n",
    "class TrieNode:\n",
    "    def __init__(self):\n",
    "        self.children={}\n",
    "        self.endOfString=False\n",
    "class Trie:\n",
    "    def __init__(self):\n",
    "        self.root=TrieNode()\n",
    "        \n",
    "    def insert(self,word):\n",
    "        current=self.root\n",
    "        for i in word:\n",
    "            ch=i \n",
    "            node=current.children.get(ch)\n",
    "            if node == None:\n",
    "                node=TrieNode()\n",
    "                current.children.update({ch:node})\n",
    "            current=node \n",
    "        current.endOfString=True\n",
    "        print(\"inserted\")\n",
    "        \n",
    "    def search(self,word):\n",
    "        current=self.root\n",
    "        for i in word:\n",
    "            node=current.children.get(i)\n",
    "            if node == None:\n",
    "                return False\n",
    "            current=node\n",
    "        if current.endOfString == True:\n",
    "            return True\n",
    "        else:\n",
    "            return False\n",
    "def delete(root,word,index):\n",
    "    ch=word[index]\n",
    "    current=root.children.get(ch)\n",
    "    candelete=False\n",
    "    if len(current.children) > 1:\n",
    "        delete(current,word,index+1)\n",
    "        return False\n",
    "    if index == len(word) - 1:\n",
    "        if len(current.children) >= 1:\n",
    "            current.endOfString=False\n",
    "            return False\n",
    "        else:\n",
    "            root.children.pop(ch)\n",
    "            return True \n",
    "    if current.endOfString == True:\n",
    "        delete(current,word,index)\n",
    "        return False\n",
    "    candelete=delete(current,word,index+1)\n",
    "    if candelete == True:\n",
    "        root.children.pop(ch)\n",
    "        return True\n",
    "    else:\n",
    "        return False\n",
    "        \n",
    "    \n",
    "    \n",
    "    \n",
    "newTrie=Trie()\n",
    "newTrie.insert(\"app\")\n",
    "newTrie.insert(\"appl\")\n",
    "newTrie.search('app')\n",
    "delete(newTrie.root,\"app\",0)\n"
   ]
  },
  {
   "cell_type": "code",
   "execution_count": null,
   "metadata": {},
   "outputs": [],
   "source": []
  }
 ],
 "metadata": {
  "kernelspec": {
   "display_name": "Python 3",
   "language": "python",
   "name": "python3"
  },
  "language_info": {
   "codemirror_mode": {
    "name": "ipython",
    "version": 3
   },
   "file_extension": ".py",
   "mimetype": "text/x-python",
   "name": "python",
   "nbconvert_exporter": "python",
   "pygments_lexer": "ipython3",
   "version": "3.10.13"
  }
 },
 "nbformat": 4,
 "nbformat_minor": 2
}
