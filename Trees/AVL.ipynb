{
 "cells": [
  {
   "cell_type": "code",
   "execution_count": 4,
   "metadata": {},
   "outputs": [
    {
     "name": "stdout",
     "output_type": "stream",
     "text": [
      "70\n",
      "50\n"
     ]
    }
   ],
   "source": [
    "# AVL trees are self balancing binary search trees where the difference btw heights of left & right subtrees cannot be more than one for all the nodes.\n",
    "class AvlNode():\n",
    "    def __init__(self,data):\n",
    "        self.data=data\n",
    "        self.leftchild=None\n",
    "        self.rightchild=None\n",
    "        self.height=1\n",
    "def insertavl(rootnode,newnode):\n",
    "    if rootnode.data is None:\n",
    "        rootnode.data=newnode\n",
    "    elif newnode<rootnode.data:\n",
    "        if rootnode.leftchild is None:\n",
    "            rootnode.leftchild=AvlNode(newnode)\n",
    "        else:\n",
    "            insertavl(rootnode.leftchild,newnode)\n",
    "    else:\n",
    "        if rootnode.rightchild is None:\n",
    "            rootnode.rightchild=AvlNode(newnode)\n",
    "        else:\n",
    "            insertavl(rootnode.rightchild,newnode)\n",
    "    return 'Node inserted'\n",
    "        \n",
    "        \n",
    "        \n",
    "newBT=AvlNode(None)\n",
    "insertavl(newBT,70)\n",
    "insertavl(newBT,50)\n",
    "insertavl(newBT,90)\n",
    "insertavl(newBT,30)\n",
    "insertavl(newBT,60)\n",
    "insertavl(newBT,80)\n",
    "insertavl(newBT,100)\n",
    "insertavl(newBT,20)\n",
    "insertavl(newBT,40)\n",
    "print(newBT.data)\n",
    "print(newBT.leftchild.data)"
   ]
  },
  {
   "cell_type": "code",
   "execution_count": null,
   "metadata": {},
   "outputs": [],
   "source": []
  }
 ],
 "metadata": {
  "kernelspec": {
   "display_name": "Python 3",
   "language": "python",
   "name": "python3"
  },
  "language_info": {
   "codemirror_mode": {
    "name": "ipython",
    "version": 3
   },
   "file_extension": ".py",
   "mimetype": "text/x-python",
   "name": "python",
   "nbconvert_exporter": "python",
   "pygments_lexer": "ipython3",
   "version": "3.10.13"
  }
 },
 "nbformat": 4,
 "nbformat_minor": 2
}
