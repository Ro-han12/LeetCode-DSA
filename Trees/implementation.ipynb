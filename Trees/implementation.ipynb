{
 "cells": [
  {
   "cell_type": "code",
   "execution_count": 4,
   "metadata": {},
   "outputs": [
    {
     "name": "stdout",
     "output_type": "stream",
     "text": [
      "drinks\n",
      " cold\n",
      "  cola\n",
      "  fanta\n",
      " hot\n",
      "  tea\n",
      "  coffee\n",
      "\n"
     ]
    }
   ],
   "source": [
    "class Node:\n",
    "    def __init__(self,data,children=[]):\n",
    "        self.data=data \n",
    "        self.children=children\n",
    "    def __str__(self,level=0):\n",
    "        res= \" \" * level + str(self.data) + \"\\n\"\n",
    "        for child in self.children:\n",
    "            res +=child.__str__(level+1)\n",
    "        return res \n",
    "    def addchild(self,Node):\n",
    "        self.children.append(Node)\n",
    "tree=Node(\"drinks\",[])\n",
    "cold=Node(\"cold\",[])\n",
    "hot=Node(\"hot\",[])\n",
    "coffee=Node(\"coffee\",[])\n",
    "tea=Node(\"tea\",[])\n",
    "cola=Node(\"cola\",[])\n",
    "fanta=Node(\"fanta\",[])\n",
    "tree.addchild(cold)\n",
    "tree.addchild(hot)\n",
    "cold.addchild(cola)\n",
    "cold.addchild(fanta)\n",
    "hot.addchild(tea)\n",
    "hot.addchild(coffee)\n",
    "print(tree)\n",
    "        \n",
    "        "
   ]
  },
  {
   "cell_type": "code",
   "execution_count": 26,
   "metadata": {},
   "outputs": [
    {
     "name": "stdout",
     "output_type": "stream",
     "text": [
      "preorder\n",
      "drinks\n",
      "hot\n",
      "cold\n",
      "\n",
      "\n",
      "inorder\n",
      "hot\n",
      "drinks\n",
      "cold\n",
      "\n",
      "\n",
      "Post-order\n",
      "hot\n",
      "cold\n",
      "drinks\n",
      "\n",
      "\n",
      "level-order\n",
      "drinks hot cold \n",
      "\n",
      "search operation\n"
     ]
    },
    {
     "data": {
      "text/plain": [
       "True"
      ]
     },
     "execution_count": 26,
     "metadata": {},
     "output_type": "execute_result"
    }
   ],
   "source": [
    "#binary tree with linked-list\n",
    "\n",
    "class Node:\n",
    "    def __init__(self,data):\n",
    "        self.data=data\n",
    "        self.leftchild=None\n",
    "        self.rightchild=None\n",
    "newBT=Node(\"drinks\")\n",
    "leftchild=Node(\"hot\")\n",
    "rightchild=Node(\"cold\")\n",
    "newBT.leftchild=leftchild\n",
    "newBT.rightchild=rightchild\n",
    "\n",
    "def preorder(rootnode):\n",
    "    if not rootnode:\n",
    "        return \n",
    "    print(rootnode.data)\n",
    "    preorder(rootnode.leftchild)\n",
    "    preorder(rootnode.rightchild)\n",
    "print(\"preorder\")\n",
    "preorder(newBT)\n",
    "print('\\n')\n",
    "def inorder(rootnode):\n",
    "    if not rootnode:\n",
    "        return\n",
    "    inorder(rootnode.leftchild)\n",
    "    print(rootnode.data)\n",
    "    inorder(rootnode.rightchild)\n",
    "print(\"inorder\")\n",
    "inorder(newBT)\n",
    "print('\\n')\n",
    "def postorder(rootnode):\n",
    "    if not rootnode:\n",
    "        return \n",
    "    preorder(rootnode.leftchild)\n",
    "    preorder(rootnode.rightchild)\n",
    "    print(rootnode.data)\n",
    "print(\"Post-order\")\n",
    "postorder(newBT)\n",
    "print('\\n')\n",
    "\n",
    "def levelorder(rootnode):\n",
    "    q=[]\n",
    "    q.append(rootnode)\n",
    "    while len(q)!=0:\n",
    "        rootnode=q.pop(0)\n",
    "        print(rootnode.data, end=' ')\n",
    "        if rootnode.leftchild is not  None:\n",
    "            q.append(rootnode.leftchild)\n",
    "        if rootnode.rightchild is not None:\n",
    "            q.append(rootnode.rightchild)\n",
    "print(\"level-order\")\n",
    "levelorder(newBT)\n",
    "print('\\n')\n",
    "\n",
    "def searchBT(rootnode,nodevalue):\n",
    "    if not rootnode:\n",
    "        return \"BT DOESNOT EXIST\"\n",
    "    else:\n",
    "        q=[]\n",
    "        q.append(rootnode)\n",
    "        while len(q)!=0:\n",
    "            rootnode=q.pop(0)\n",
    "            if nodevalue == rootnode.data:\n",
    "                return True\n",
    "            if rootnode.leftchild is not None:\n",
    "                q.append(rootnode.leftchild)\n",
    "            if rootnode.rightchild is not None:\n",
    "                q.append(rootnode.rightchild)\n",
    "        return False\n",
    "print(\"search operation\")\n",
    "searchBT(newBT,'hot')\n",
    "        "
   ]
  },
  {
   "cell_type": "code",
   "execution_count": null,
   "metadata": {},
   "outputs": [],
   "source": []
  }
 ],
 "metadata": {
  "kernelspec": {
   "display_name": "Python 3",
   "language": "python",
   "name": "python3"
  },
  "language_info": {
   "codemirror_mode": {
    "name": "ipython",
    "version": 3
   },
   "file_extension": ".py",
   "mimetype": "text/x-python",
   "name": "python",
   "nbconvert_exporter": "python",
   "pygments_lexer": "ipython3",
   "version": "3.10.13"
  }
 },
 "nbformat": 4,
 "nbformat_minor": 2
}
