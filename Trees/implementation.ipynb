{
 "cells": [
  {
   "cell_type": "code",
   "execution_count": 4,
   "metadata": {},
   "outputs": [
    {
     "name": "stdout",
     "output_type": "stream",
     "text": [
      "drinks\n",
      " cold\n",
      "  cola\n",
      "  fanta\n",
      " hot\n",
      "  tea\n",
      "  coffee\n",
      "\n"
     ]
    }
   ],
   "source": [
    "class Node:\n",
    "    def __init__(self,data,children=[]):\n",
    "        self.data=data \n",
    "        self.children=children\n",
    "    def __str__(self,level=0):\n",
    "        res= \" \" * level + str(self.data) + \"\\n\"\n",
    "        for child in self.children:\n",
    "            res +=child.__str__(level+1)\n",
    "        return res \n",
    "    def addchild(self,Node):\n",
    "        self.children.append(Node)\n",
    "tree=Node(\"drinks\",[])\n",
    "cold=Node(\"cold\",[])\n",
    "hot=Node(\"hot\",[])\n",
    "coffee=Node(\"coffee\",[])\n",
    "tea=Node(\"tea\",[])\n",
    "cola=Node(\"cola\",[])\n",
    "fanta=Node(\"fanta\",[])\n",
    "tree.addchild(cold)\n",
    "tree.addchild(hot)\n",
    "cold.addchild(cola)\n",
    "cold.addchild(fanta)\n",
    "hot.addchild(tea)\n",
    "hot.addchild(coffee)\n",
    "print(tree)\n",
    "        \n",
    "        "
   ]
  },
  {
   "cell_type": "code",
   "execution_count": null,
   "metadata": {},
   "outputs": [],
   "source": []
  }
 ],
 "metadata": {
  "kernelspec": {
   "display_name": "Python 3",
   "language": "python",
   "name": "python3"
  },
  "language_info": {
   "codemirror_mode": {
    "name": "ipython",
    "version": 3
   },
   "file_extension": ".py",
   "mimetype": "text/x-python",
   "name": "python",
   "nbconvert_exporter": "python",
   "pygments_lexer": "ipython3",
   "version": "3.10.13"
  }
 },
 "nbformat": 4,
 "nbformat_minor": 2
}
