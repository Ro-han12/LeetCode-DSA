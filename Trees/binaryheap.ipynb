{
 "cells": [
  {
   "cell_type": "code",
   "execution_count": 2,
   "metadata": {},
   "outputs": [],
   "source": [
    "class Heap:\n",
    "    def __init__(self,size):\n",
    "        self.customList = (size+1) * [None]\n",
    "        self.heapsize=0\n",
    "        self.maxsize=size+1\n",
    "def peek(rootnode):\n",
    "    if not rootnode:\n",
    "        return\n",
    "    else:\n",
    "        return rootnode.customList[1] \n",
    "def sizeofheap(rootnode):\n",
    "    if not rootnode:\n",
    "        return \n",
    "    else:\n",
    "        return rootnode.heapsize\n",
    "def levelorder(rootnode):\n",
    "    if not rootnode:\n",
    "        return \n",
    "    else:\n",
    "        for i in range(1, rootnode.heapsize+1):\n",
    "            print(rootnode.customList[i])\n",
    "    \n",
    "binaryheap=Heap(5)"
   ]
  },
  {
   "cell_type": "code",
   "execution_count": null,
   "metadata": {},
   "outputs": [],
   "source": []
  }
 ],
 "metadata": {
  "kernelspec": {
   "display_name": "Python 3",
   "language": "python",
   "name": "python3"
  },
  "language_info": {
   "codemirror_mode": {
    "name": "ipython",
    "version": 3
   },
   "file_extension": ".py",
   "mimetype": "text/x-python",
   "name": "python",
   "nbconvert_exporter": "python",
   "pygments_lexer": "ipython3",
   "version": "3.10.13"
  }
 },
 "nbformat": 4,
 "nbformat_minor": 2
}
