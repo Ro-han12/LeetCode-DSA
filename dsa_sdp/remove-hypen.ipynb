{
 "cells": [
  {
   "cell_type": "code",
   "execution_count": 15,
   "metadata": {},
   "outputs": [
    {
     "data": {
      "text/plain": [
       "'bangaloreisnicecity'"
      ]
     },
     "execution_count": 15,
     "metadata": {},
     "output_type": "execute_result"
    }
   ],
   "source": [
    "import re \n",
    "text=\"bangalore-is-nice-city\"\n",
    "def removehypen(text):\n",
    "    return re.sub(r'[-]','',text)\n",
    "\n",
    "removehypen(text)\n",
    "                "
   ]
  },
  {
   "cell_type": "code",
   "execution_count": 52,
   "metadata": {},
   "outputs": [
    {
     "name": "stdout",
     "output_type": "stream",
     "text": [
      "---bangaloreisnicecity\n"
     ]
    }
   ],
   "source": [
    "def print_hyphens_first(text):\n",
    "    text_without_hyphens = text.replace('-', '')\n",
    "    output = '---' + text_without_hyphens\n",
    "    print(output)\n",
    "\n",
    "text = \"bangalore-is-nice-city\"\n",
    "print_hyphens_first(text)\n"
   ]
  },
  {
   "cell_type": "code",
   "execution_count": null,
   "metadata": {},
   "outputs": [],
   "source": []
  }
 ],
 "metadata": {
  "kernelspec": {
   "display_name": "Python 3",
   "language": "python",
   "name": "python3"
  },
  "language_info": {
   "codemirror_mode": {
    "name": "ipython",
    "version": 3
   },
   "file_extension": ".py",
   "mimetype": "text/x-python",
   "name": "python",
   "nbconvert_exporter": "python",
   "pygments_lexer": "ipython3",
   "version": "3.9.6"
  }
 },
 "nbformat": 4,
 "nbformat_minor": 2
}
