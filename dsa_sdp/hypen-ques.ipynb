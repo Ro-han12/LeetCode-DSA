{
 "cells": [
  {
   "cell_type": "code",
   "execution_count": 17,
   "metadata": {},
   "outputs": [
    {
     "name": "stdout",
     "output_type": "stream",
     "text": [
      "['-']\n",
      "['-']\n",
      "['-']\n"
     ]
    }
   ],
   "source": [
    "text=\"bangalore-is-nice-city\"\n",
    " import re \n",
    "def sorthypen(text):\n",
    "    for i in range(0, len(text)):\n",
    "        #print(text[i])\n",
    "        l=[]\n",
    "        if text[i] == '-':\n",
    "            l.append(text[i])\n",
    "            print(l)\n",
    "   \n",
    "text=\"bangalore-is-nice-city\"\n",
    "def removehypen(text):\n",
    "    return re.sub(r'[-]','',text)\n",
    "\n",
    "        \n",
    "sorthypen(text)\n"
   ]
  },
  {
   "cell_type": "code",
   "execution_count": null,
   "metadata": {},
   "outputs": [],
   "source": []
  },
  {
   "cell_type": "code",
   "execution_count": null,
   "metadata": {},
   "outputs": [],
   "source": []
  }
 ],
 "metadata": {
  "kernelspec": {
   "display_name": "Python 3",
   "language": "python",
   "name": "python3"
  },
  "language_info": {
   "codemirror_mode": {
    "name": "ipython",
    "version": 3
   },
   "file_extension": ".py",
   "mimetype": "text/x-python",
   "name": "python",
   "nbconvert_exporter": "python",
   "pygments_lexer": "ipython3",
   "version": "3.9.6"
  }
 },
 "nbformat": 4,
 "nbformat_minor": 2
}
