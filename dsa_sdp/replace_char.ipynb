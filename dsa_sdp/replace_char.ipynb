{
 "cells": [
  {
   "cell_type": "code",
   "execution_count": 12,
   "metadata": {},
   "outputs": [
    {
     "name": "stdout",
     "output_type": "stream",
     "text": [
      "ypthon\n"
     ]
    }
   ],
   "source": [
    "txt=str(input(\"enter a string\"))\n",
    "char1=str(input(\"enter a alphabet from string to replace\"))\n",
    "char2=str(input(\"enter a alphabet from string to be  replaced\"))\n",
    "new=\"\"\n",
    "for i in txt:\n",
    "    if i == char1:\n",
    "        new+=char2\n",
    "    elif i == char2:\n",
    "        new+=char1 \n",
    "    else:\n",
    "        new+=i\n",
    "print(new)\n",
    "        \n",
    "\n",
    "    "
   ]
  },
  {
   "cell_type": "code",
   "execution_count": null,
   "metadata": {},
   "outputs": [],
   "source": []
  }
 ],
 "metadata": {
  "kernelspec": {
   "display_name": "Python 3",
   "language": "python",
   "name": "python3"
  },
  "language_info": {
   "codemirror_mode": {
    "name": "ipython",
    "version": 3
   },
   "file_extension": ".py",
   "mimetype": "text/x-python",
   "name": "python",
   "nbconvert_exporter": "python",
   "pygments_lexer": "ipython3",
   "version": "3.9.6"
  }
 },
 "nbformat": 4,
 "nbformat_minor": 2
}
