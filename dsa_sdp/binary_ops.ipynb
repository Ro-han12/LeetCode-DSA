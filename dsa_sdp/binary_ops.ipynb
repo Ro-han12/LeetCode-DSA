{
 "cells": [
  {
   "cell_type": "code",
   "execution_count": 7,
   "metadata": {},
   "outputs": [
    {
     "name": "stdout",
     "output_type": "stream",
     "text": [
      "0\n"
     ]
    }
   ],
   "source": [
    "def And(str1, str2):\n",
    "    if str1 == '0' and str2 == '0':\n",
    "        return '0'\n",
    "    elif str1 == '0' and str2 == '1':\n",
    "        return '0'\n",
    "    elif str1 == '1' and str2 == '0':\n",
    "        return '0'\n",
    "    elif str1 == '1' and str2 == '1':\n",
    "        return '1'\n",
    "\n",
    "def OR(str1, str2):\n",
    "    if str1 == '0' and str2 == '0':\n",
    "        return '0'\n",
    "    elif str1 == '0' and str2 == '1':\n",
    "        return '1'\n",
    "    elif str1 == '1' and str2 == '0':\n",
    "        return '1'\n",
    "    elif str1 == '1' and str2 == '1':\n",
    "        return '1'\n",
    "\n",
    "def XOR(str1, str2):\n",
    "    if str1 == '0' and str2 == '0':\n",
    "        return '1'\n",
    "    elif str1 == '0' and str2 == '1':\n",
    "        return '0'\n",
    "    elif str1 == '1' and str2 == '0':\n",
    "        return '0'\n",
    "    elif str1 == '1' and str2 == '1':\n",
    "        return '1'\n",
    "\n",
    "str1 = input(\"Enter binary number 0 or 1: \")\n",
    "str2 = input(\"Enter binary number 0 or 1: \")\n",
    "choice = input(\"Choose the operation to perform (A -> And, B -> OR, C -> XOR): \")\n",
    "\n",
    "if choice == 'A':\n",
    "    print(And(str1, str2))\n",
    "elif choice == 'B':\n",
    "    print(OR(str1, str2))\n",
    "elif choice == 'C':\n",
    "    print(XOR(str1, str2))\n",
    "else:\n",
    "    print(\"Invalid choice.\")\n"
   ]
  },
  {
   "cell_type": "code",
   "execution_count": null,
   "metadata": {},
   "outputs": [],
   "source": []
  }
 ],
 "metadata": {
  "kernelspec": {
   "display_name": "Python 3",
   "language": "python",
   "name": "python3"
  },
  "language_info": {
   "codemirror_mode": {
    "name": "ipython",
    "version": 3
   },
   "file_extension": ".py",
   "mimetype": "text/x-python",
   "name": "python",
   "nbconvert_exporter": "python",
   "pygments_lexer": "ipython3",
   "version": "3.9.6"
  }
 },
 "nbformat": 4,
 "nbformat_minor": 2
}
