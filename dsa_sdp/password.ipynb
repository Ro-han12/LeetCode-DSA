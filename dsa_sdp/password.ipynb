{
 "cells": [
  {
   "cell_type": "code",
   "execution_count": 11,
   "metadata": {},
   "outputs": [
    {
     "data": {
      "text/plain": [
       "(False, 'Password must not contain spaces.')"
      ]
     },
     "execution_count": 11,
     "metadata": {},
     "output_type": "execute_result"
    }
   ],
   "source": [
    "def checkpasword(password):\n",
    "    if len(password) <4: \n",
    "        return 'Invalid password'\n",
    "    elif not any(char.isupper() for char in password):\n",
    "        return False, \"Password must contain at least one uppercase letter.\"\n",
    "    elif ' ' or '/' in password:\n",
    "        return False, \"Password must not contain spaces.\"\n",
    "    if password[0].isdigit():\n",
    "        return False, \"Password must not start with a digit.\"\n",
    "    return True, \"Password meets all criteria.\"\n",
    "\n",
    "        \n",
    "            \n",
    "password=input(\"enter a psd\")\n",
    "checkpasword(password)"
   ]
  },
  {
   "cell_type": "code",
   "execution_count": null,
   "metadata": {},
   "outputs": [],
   "source": []
  }
 ],
 "metadata": {
  "kernelspec": {
   "display_name": "Python 3",
   "language": "python",
   "name": "python3"
  },
  "language_info": {
   "codemirror_mode": {
    "name": "ipython",
    "version": 3
   },
   "file_extension": ".py",
   "mimetype": "text/x-python",
   "name": "python",
   "nbconvert_exporter": "python",
   "pygments_lexer": "ipython3",
   "version": "3.9.6"
  }
 },
 "nbformat": 4,
 "nbformat_minor": 2
}
