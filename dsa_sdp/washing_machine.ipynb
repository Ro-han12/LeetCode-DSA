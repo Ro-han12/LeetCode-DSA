{
 "cells": [
  {
   "cell_type": "code",
   "execution_count": 18,
   "metadata": {},
   "outputs": [
    {
     "name": "stdout",
     "output_type": "stream",
     "text": [
      "low level workload\n",
      "estimated time is 25 mins\n"
     ]
    }
   ],
   "source": [
    "def estimate(weight):\n",
    "    if weight<0:\n",
    "        print(\"invalid input\")\n",
    "    if weight==0:\n",
    "        print(\"estimated time is 0 mins\")\n",
    "    elif weight>=0 and weight<=2000:\n",
    "        print(\"low level workload\")\n",
    "        print(\"estimated time is 25 mins\")\n",
    "    elif weight>=2001 and weight<=4000:\n",
    "        print(\"medium level workload\")\n",
    "        print(\"estimated time is 35 mins\")\n",
    "    elif weight>=4000 and weight<7000:\n",
    "        print(\"high level workload\")\n",
    "        print(\"estimated time is 45 mins\")\n",
    "    elif weight>=7000:\n",
    "        print(\"overloaded\")\n",
    "        \n",
    "weight=int(input(\"enter the  weight of the object in grams:\"))\n",
    "estimate(weight)"
   ]
  },
  {
   "cell_type": "code",
   "execution_count": null,
   "metadata": {},
   "outputs": [],
   "source": [
    "rounds=int(input(\"enter the round number performed\"))\n",
    "\n",
    "if rounds==1:\n",
    "    trainee1=int(input(\"enter value of oxygen level trainee 1\"))\n",
    "    trainee2=int(input(\"enter value of oxygen level trainne 2\"))\n",
    "    trainee3=int(input(\"enter value of oxygen level trainee 3\"))\n",
    "    \n",
    "elif rounds==2:\n",
    "    trainee1=int(input(\"enter value of oxygen level trainee 1\"))\n",
    "    trainee2=int(input(\"enter value of oxygen level trainne 2\"))\n",
    "    trainee3=int(input(\"enter value of oxygen level trainee 3\"))\n",
    "elif rounds==3:\n",
    "    trainee1=int(input(\"enter value of oxygen level trainee 1\"))\n",
    "    trainee2=int(input(\"enter value of oxygen level trainne 2\"))\n",
    "    trainee3=int(input(\"enter value of oxygen level trainee 3\"))"
   ]
  },
  {
   "cell_type": "code",
   "execution_count": 1,
   "metadata": {},
   "outputs": [
    {
     "name": "stdout",
     "output_type": "stream",
     "text": [
      "Round 1:\n"
     ]
    }
   ],
   "source": [
    "def main():\n",
    "    trainees = []\n",
    "    for i in range(3):\n",
    "        round_oxygen = []\n",
    "        print(f\"Round {i+1}:\")\n",
    "        for j in range(3):\n",
    "            oxygen = int(input(f\"Oxygen value of trainee {j+1}: \"))\n",
    "            if oxygen < 1 or oxygen > 100:\n",
    "                print(\"INVALID INPUT\")\n",
    "                return\n",
    "            round_oxygen.append(oxygen)\n",
    "        trainees.append(round_oxygen)\n",
    "\n",
    "    max_average = max(sum(round_oxygen) / len(round_oxygen) for round_oxygen in trainees)\n",
    "    most_fit_trainees = [i + 1 for i, round_oxygen in enumerate(trainees) if sum(round_oxygen) / len(round_oxygen) == max_average]\n",
    "\n",
    "    if max_average < 70:\n",
    "        print(\"All trainees are unfit.\")\n",
    "    else:\n",
    "        for trainee in most_fit_trainees:\n",
    "            print(f\"Trainee Number: {trainee}\")\n",
    "        print(f\"Highest Average Oxygen Level: {max_average}\")\n",
    "\n",
    "if __name__ == \"__main__\":\n",
    "    main()\n"
   ]
  },
  {
   "cell_type": "code",
   "execution_count": null,
   "metadata": {},
   "outputs": [],
   "source": []
  }
 ],
 "metadata": {
  "kernelspec": {
   "display_name": "Python 3",
   "language": "python",
   "name": "python3"
  },
  "language_info": {
   "codemirror_mode": {
    "name": "ipython",
    "version": 3
   },
   "file_extension": ".py",
   "mimetype": "text/x-python",
   "name": "python",
   "nbconvert_exporter": "python",
   "pygments_lexer": "ipython3",
   "version": "3.9.6"
  }
 },
 "nbformat": 4,
 "nbformat_minor": 2
}
