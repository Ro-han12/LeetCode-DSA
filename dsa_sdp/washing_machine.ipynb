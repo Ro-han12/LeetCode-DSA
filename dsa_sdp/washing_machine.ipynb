{
 "cells": [
  {
   "cell_type": "code",
   "execution_count": 18,
   "metadata": {},
   "outputs": [
    {
     "name": "stdout",
     "output_type": "stream",
     "text": [
      "low level workload\n",
      "estimated time is 25 mins\n"
     ]
    }
   ],
   "source": [
    "def estimate(weight):\n",
    "    if weight<0:\n",
    "        print(\"invalid input\")\n",
    "    if weight==0:\n",
    "        print(\"estimated time is 0 mins\")\n",
    "    elif weight>=0 and weight<=2000:\n",
    "        print(\"low level workload\")\n",
    "        print(\"estimated time is 25 mins\")\n",
    "    elif weight>=2001 and weight<=4000:\n",
    "        print(\"medium level workload\")\n",
    "        print(\"estimated time is 35 mins\")\n",
    "    elif weight>=4000 and weight<7000:\n",
    "        print(\"high level workload\")\n",
    "        print(\"estimated time is 45 mins\")\n",
    "    elif weight>=7000:\n",
    "        print(\"overloaded\")\n",
    "        \n",
    "weight=int(input(\"enter the  weight of the object in grams:\"))\n",
    "estimate(weight)"
   ]
  },
  {
   "cell_type": "code",
   "execution_count": null,
   "metadata": {},
   "outputs": [],
   "source": []
  }
 ],
 "metadata": {
  "kernelspec": {
   "display_name": "Python 3",
   "language": "python",
   "name": "python3"
  },
  "language_info": {
   "codemirror_mode": {
    "name": "ipython",
    "version": 3
   },
   "file_extension": ".py",
   "mimetype": "text/x-python",
   "name": "python",
   "nbconvert_exporter": "python",
   "pygments_lexer": "ipython3",
   "version": "3.9.6"
  }
 },
 "nbformat": 4,
 "nbformat_minor": 2
}
