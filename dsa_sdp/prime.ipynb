{
 "cells": [
  {
   "cell_type": "code",
   "execution_count": 11,
   "metadata": {},
   "outputs": [
    {
     "name": "stdout",
     "output_type": "stream",
     "text": [
      "4 is not prime\n"
     ]
    }
   ],
   "source": [
    "\n",
    "def isprime(num):\n",
    "    num=int(input(\"enter a number \"))\n",
    "    if num<0:\n",
    "        print(\"enter number above 2\")\n",
    "    elif num>1:\n",
    "        for i in range(2,num):\n",
    "            if num%i==0:\n",
    "                print(f\"{num} is not prime\")\n",
    "                break\n",
    "            else:\n",
    "                print(f\"{num} is  prime\")\n",
    "\n",
    "isprime(num)\n",
    "    "
   ]
  },
  {
   "cell_type": "code",
   "execution_count": null,
   "metadata": {},
   "outputs": [],
   "source": []
  }
 ],
 "metadata": {
  "kernelspec": {
   "display_name": "Python 3",
   "language": "python",
   "name": "python3"
  },
  "language_info": {
   "codemirror_mode": {
    "name": "ipython",
    "version": 3
   },
   "file_extension": ".py",
   "mimetype": "text/x-python",
   "name": "python",
   "nbconvert_exporter": "python",
   "pygments_lexer": "ipython3",
   "version": "3.9.6"
  }
 },
 "nbformat": 4,
 "nbformat_minor": 2
}
